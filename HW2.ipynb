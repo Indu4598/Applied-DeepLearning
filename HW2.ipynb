{
 "cells": [
  {
   "cell_type": "markdown",
   "metadata": {},
   "source": [
    "## Homework 2\n",
    "\n",
    "Name: Indumathi Desabathina\n",
    "<br>\n",
    "ID: u1265976"
   ]
  },
  {
   "cell_type": "markdown",
   "metadata": {},
   "source": [
    "## Question1"
   ]
  },
  {
   "cell_type": "markdown",
   "metadata": {},
   "source": [
    "####  Problem Satement"
   ]
  },
  {
   "cell_type": "markdown",
   "metadata": {},
   "source": [
    "The aim is to distinguish between the presence and absence of cardiac arrhythmia and to classify it in one of the 16 groups. <br>Class 01 refers to 'normal' ECG.<br>\n",
    "Classes 02 to 15 refers to different classes of arrhythmia .<br>\n",
    "Class 16 refers to the rest of unclassified ones. <br>\n",
    "\n",
    "\n",
    "The motto of the project is to built differnet machine learning models and neural netwoek to perfomr the classification."
   ]
  },
  {
   "cell_type": "markdown",
   "metadata": {},
   "source": [
    "Dataset : https://archive.ics.uci.edu/ml/datasets/Arrhythmia"
   ]
  },
  {
   "cell_type": "markdown",
   "metadata": {},
   "source": [
    "#### Dataset Specification"
   ]
  },
  {
   "cell_type": "markdown",
   "metadata": {},
   "source": [
    "This database contains 279 attributes, 206 of which are linear valued and the rest are nominal.\n"
   ]
  },
  {
   "cell_type": "markdown",
   "metadata": {},
   "source": [
    "1 Age: Age in years , linear <br>\n",
    "2 Sex: Sex (0 = male; 1 = female) , nominal <br>\n",
    "3 Height: Height in centimeters , linear <br>\n",
    "4 Weight: Weight in kilograms , linear <br>\n",
    "5 QRS duration: Average of QRS duration in msec., linear<br>\n",
    "6 P-R interval: Average duration between onset of P and Q waves in msec., linear <br>\n",
    "7 Q-T interval: Average duration between onset of Q and offset of T waves in msec., linear <br>\n",
    "8 T interval: Average duration of T wave in msec., linear <br>\n",
    "9 P interval: Average duration of P wave in msec., linear <br>\n",
    "Vector angles in degrees on front plane of:, linear <br>\n",
    "10 QRS <br>\n",
    "11 T <br>\n",
    "12 P <br>\n",
    "13 QRST <br>\n",
    "14 J<br>\n",
    "\n",
    "15 Heart rate: Number of heart beats per minute ,linear\n",
    "<br>\n",
    "Of channel DI:\n",
    "Average width, in msec., of: linear\n",
    "16 Q wave <br>\n",
    "17 R wave <br>\n",
    "18 S wave <br>\n",
    "19 R' wave, small peak just after R <br>\n",
    "20 S' wave <br>\n",
    "<br>\n",
    "21 Number of intrinsic deflections, linear\n",
    "<br>\n",
    "22 Existence of ragged R wave, nominal\n",
    "<br>\n",
    "23 Existence of diphasic derivation of R wave, nominal\n",
    "<br>\n",
    "24 Existence of ragged P wave, nominal\n",
    "<br>\n",
    "25 Existence of diphasic derivation of P wave, nominal\n",
    "<br>\n",
    "26 Existence of ragged T wave, nominal\n",
    "<br>\n",
    "27 Existence of diphasic derivation of T wave, nominal\n",
    "<br>\n",
    "Of channel DII:\n",
    "<br>\n",
    "28 .. 39 (similar to 16 .. 27 of channel DI)\n",
    "<br>\n",
    "Of channels DIII:\n",
    "<br>\n",
    "40 .. 51\n",
    "<br>\n",
    "Of channel AVR:\n",
    "52 .. 63\n",
    "<br>\n",
    "Of channel AVL:\n",
    "64 .. 75\n",
    "<br>\n",
    "Of channel AVF:\n",
    "76 .. 87\n",
    "<br>\n",
    "Of channel V1:\n",
    "88 .. 99\n",
    "<br>\n",
    "Of channel V2:\n",
    "100 .. 111\n",
    "<br>\n",
    "Of channel V3:\n",
    "112 .. 123\n",
    "<br>\n",
    "Of channel V4:\n",
    "124 .. 135\n",
    "<br>\n",
    "Of channel V5:\n",
    "136 .. 147\n",
    "<br>\n",
    "Of channel V6:\n",
    "148 .. 159\n",
    "\n",
    "<br>\n",
    "Of channel DI:\n",
    "Amplitude , * 0.1 milivolt, of\n",
    "\n",
    "160 JJ wave, linear <br>\n",
    "161 Q wave, linear <br>\n",
    "162 R wave, linear <br>\n",
    "163 S wave, linear <br>\n",
    "164 R' wave, linear <br>\n",
    "165 S' wave, linear <br>\n",
    "166 P wave, linear <br>\n",
    "167 T wave, linear <br>\n",
    "<br>\n",
    "168 QRSA , Sum of areas of all segments divided by 10, ( Area= width * height / 2 ), linear\n",
    "169 QRSTA = QRSA + 0.5 * width of T wave * 0.1 * height of T wave. (If T is diphasic then the bigger segment is considered), linear\n",
    "\n",
    "<br>\n",
    "Of channel DII:\n",
    "170 .. 179\n",
    "<br>\n",
    "Of channel DIII:\n",
    "180 .. 189\n",
    "<br>\n",
    "Of channel AVR:\n",
    "190 .. 199\n",
    "<br>\n",
    "Of channel AVL:\n",
    "200 .. 209\n",
    "<br>\n",
    "Of channel AVF:\n",
    "210 .. 219\n",
    "<br>\n",
    "Of channel V1:\n",
    "220 .. 229\n",
    "<br>\n",
    "Of channel V2:\n",
    "230 .. 239\n",
    "<br>\n",
    "Of channel V3:\n",
    "240 .. 249\n",
    "<br>\n",
    "Of channel V4:\n",
    "250 .. 259\n",
    "<br>\n",
    "Of channel V5:\n",
    "260 .. 269\n",
    "<br>\n",
    "Of channel V6:\n",
    "270 .. 279"
   ]
  },
  {
   "cell_type": "markdown",
   "metadata": {},
   "source": [
    "#### Project Milestone"
   ]
  },
  {
   "cell_type": "markdown",
   "metadata": {},
   "source": [
    "Week 1: Exploratory Analysis <br>\n",
    "week 2: Perform Lietreature Review <br>\n",
    "Week 3 and 4: Inspect different Validation Techniques <br>\n",
    "week 5 and 6. Build Machine Learning Models <br>\n",
    "Week 7 and 8: Develop Neural network with different architecture <br>\n",
    "week 9: Compare the results of Machine Learning and Deep Learning Models.(Documentation and presentation of results)<br>"
   ]
  },
  {
   "cell_type": "markdown",
   "metadata": {},
   "source": [
    "## Question2"
   ]
  },
  {
   "cell_type": "markdown",
   "metadata": {},
   "source": [
    "#### For the flow chart please open the pdf in the present directory."
   ]
  },
  {
   "cell_type": "code",
   "execution_count": 1,
   "metadata": {},
   "outputs": [
    {
     "name": "stderr",
     "output_type": "stream",
     "text": [
      "Using TensorFlow backend.\n"
     ]
    }
   ],
   "source": [
    "#Import Libraries\n",
    "\n",
    "import pandas as pd\n",
    "import numpy as np\n",
    "import matplotlib.pyplot as plt\n",
    "\n",
    "\n",
    "from sklearn.model_selection import train_test_split\n",
    "from sklearn.metrics import f1_score\n",
    "from sklearn.preprocessing import MinMaxScaler,StandardScaler \n",
    "from sklearn.pipeline import Pipeline\n",
    "from sklearn.compose import ColumnTransformer\n",
    "from sklearn.metrics import roc_curve, auc, roc_auc_score\n",
    "\n",
    "from sklearn.linear_model import LogisticRegression\n",
    "from sklearn.neighbors import KNeighborsClassifier\n",
    "from sklearn.ensemble import RandomForestClassifier\n",
    "\n",
    "from imblearn.over_sampling import RandomOverSampler\n",
    "from imblearn.over_sampling import SMOTE \n",
    "\n",
    "\n",
    "\n",
    "import warnings\n",
    "warnings.filterwarnings('ignore')"
   ]
  },
  {
   "cell_type": "code",
   "execution_count": 2,
   "metadata": {},
   "outputs": [],
   "source": [
    "#Load the Data\n",
    "data = pd.read_csv('hepatitis.data',header=None)"
   ]
  },
  {
   "cell_type": "code",
   "execution_count": 3,
   "metadata": {},
   "outputs": [],
   "source": [
    "data.replace('?',np.nan,inplace=True)"
   ]
  },
  {
   "cell_type": "code",
   "execution_count": 4,
   "metadata": {},
   "outputs": [],
   "source": [
    "X = data[data.columns[1:20]]\n",
    "y = data[data.columns[0]]"
   ]
  },
  {
   "cell_type": "code",
   "execution_count": 5,
   "metadata": {},
   "outputs": [],
   "source": [
    "#converting to numeric or continus to float\n",
    "\n",
    "cat_var = [2,3,4,5,6,7,8,9,10,11,12,13,19]\n",
    "num_var = [1,14,15,16,17,18]"
   ]
  },
  {
   "cell_type": "code",
   "execution_count": 6,
   "metadata": {},
   "outputs": [],
   "source": [
    "for i in num_var:\n",
    "    X.loc[:,i] = X.loc[:,i].astype(float)\n",
    "for i in cat_var:\n",
    "    X.loc[:,i] = X.loc[:,i].astype(str)"
   ]
  },
  {
   "cell_type": "code",
   "execution_count": 7,
   "metadata": {},
   "outputs": [],
   "source": [
    "X_train1, X_test, y_train1, y_test = train_test_split(X, y, test_size=0.20, random_state=42)\n",
    "X_train, X_val, y_train, y_val = train_test_split(X_train1, y_train1, test_size=0.25, random_state=42)"
   ]
  },
  {
   "cell_type": "code",
   "execution_count": 8,
   "metadata": {},
   "outputs": [],
   "source": [
    "train_mean={}\n",
    "train_mode={}\n",
    "for i in num_var:\n",
    "    train_mean[i] = X_train[i].mean()\n",
    "for i in cat_var:\n",
    "    train_mode[i] = X_train[i].mode()[0] "
   ]
  },
  {
   "cell_type": "code",
   "execution_count": 9,
   "metadata": {},
   "outputs": [],
   "source": [
    "#Replacing with mean amd mode in train\n",
    "\n",
    "for i in num_var:\n",
    "    X_train.loc[:,i].replace(np.nan,train_mean[i],inplace= True)\n",
    "for i in cat_var:\n",
    "    X_train.loc[:,i].replace(\"nan\",train_mode[i],inplace= True)"
   ]
  },
  {
   "cell_type": "code",
   "execution_count": 10,
   "metadata": {},
   "outputs": [],
   "source": [
    "#Replacing with train mean and mode in test and validation\n",
    "\n",
    "for i in num_var:\n",
    "    X_val.loc[:,i].replace(np.nan,train_mean[i],inplace= True)\n",
    "    X_test.loc[:,i].replace(np.nan,train_mean[i],inplace= True)\n",
    "    \n",
    "    \n",
    "for i in cat_var:\n",
    "    X_val.loc[:,i].replace(\"nan\",train_mode[i],inplace= True)\n",
    "    X_test.loc[:,i].replace(\"nan\",train_mode[i],inplace= True)"
   ]
  },
  {
   "cell_type": "code",
   "execution_count": 11,
   "metadata": {},
   "outputs": [],
   "source": [
    "X_train=pd.get_dummies(X_train)\n",
    "X_val=pd.get_dummies(X_val)\n",
    "X_test=pd.get_dummies(X_test)"
   ]
  },
  {
   "cell_type": "code",
   "execution_count": 12,
   "metadata": {},
   "outputs": [],
   "source": [
    "clf = StandardScaler()"
   ]
  },
  {
   "cell_type": "code",
   "execution_count": 13,
   "metadata": {},
   "outputs": [
    {
     "data": {
      "text/plain": [
       "StandardScaler(copy=True, with_mean=True, with_std=True)"
      ]
     },
     "execution_count": 13,
     "metadata": {},
     "output_type": "execute_result"
    }
   ],
   "source": [
    "clf.fit(X_train)"
   ]
  },
  {
   "cell_type": "code",
   "execution_count": 14,
   "metadata": {},
   "outputs": [],
   "source": [
    "X_train = pd.DataFrame(clf.transform(X_train))"
   ]
  },
  {
   "cell_type": "code",
   "execution_count": 15,
   "metadata": {},
   "outputs": [],
   "source": [
    "X_val = pd.DataFrame(clf.transform(X_val))"
   ]
  },
  {
   "cell_type": "code",
   "execution_count": 16,
   "metadata": {},
   "outputs": [],
   "source": [
    "X_test = pd.DataFrame(clf.transform(X_test))"
   ]
  },
  {
   "cell_type": "markdown",
   "metadata": {},
   "source": [
    "# RandomOverSampler"
   ]
  },
  {
   "cell_type": "code",
   "execution_count": 17,
   "metadata": {},
   "outputs": [],
   "source": [
    "ros = RandomOverSampler(random_state=42)\n",
    "X_res, y_res = ros.fit_resample(X_train, y_train)"
   ]
  },
  {
   "cell_type": "markdown",
   "metadata": {},
   "source": [
    "### KNN classifier -RandomOverSampler"
   ]
  },
  {
   "cell_type": "code",
   "execution_count": 18,
   "metadata": {},
   "outputs": [
    {
     "data": {
      "text/plain": [
       "KNeighborsClassifier(algorithm='auto', leaf_size=30, metric='minkowski',\n",
       "                     metric_params=None, n_jobs=None, n_neighbors=3, p=2,\n",
       "                     weights='uniform')"
      ]
     },
     "execution_count": 18,
     "metadata": {},
     "output_type": "execute_result"
    }
   ],
   "source": [
    "#KNN classifier\n",
    "model = KNeighborsClassifier(n_neighbors=3)  # Load our classifier\n",
    "model.fit(X_res, y_res)"
   ]
  },
  {
   "cell_type": "code",
   "execution_count": 19,
   "metadata": {},
   "outputs": [
    {
     "name": "stdout",
     "output_type": "stream",
     "text": [
      "71.42857142857143\n"
     ]
    }
   ],
   "source": [
    "prediction_knn = model.predict(X_val)  # Make predictions with our trained model on the test data \n",
    "print(f1_score(y_val, prediction_knn) * 100)"
   ]
  },
  {
   "cell_type": "markdown",
   "metadata": {},
   "source": [
    "### Logistic Regression - RandomOverSampler"
   ]
  },
  {
   "cell_type": "code",
   "execution_count": 20,
   "metadata": {},
   "outputs": [
    {
     "data": {
      "text/plain": [
       "LogisticRegression(C=100000.0, class_weight=None, dual=False,\n",
       "                   fit_intercept=True, intercept_scaling=1, l1_ratio=None,\n",
       "                   max_iter=100, multi_class='warn', n_jobs=None, penalty='l2',\n",
       "                   random_state=None, solver='liblinear', tol=0.0001, verbose=0,\n",
       "                   warm_start=False)"
      ]
     },
     "execution_count": 20,
     "metadata": {},
     "output_type": "execute_result"
    }
   ],
   "source": [
    "logreg = LogisticRegression(C=1e5,solver='liblinear')\n",
    "logreg.fit(X_res, y_res)"
   ]
  },
  {
   "cell_type": "code",
   "execution_count": 21,
   "metadata": {},
   "outputs": [
    {
     "name": "stdout",
     "output_type": "stream",
     "text": [
      "50.000000000000014\n"
     ]
    }
   ],
   "source": [
    "prediction_lr = logreg.predict(X_val)\n",
    "print(f1_score(y_val, prediction_lr) * 100)"
   ]
  },
  {
   "cell_type": "markdown",
   "metadata": {},
   "source": [
    "### RandomForest - RandomOverSampler"
   ]
  },
  {
   "cell_type": "code",
   "execution_count": 22,
   "metadata": {},
   "outputs": [
    {
     "data": {
      "text/plain": [
       "RandomForestClassifier(bootstrap=True, class_weight=None, criterion='gini',\n",
       "                       max_depth=2, max_features='auto', max_leaf_nodes=None,\n",
       "                       min_impurity_decrease=0.0, min_impurity_split=None,\n",
       "                       min_samples_leaf=1, min_samples_split=2,\n",
       "                       min_weight_fraction_leaf=0.0, n_estimators=10,\n",
       "                       n_jobs=None, oob_score=False, random_state=0, verbose=0,\n",
       "                       warm_start=False)"
      ]
     },
     "execution_count": 22,
     "metadata": {},
     "output_type": "execute_result"
    }
   ],
   "source": [
    "clf = RandomForestClassifier(max_depth=2, random_state=0)\n",
    "clf.fit(X_res, y_res)"
   ]
  },
  {
   "cell_type": "code",
   "execution_count": 23,
   "metadata": {},
   "outputs": [
    {
     "name": "stdout",
     "output_type": "stream",
     "text": [
      "66.66666666666666\n"
     ]
    }
   ],
   "source": [
    "prediction_rf = clf.predict(X_val)\n",
    "print(f1_score(y_val, prediction_rf) * 100)"
   ]
  },
  {
   "cell_type": "markdown",
   "metadata": {},
   "source": [
    "# SMOTE"
   ]
  },
  {
   "cell_type": "code",
   "execution_count": 24,
   "metadata": {},
   "outputs": [],
   "source": [
    "sm = SMOTE(random_state=42)\n",
    "X_res_s, y_res_s = sm.fit_resample(X_train, y_train)"
   ]
  },
  {
   "cell_type": "markdown",
   "metadata": {},
   "source": [
    "### KNN Classifier -SMOTE"
   ]
  },
  {
   "cell_type": "code",
   "execution_count": 25,
   "metadata": {},
   "outputs": [
    {
     "data": {
      "text/plain": [
       "KNeighborsClassifier(algorithm='auto', leaf_size=30, metric='minkowski',\n",
       "                     metric_params=None, n_jobs=None, n_neighbors=3, p=2,\n",
       "                     weights='uniform')"
      ]
     },
     "execution_count": 25,
     "metadata": {},
     "output_type": "execute_result"
    }
   ],
   "source": [
    "#KNN classifier\n",
    "model_2 = KNeighborsClassifier(n_neighbors=3)  # Load our classifier\n",
    "model_2.fit(X_res_s, y_res_s)"
   ]
  },
  {
   "cell_type": "code",
   "execution_count": 26,
   "metadata": {},
   "outputs": [
    {
     "name": "stdout",
     "output_type": "stream",
     "text": [
      "58.82352941176471\n"
     ]
    }
   ],
   "source": [
    "prediction_knn_s = model_2.predict(X_val)  # Make predictions with our trained model on the test data \n",
    "print(f1_score(y_val, prediction_knn_s) * 100)"
   ]
  },
  {
   "cell_type": "markdown",
   "metadata": {},
   "source": [
    "### Logistic Regression-SMOTE"
   ]
  },
  {
   "cell_type": "code",
   "execution_count": 27,
   "metadata": {},
   "outputs": [
    {
     "data": {
      "text/plain": [
       "LogisticRegression(C=100000.0, class_weight=None, dual=False,\n",
       "                   fit_intercept=True, intercept_scaling=1, l1_ratio=None,\n",
       "                   max_iter=100, multi_class='warn', n_jobs=None, penalty='l2',\n",
       "                   random_state=None, solver='liblinear', tol=0.0001, verbose=0,\n",
       "                   warm_start=False)"
      ]
     },
     "execution_count": 27,
     "metadata": {},
     "output_type": "execute_result"
    }
   ],
   "source": [
    "logreg_2 = LogisticRegression(C=1e5,solver='liblinear')\n",
    "logreg_2.fit(X_res_s, y_res_s)"
   ]
  },
  {
   "cell_type": "code",
   "execution_count": 28,
   "metadata": {},
   "outputs": [
    {
     "name": "stdout",
     "output_type": "stream",
     "text": [
      "50.000000000000014\n"
     ]
    }
   ],
   "source": [
    "prediction_lr_s = logreg_2.predict(X_val)\n",
    "print(f1_score(y_val, prediction_lr_s) * 100)"
   ]
  },
  {
   "cell_type": "markdown",
   "metadata": {},
   "source": [
    "### Random Forest - SMOTE"
   ]
  },
  {
   "cell_type": "code",
   "execution_count": 29,
   "metadata": {},
   "outputs": [
    {
     "data": {
      "text/plain": [
       "RandomForestClassifier(bootstrap=True, class_weight=None, criterion='gini',\n",
       "                       max_depth=2, max_features='auto', max_leaf_nodes=None,\n",
       "                       min_impurity_decrease=0.0, min_impurity_split=None,\n",
       "                       min_samples_leaf=1, min_samples_split=2,\n",
       "                       min_weight_fraction_leaf=0.0, n_estimators=10,\n",
       "                       n_jobs=None, oob_score=False, random_state=0, verbose=0,\n",
       "                       warm_start=False)"
      ]
     },
     "execution_count": 29,
     "metadata": {},
     "output_type": "execute_result"
    }
   ],
   "source": [
    "clf_2 = RandomForestClassifier(max_depth=2, random_state=0)\n",
    "clf_2.fit(X_res_s, y_res_s)"
   ]
  },
  {
   "cell_type": "code",
   "execution_count": 30,
   "metadata": {},
   "outputs": [
    {
     "name": "stdout",
     "output_type": "stream",
     "text": [
      "57.14285714285714\n"
     ]
    }
   ],
   "source": [
    "prediction_rf_s = clf_2.predict(X_val)\n",
    "print(f1_score(y_val, prediction_rf_s) * 100)"
   ]
  },
  {
   "cell_type": "markdown",
   "metadata": {},
   "source": [
    "## ROC of RandomOverSample"
   ]
  },
  {
   "cell_type": "code",
   "execution_count": 31,
   "metadata": {},
   "outputs": [],
   "source": [
    "prediction_random = model_2.predict(X_test)"
   ]
  },
  {
   "cell_type": "code",
   "execution_count": 32,
   "metadata": {},
   "outputs": [
    {
     "name": "stdout",
     "output_type": "stream",
     "text": [
      "[2 1 2 1 2 2 2 2 1 2 2 1 1 1 1 2 2 2 2 1 2 2 2 2 2 1 2 2 1 2 1]\n"
     ]
    }
   ],
   "source": [
    "print(prediction_random)"
   ]
  },
  {
   "cell_type": "code",
   "execution_count": 33,
   "metadata": {},
   "outputs": [
    {
     "name": "stdout",
     "output_type": "stream",
     "text": [
      "81     2\n",
      "142    2\n",
      "31     1\n",
      "29     2\n",
      "118    1\n",
      "60     2\n",
      "93     2\n",
      "147    1\n",
      "153    2\n",
      "68     2\n",
      "42     2\n",
      "138    1\n",
      "78     2\n",
      "75     2\n",
      "15     2\n",
      "19     2\n",
      "30     1\n",
      "90     2\n",
      "117    2\n",
      "137    2\n",
      "18     2\n",
      "12     2\n",
      "9      2\n",
      "24     2\n",
      "69     2\n",
      "131    1\n",
      "95     2\n",
      "45     2\n",
      "86     1\n",
      "84     2\n",
      "126    2\n",
      "Name: 0, dtype: int64\n"
     ]
    }
   ],
   "source": [
    "print(y_test)"
   ]
  },
  {
   "cell_type": "code",
   "execution_count": 33,
   "metadata": {},
   "outputs": [
    {
     "data": {
      "image/png": "[encoded data removed]",
      "text/plain": [
       "<Figure size 432x288 with 1 Axes>"
      ]
     },
     "metadata": {
      "needs_background": "light"
     },
     "output_type": "display_data"
    }
   ],
   "source": [
    "fpr, tpr, thresholds = roc_curve(y_test,prediction_random,pos_label=2)\n",
    "areaUnderROC = auc(fpr, tpr)\n",
    "plt.figure()\n",
    "plt.plot(fpr, tpr, color='r', lw=2, label='ROC curve')\n",
    "plt.plot([0, 1], [0, 1], color='k', lw=2, linestyle='--')\n",
    "plt.xlim([0.0, 1.0])\n",
    "plt.ylim([0.0, 1.05])\n",
    "plt.xlabel('False Positive Rate')\n",
    "plt.ylabel('True Positive Rate')\n",
    "plt.title('Receiver operating characteristic: Area under the curve = {0:0.2f}'.format(areaUnderROC))\n",
    "plt.legend(loc=\"lower right\")\n",
    "plt.show()"
   ]
  },
  {
   "cell_type": "markdown",
   "metadata": {},
   "source": [
    "## ROC of SMOTE"
   ]
  },
  {
   "cell_type": "code",
   "execution_count": 38,
   "metadata": {},
   "outputs": [],
   "source": [
    "prediction_smote= model_2.predict(X_test)"
   ]
  },
  {
   "cell_type": "code",
   "execution_count": 39,
   "metadata": {},
   "outputs": [
    {
     "data": {
      "image/png": "[encoded data removed]",
      "text/plain": [
       "<Figure size 432x288 with 1 Axes>"
      ]
     },
     "metadata": {
      "needs_background": "light"
     },
     "output_type": "display_data"
    }
   ],
   "source": [
    "fpr, tpr, thresholds = roc_curve(y_test,prediction_smote,pos_label=2)\n",
    "areaUnderROC = auc(fpr, tpr)\n",
    "plt.figure()\n",
    "plt.plot(fpr, tpr, color='r', lw=2, label='ROC curve')\n",
    "plt.plot([0, 1], [0, 1], color='k', lw=2, linestyle='--')\n",
    "plt.xlim([0.0, 1.0])\n",
    "plt.ylim([0.0, 1.05])\n",
    "plt.xlabel('False Positive Rate')\n",
    "plt.ylabel('True Positive Rate')\n",
    "plt.title('Receiver operating characteristic: Area under the curve = {0:0.2f}'.format(areaUnderROC))\n",
    "plt.legend(loc=\"lower right\")\n",
    "plt.show()"
   ]
  },
  {
   "cell_type": "code",
   "execution_count": null,
   "metadata": {},
   "outputs": [],
   "source": []
  }
 ],
 "metadata": {
  "kernelspec": {
   "display_name": "Python 3",
   "language": "python",
   "name": "python3"
  },
  "language_info": {
   "codemirror_mode": {
    "name": "ipython",
    "version": 3
   },
   "file_extension": ".py",
   "mimetype": "text/x-python",
   "name": "python",
   "nbconvert_exporter": "python",
   "pygments_lexer": "ipython3",
   "version": "3.7.3"
  }
 },
 "nbformat": 4,
 "nbformat_minor": 2
}
