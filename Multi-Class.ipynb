{
  "nbformat": 4,
  "nbformat_minor": 0,
  "metadata": {
    "colab": {
      "name": "Untitled0 (4) (1).ipynb",
      "provenance": []
    },
    "kernelspec": {
      "name": "python3",
      "display_name": "Python 3"
    },
    "language_info": {
      "name": "python"
    }
  },
  "cells": [
    {
      "cell_type": "code",
      "metadata": {
        "id": "3eIg0xLm6ZG6"
      },
      "source": [
        "import numpy as np\n",
        "import pandas as pd\n",
        "import matplotlib.pyplot as plt\n",
        "from matplotlib.pyplot import figure\n",
        "import seaborn as sns\n",
        "\n",
        "import sklearn\n",
        "from sklearn import linear_model\n",
        "from sklearn.model_selection import train_test_split\n",
        "from sklearn.metrics import f1_score, accuracy_score, roc_curve, auc, roc_auc_score\n",
        "from sklearn.preprocessing import StandardScaler \n",
        "from sklearn.compose import ColumnTransformer\n",
        "\n",
        "\n",
        "\n",
        "from imblearn.over_sampling import RandomOverSampler\n",
        "from imblearn.under_sampling import RandomUnderSampler\n",
        "from imblearn.over_sampling import SMOTE \n",
        "from imblearn.under_sampling import TomekLinks\n",
        "\n",
        "import warnings\n",
        "warnings.filterwarnings(\"ignore\")"
      ],
      "execution_count": null,
      "outputs": []
    },
    {
      "cell_type": "code",
      "metadata": {
        "colab": {
          "base_uri": "https://localhost:8080/"
        },
        "id": "AwS4bFktRfyt",
        "outputId": "3bd5b232-43a8-4d23-977a-4ded0bf8f9db"
      },
      "source": [
        "!pip install --quiet optuna"
      ],
      "execution_count": null,
      "outputs": [
        {
          "output_type": "stream",
          "text": [
            "\u001b[K     |████████████████████████████████| 296kB 8.4MB/s \n",
            "\u001b[K     |████████████████████████████████| 81kB 5.7MB/s \n",
            "\u001b[K     |████████████████████████████████| 163kB 12.3MB/s \n",
            "\u001b[K     |████████████████████████████████| 143kB 13.9MB/s \n",
            "\u001b[K     |████████████████████████████████| 51kB 5.2MB/s \n",
            "\u001b[K     |████████████████████████████████| 112kB 16.0MB/s \n",
            "\u001b[K     |████████████████████████████████| 81kB 7.2MB/s \n",
            "\u001b[?25h  Building wheel for pyperclip (setup.py) ... \u001b[?25l\u001b[?25hdone\n"
          ],
          "name": "stdout"
        }
      ]
    },
    {
      "cell_type": "code",
      "metadata": {
        "id": "SeeynuspnAPt"
      },
      "source": [
        "import tensorflow as tf\n",
        "from tensorflow import keras\n",
        "from tensorflow.keras import layers\n",
        "import optuna"
      ],
      "execution_count": null,
      "outputs": []
    },
    {
      "cell_type": "code",
      "metadata": {
        "id": "C3TaJGtO62-3"
      },
      "source": [
        "#Reading the data\n",
        "data = pd.read_csv('arrhythmia.data',header = None)"
      ],
      "execution_count": null,
      "outputs": []
    },
    {
      "cell_type": "code",
      "metadata": {
        "id": "mxEeO6u15WX6"
      },
      "source": [
        "# For this data set, the missing values are filled with ?. In this step '?' is replaced with np.Nan\n",
        "data.replace('?',np.NaN,inplace=True)"
      ],
      "execution_count": null,
      "outputs": []
    },
    {
      "cell_type": "code",
      "metadata": {
        "colab": {
          "base_uri": "https://localhost:8080/",
          "height": 253
        },
        "id": "2vDKSt7L8Uet",
        "outputId": "4065e78f-3c05-47ce-d408-e00114c135ad"
      },
      "source": [
        "#Exploring the data\n",
        "data.head()"
      ],
      "execution_count": null,
      "outputs": [
        {
          "output_type": "execute_result",
          "data": {
            "text/html": [
              "<div>\n",
              "<style scoped>\n",
              "    .dataframe tbody tr th:only-of-type {\n",
              "        vertical-align: middle;\n",
              "    }\n",
              "\n",
              "    .dataframe tbody tr th {\n",
              "        vertical-align: top;\n",
              "    }\n",
              "\n",
              "    .dataframe thead th {\n",
              "        text-align: right;\n",
              "    }\n",
              "</style>\n",
              "<table border=\"1\" class=\"dataframe\">\n",
              "  <thead>\n",
              "    <tr style=\"text-align: right;\">\n",
              "      <th></th>\n",
              "      <th>0</th>\n",
              "      <th>1</th>\n",
              "      <th>2</th>\n",
              "      <th>3</th>\n",
              "      <th>4</th>\n",
              "      <th>5</th>\n",
              "      <th>6</th>\n",
              "      <th>7</th>\n",
              "      <th>8</th>\n",
              "      <th>9</th>\n",
              "      <th>10</th>\n",
              "      <th>11</th>\n",
              "      <th>12</th>\n",
              "      <th>13</th>\n",
              "      <th>14</th>\n",
              "      <th>15</th>\n",
              "      <th>16</th>\n",
              "      <th>17</th>\n",
              "      <th>18</th>\n",
              "      <th>19</th>\n",
              "      <th>20</th>\n",
              "      <th>21</th>\n",
              "      <th>22</th>\n",
              "      <th>23</th>\n",
              "      <th>24</th>\n",
              "      <th>25</th>\n",
              "      <th>26</th>\n",
              "      <th>27</th>\n",
              "      <th>28</th>\n",
              "      <th>29</th>\n",
              "      <th>30</th>\n",
              "      <th>31</th>\n",
              "      <th>32</th>\n",
              "      <th>33</th>\n",
              "      <th>34</th>\n",
              "      <th>35</th>\n",
              "      <th>36</th>\n",
              "      <th>37</th>\n",
              "      <th>38</th>\n",
              "      <th>39</th>\n",
              "      <th>...</th>\n",
              "      <th>240</th>\n",
              "      <th>241</th>\n",
              "      <th>242</th>\n",
              "      <th>243</th>\n",
              "      <th>244</th>\n",
              "      <th>245</th>\n",
              "      <th>246</th>\n",
              "      <th>247</th>\n",
              "      <th>248</th>\n",
              "      <th>249</th>\n",
              "      <th>250</th>\n",
              "      <th>251</th>\n",
              "      <th>252</th>\n",
              "      <th>253</th>\n",
              "      <th>254</th>\n",
              "      <th>255</th>\n",
              "      <th>256</th>\n",
              "      <th>257</th>\n",
              "      <th>258</th>\n",
              "      <th>259</th>\n",
              "      <th>260</th>\n",
              "      <th>261</th>\n",
              "      <th>262</th>\n",
              "      <th>263</th>\n",
              "      <th>264</th>\n",
              "      <th>265</th>\n",
              "      <th>266</th>\n",
              "      <th>267</th>\n",
              "      <th>268</th>\n",
              "      <th>269</th>\n",
              "      <th>270</th>\n",
              "      <th>271</th>\n",
              "      <th>272</th>\n",
              "      <th>273</th>\n",
              "      <th>274</th>\n",
              "      <th>275</th>\n",
              "      <th>276</th>\n",
              "      <th>277</th>\n",
              "      <th>278</th>\n",
              "      <th>279</th>\n",
              "    </tr>\n",
              "  </thead>\n",
              "  <tbody>\n",
              "    <tr>\n",
              "      <th>0</th>\n",
              "      <td>75</td>\n",
              "      <td>0</td>\n",
              "      <td>190</td>\n",
              "      <td>80</td>\n",
              "      <td>91</td>\n",
              "      <td>193</td>\n",
              "      <td>371</td>\n",
              "      <td>174</td>\n",
              "      <td>121</td>\n",
              "      <td>-16</td>\n",
              "      <td>13</td>\n",
              "      <td>64</td>\n",
              "      <td>-2</td>\n",
              "      <td>NaN</td>\n",
              "      <td>63</td>\n",
              "      <td>0</td>\n",
              "      <td>52</td>\n",
              "      <td>44</td>\n",
              "      <td>0</td>\n",
              "      <td>0</td>\n",
              "      <td>32</td>\n",
              "      <td>0</td>\n",
              "      <td>0</td>\n",
              "      <td>0</td>\n",
              "      <td>0</td>\n",
              "      <td>0</td>\n",
              "      <td>0</td>\n",
              "      <td>0</td>\n",
              "      <td>44</td>\n",
              "      <td>20</td>\n",
              "      <td>36</td>\n",
              "      <td>0</td>\n",
              "      <td>28</td>\n",
              "      <td>0</td>\n",
              "      <td>0</td>\n",
              "      <td>0</td>\n",
              "      <td>0</td>\n",
              "      <td>0</td>\n",
              "      <td>0</td>\n",
              "      <td>52</td>\n",
              "      <td>...</td>\n",
              "      <td>0.0</td>\n",
              "      <td>8.4</td>\n",
              "      <td>-10.0</td>\n",
              "      <td>0.0</td>\n",
              "      <td>0.0</td>\n",
              "      <td>0.6</td>\n",
              "      <td>5.9</td>\n",
              "      <td>-3.9</td>\n",
              "      <td>52.7</td>\n",
              "      <td>-0.3</td>\n",
              "      <td>0.0</td>\n",
              "      <td>15.2</td>\n",
              "      <td>-8.4</td>\n",
              "      <td>0.0</td>\n",
              "      <td>0.0</td>\n",
              "      <td>0.9</td>\n",
              "      <td>5.1</td>\n",
              "      <td>17.7</td>\n",
              "      <td>70.7</td>\n",
              "      <td>-0.4</td>\n",
              "      <td>0.0</td>\n",
              "      <td>13.5</td>\n",
              "      <td>-4.0</td>\n",
              "      <td>0.0</td>\n",
              "      <td>0.0</td>\n",
              "      <td>0.9</td>\n",
              "      <td>3.9</td>\n",
              "      <td>25.5</td>\n",
              "      <td>62.9</td>\n",
              "      <td>-0.3</td>\n",
              "      <td>0.0</td>\n",
              "      <td>9.0</td>\n",
              "      <td>-0.9</td>\n",
              "      <td>0.0</td>\n",
              "      <td>0.0</td>\n",
              "      <td>0.9</td>\n",
              "      <td>2.9</td>\n",
              "      <td>23.3</td>\n",
              "      <td>49.4</td>\n",
              "      <td>8</td>\n",
              "    </tr>\n",
              "    <tr>\n",
              "      <th>1</th>\n",
              "      <td>56</td>\n",
              "      <td>1</td>\n",
              "      <td>165</td>\n",
              "      <td>64</td>\n",
              "      <td>81</td>\n",
              "      <td>174</td>\n",
              "      <td>401</td>\n",
              "      <td>149</td>\n",
              "      <td>39</td>\n",
              "      <td>25</td>\n",
              "      <td>37</td>\n",
              "      <td>-17</td>\n",
              "      <td>31</td>\n",
              "      <td>NaN</td>\n",
              "      <td>53</td>\n",
              "      <td>0</td>\n",
              "      <td>48</td>\n",
              "      <td>0</td>\n",
              "      <td>0</td>\n",
              "      <td>0</td>\n",
              "      <td>24</td>\n",
              "      <td>0</td>\n",
              "      <td>0</td>\n",
              "      <td>0</td>\n",
              "      <td>0</td>\n",
              "      <td>0</td>\n",
              "      <td>0</td>\n",
              "      <td>0</td>\n",
              "      <td>64</td>\n",
              "      <td>0</td>\n",
              "      <td>0</td>\n",
              "      <td>0</td>\n",
              "      <td>24</td>\n",
              "      <td>0</td>\n",
              "      <td>0</td>\n",
              "      <td>0</td>\n",
              "      <td>0</td>\n",
              "      <td>0</td>\n",
              "      <td>0</td>\n",
              "      <td>32</td>\n",
              "      <td>...</td>\n",
              "      <td>0.0</td>\n",
              "      <td>5.8</td>\n",
              "      <td>-7.7</td>\n",
              "      <td>0.0</td>\n",
              "      <td>0.0</td>\n",
              "      <td>0.9</td>\n",
              "      <td>3.8</td>\n",
              "      <td>-5.7</td>\n",
              "      <td>27.7</td>\n",
              "      <td>-0.2</td>\n",
              "      <td>0.0</td>\n",
              "      <td>9.5</td>\n",
              "      <td>-5.0</td>\n",
              "      <td>0.0</td>\n",
              "      <td>0.0</td>\n",
              "      <td>0.5</td>\n",
              "      <td>2.6</td>\n",
              "      <td>11.8</td>\n",
              "      <td>34.6</td>\n",
              "      <td>-0.4</td>\n",
              "      <td>0.0</td>\n",
              "      <td>11.0</td>\n",
              "      <td>-2.4</td>\n",
              "      <td>0.0</td>\n",
              "      <td>0.0</td>\n",
              "      <td>0.4</td>\n",
              "      <td>2.6</td>\n",
              "      <td>21.6</td>\n",
              "      <td>43.4</td>\n",
              "      <td>-0.5</td>\n",
              "      <td>0.0</td>\n",
              "      <td>8.5</td>\n",
              "      <td>0.0</td>\n",
              "      <td>0.0</td>\n",
              "      <td>0.0</td>\n",
              "      <td>0.2</td>\n",
              "      <td>2.1</td>\n",
              "      <td>20.4</td>\n",
              "      <td>38.8</td>\n",
              "      <td>6</td>\n",
              "    </tr>\n",
              "    <tr>\n",
              "      <th>2</th>\n",
              "      <td>54</td>\n",
              "      <td>0</td>\n",
              "      <td>172</td>\n",
              "      <td>95</td>\n",
              "      <td>138</td>\n",
              "      <td>163</td>\n",
              "      <td>386</td>\n",
              "      <td>185</td>\n",
              "      <td>102</td>\n",
              "      <td>96</td>\n",
              "      <td>34</td>\n",
              "      <td>70</td>\n",
              "      <td>66</td>\n",
              "      <td>23</td>\n",
              "      <td>75</td>\n",
              "      <td>0</td>\n",
              "      <td>40</td>\n",
              "      <td>80</td>\n",
              "      <td>0</td>\n",
              "      <td>0</td>\n",
              "      <td>24</td>\n",
              "      <td>0</td>\n",
              "      <td>0</td>\n",
              "      <td>0</td>\n",
              "      <td>0</td>\n",
              "      <td>0</td>\n",
              "      <td>0</td>\n",
              "      <td>20</td>\n",
              "      <td>56</td>\n",
              "      <td>52</td>\n",
              "      <td>0</td>\n",
              "      <td>0</td>\n",
              "      <td>40</td>\n",
              "      <td>0</td>\n",
              "      <td>0</td>\n",
              "      <td>0</td>\n",
              "      <td>0</td>\n",
              "      <td>0</td>\n",
              "      <td>0</td>\n",
              "      <td>28</td>\n",
              "      <td>...</td>\n",
              "      <td>0.0</td>\n",
              "      <td>5.8</td>\n",
              "      <td>-4.1</td>\n",
              "      <td>4.0</td>\n",
              "      <td>-0.5</td>\n",
              "      <td>0.4</td>\n",
              "      <td>0.3</td>\n",
              "      <td>20.4</td>\n",
              "      <td>23.3</td>\n",
              "      <td>0.7</td>\n",
              "      <td>0.0</td>\n",
              "      <td>10.0</td>\n",
              "      <td>-5.7</td>\n",
              "      <td>0.0</td>\n",
              "      <td>0.0</td>\n",
              "      <td>0.5</td>\n",
              "      <td>2.2</td>\n",
              "      <td>-3.0</td>\n",
              "      <td>20.7</td>\n",
              "      <td>1.3</td>\n",
              "      <td>0.0</td>\n",
              "      <td>11.1</td>\n",
              "      <td>-3.4</td>\n",
              "      <td>0.0</td>\n",
              "      <td>0.0</td>\n",
              "      <td>0.4</td>\n",
              "      <td>3.4</td>\n",
              "      <td>11.5</td>\n",
              "      <td>48.2</td>\n",
              "      <td>0.9</td>\n",
              "      <td>0.0</td>\n",
              "      <td>9.5</td>\n",
              "      <td>-2.4</td>\n",
              "      <td>0.0</td>\n",
              "      <td>0.0</td>\n",
              "      <td>0.3</td>\n",
              "      <td>3.4</td>\n",
              "      <td>12.3</td>\n",
              "      <td>49.0</td>\n",
              "      <td>10</td>\n",
              "    </tr>\n",
              "    <tr>\n",
              "      <th>3</th>\n",
              "      <td>55</td>\n",
              "      <td>0</td>\n",
              "      <td>175</td>\n",
              "      <td>94</td>\n",
              "      <td>100</td>\n",
              "      <td>202</td>\n",
              "      <td>380</td>\n",
              "      <td>179</td>\n",
              "      <td>143</td>\n",
              "      <td>28</td>\n",
              "      <td>11</td>\n",
              "      <td>-5</td>\n",
              "      <td>20</td>\n",
              "      <td>NaN</td>\n",
              "      <td>71</td>\n",
              "      <td>0</td>\n",
              "      <td>72</td>\n",
              "      <td>20</td>\n",
              "      <td>0</td>\n",
              "      <td>0</td>\n",
              "      <td>48</td>\n",
              "      <td>0</td>\n",
              "      <td>0</td>\n",
              "      <td>0</td>\n",
              "      <td>0</td>\n",
              "      <td>0</td>\n",
              "      <td>0</td>\n",
              "      <td>0</td>\n",
              "      <td>64</td>\n",
              "      <td>36</td>\n",
              "      <td>0</td>\n",
              "      <td>0</td>\n",
              "      <td>36</td>\n",
              "      <td>0</td>\n",
              "      <td>0</td>\n",
              "      <td>0</td>\n",
              "      <td>0</td>\n",
              "      <td>0</td>\n",
              "      <td>0</td>\n",
              "      <td>20</td>\n",
              "      <td>...</td>\n",
              "      <td>0.0</td>\n",
              "      <td>9.0</td>\n",
              "      <td>-7.9</td>\n",
              "      <td>0.0</td>\n",
              "      <td>0.0</td>\n",
              "      <td>0.1</td>\n",
              "      <td>4.1</td>\n",
              "      <td>7.6</td>\n",
              "      <td>51.0</td>\n",
              "      <td>0.4</td>\n",
              "      <td>0.0</td>\n",
              "      <td>15.0</td>\n",
              "      <td>-5.5</td>\n",
              "      <td>0.0</td>\n",
              "      <td>0.0</td>\n",
              "      <td>0.1</td>\n",
              "      <td>3.3</td>\n",
              "      <td>28.8</td>\n",
              "      <td>63.1</td>\n",
              "      <td>0.1</td>\n",
              "      <td>0.0</td>\n",
              "      <td>15.2</td>\n",
              "      <td>-3.7</td>\n",
              "      <td>0.0</td>\n",
              "      <td>0.0</td>\n",
              "      <td>0.6</td>\n",
              "      <td>3.0</td>\n",
              "      <td>36.8</td>\n",
              "      <td>68.0</td>\n",
              "      <td>0.1</td>\n",
              "      <td>0.0</td>\n",
              "      <td>12.2</td>\n",
              "      <td>-2.2</td>\n",
              "      <td>0.0</td>\n",
              "      <td>0.0</td>\n",
              "      <td>0.4</td>\n",
              "      <td>2.6</td>\n",
              "      <td>34.6</td>\n",
              "      <td>61.6</td>\n",
              "      <td>1</td>\n",
              "    </tr>\n",
              "    <tr>\n",
              "      <th>4</th>\n",
              "      <td>75</td>\n",
              "      <td>0</td>\n",
              "      <td>190</td>\n",
              "      <td>80</td>\n",
              "      <td>88</td>\n",
              "      <td>181</td>\n",
              "      <td>360</td>\n",
              "      <td>177</td>\n",
              "      <td>103</td>\n",
              "      <td>-16</td>\n",
              "      <td>13</td>\n",
              "      <td>61</td>\n",
              "      <td>3</td>\n",
              "      <td>NaN</td>\n",
              "      <td>NaN</td>\n",
              "      <td>0</td>\n",
              "      <td>48</td>\n",
              "      <td>40</td>\n",
              "      <td>0</td>\n",
              "      <td>0</td>\n",
              "      <td>28</td>\n",
              "      <td>0</td>\n",
              "      <td>0</td>\n",
              "      <td>0</td>\n",
              "      <td>0</td>\n",
              "      <td>0</td>\n",
              "      <td>0</td>\n",
              "      <td>0</td>\n",
              "      <td>40</td>\n",
              "      <td>24</td>\n",
              "      <td>0</td>\n",
              "      <td>0</td>\n",
              "      <td>24</td>\n",
              "      <td>0</td>\n",
              "      <td>0</td>\n",
              "      <td>0</td>\n",
              "      <td>0</td>\n",
              "      <td>0</td>\n",
              "      <td>0</td>\n",
              "      <td>52</td>\n",
              "      <td>...</td>\n",
              "      <td>0.0</td>\n",
              "      <td>8.5</td>\n",
              "      <td>-10.2</td>\n",
              "      <td>0.0</td>\n",
              "      <td>0.0</td>\n",
              "      <td>-1.0</td>\n",
              "      <td>4.7</td>\n",
              "      <td>-4.0</td>\n",
              "      <td>43.0</td>\n",
              "      <td>-0.2</td>\n",
              "      <td>0.0</td>\n",
              "      <td>15.2</td>\n",
              "      <td>-7.8</td>\n",
              "      <td>0.0</td>\n",
              "      <td>0.0</td>\n",
              "      <td>-0.1</td>\n",
              "      <td>4.9</td>\n",
              "      <td>16.2</td>\n",
              "      <td>63.2</td>\n",
              "      <td>-0.2</td>\n",
              "      <td>0.0</td>\n",
              "      <td>9.1</td>\n",
              "      <td>-0.9</td>\n",
              "      <td>0.0</td>\n",
              "      <td>0.0</td>\n",
              "      <td>-0.2</td>\n",
              "      <td>2.9</td>\n",
              "      <td>21.7</td>\n",
              "      <td>48.9</td>\n",
              "      <td>-0.4</td>\n",
              "      <td>0.0</td>\n",
              "      <td>13.1</td>\n",
              "      <td>-3.6</td>\n",
              "      <td>0.0</td>\n",
              "      <td>0.0</td>\n",
              "      <td>-0.1</td>\n",
              "      <td>3.9</td>\n",
              "      <td>25.4</td>\n",
              "      <td>62.8</td>\n",
              "      <td>7</td>\n",
              "    </tr>\n",
              "  </tbody>\n",
              "</table>\n",
              "<p>5 rows × 280 columns</p>\n",
              "</div>"
            ],
            "text/plain": [
              "   0    1    2    3    4    5    6    ...  273  274  275  276   277   278 279\n",
              "0   75    0  190   80   91  193  371  ...  0.0  0.0  0.9  2.9  23.3  49.4   8\n",
              "1   56    1  165   64   81  174  401  ...  0.0  0.0  0.2  2.1  20.4  38.8   6\n",
              "2   54    0  172   95  138  163  386  ...  0.0  0.0  0.3  3.4  12.3  49.0  10\n",
              "3   55    0  175   94  100  202  380  ...  0.0  0.0  0.4  2.6  34.6  61.6   1\n",
              "4   75    0  190   80   88  181  360  ...  0.0  0.0 -0.1  3.9  25.4  62.8   7\n",
              "\n",
              "[5 rows x 280 columns]"
            ]
          },
          "metadata": {
            "tags": []
          },
          "execution_count": 8
        }
      ]
    },
    {
      "cell_type": "code",
      "metadata": {
        "id": "EiaLz3BF8i5M"
      },
      "source": [
        " #Splitting the data into predictors and outcome.\n",
        " X = data[data.columns[0:279]]\n",
        " y = data[data.columns[-1]]"
      ],
      "execution_count": null,
      "outputs": []
    },
    {
      "cell_type": "code",
      "metadata": {
        "colab": {
          "base_uri": "https://localhost:8080/",
          "height": 253
        },
        "id": "XMIbYpOB9X8d",
        "outputId": "b5600671-22c5-4117-f663-8e5d99b23cda"
      },
      "source": [
        "X.head()"
      ],
      "execution_count": null,
      "outputs": [
        {
          "output_type": "execute_result",
          "data": {
            "text/html": [
              "<div>\n",
              "<style scoped>\n",
              "    .dataframe tbody tr th:only-of-type {\n",
              "        vertical-align: middle;\n",
              "    }\n",
              "\n",
              "    .dataframe tbody tr th {\n",
              "        vertical-align: top;\n",
              "    }\n",
              "\n",
              "    .dataframe thead th {\n",
              "        text-align: right;\n",
              "    }\n",
              "</style>\n",
              "<table border=\"1\" class=\"dataframe\">\n",
              "  <thead>\n",
              "    <tr style=\"text-align: right;\">\n",
              "      <th></th>\n",
              "      <th>0</th>\n",
              "      <th>1</th>\n",
              "      <th>2</th>\n",
              "      <th>3</th>\n",
              "      <th>4</th>\n",
              "      <th>5</th>\n",
              "      <th>6</th>\n",
              "      <th>7</th>\n",
              "      <th>8</th>\n",
              "      <th>9</th>\n",
              "      <th>10</th>\n",
              "      <th>11</th>\n",
              "      <th>12</th>\n",
              "      <th>13</th>\n",
              "      <th>14</th>\n",
              "      <th>15</th>\n",
              "      <th>16</th>\n",
              "      <th>17</th>\n",
              "      <th>18</th>\n",
              "      <th>19</th>\n",
              "      <th>20</th>\n",
              "      <th>21</th>\n",
              "      <th>22</th>\n",
              "      <th>23</th>\n",
              "      <th>24</th>\n",
              "      <th>25</th>\n",
              "      <th>26</th>\n",
              "      <th>27</th>\n",
              "      <th>28</th>\n",
              "      <th>29</th>\n",
              "      <th>30</th>\n",
              "      <th>31</th>\n",
              "      <th>32</th>\n",
              "      <th>33</th>\n",
              "      <th>34</th>\n",
              "      <th>35</th>\n",
              "      <th>36</th>\n",
              "      <th>37</th>\n",
              "      <th>38</th>\n",
              "      <th>39</th>\n",
              "      <th>...</th>\n",
              "      <th>239</th>\n",
              "      <th>240</th>\n",
              "      <th>241</th>\n",
              "      <th>242</th>\n",
              "      <th>243</th>\n",
              "      <th>244</th>\n",
              "      <th>245</th>\n",
              "      <th>246</th>\n",
              "      <th>247</th>\n",
              "      <th>248</th>\n",
              "      <th>249</th>\n",
              "      <th>250</th>\n",
              "      <th>251</th>\n",
              "      <th>252</th>\n",
              "      <th>253</th>\n",
              "      <th>254</th>\n",
              "      <th>255</th>\n",
              "      <th>256</th>\n",
              "      <th>257</th>\n",
              "      <th>258</th>\n",
              "      <th>259</th>\n",
              "      <th>260</th>\n",
              "      <th>261</th>\n",
              "      <th>262</th>\n",
              "      <th>263</th>\n",
              "      <th>264</th>\n",
              "      <th>265</th>\n",
              "      <th>266</th>\n",
              "      <th>267</th>\n",
              "      <th>268</th>\n",
              "      <th>269</th>\n",
              "      <th>270</th>\n",
              "      <th>271</th>\n",
              "      <th>272</th>\n",
              "      <th>273</th>\n",
              "      <th>274</th>\n",
              "      <th>275</th>\n",
              "      <th>276</th>\n",
              "      <th>277</th>\n",
              "      <th>278</th>\n",
              "    </tr>\n",
              "  </thead>\n",
              "  <tbody>\n",
              "    <tr>\n",
              "      <th>0</th>\n",
              "      <td>75</td>\n",
              "      <td>0</td>\n",
              "      <td>190</td>\n",
              "      <td>80</td>\n",
              "      <td>91</td>\n",
              "      <td>193</td>\n",
              "      <td>371</td>\n",
              "      <td>174</td>\n",
              "      <td>121</td>\n",
              "      <td>-16</td>\n",
              "      <td>13</td>\n",
              "      <td>64</td>\n",
              "      <td>-2</td>\n",
              "      <td>NaN</td>\n",
              "      <td>63</td>\n",
              "      <td>0</td>\n",
              "      <td>52</td>\n",
              "      <td>44</td>\n",
              "      <td>0</td>\n",
              "      <td>0</td>\n",
              "      <td>32</td>\n",
              "      <td>0</td>\n",
              "      <td>0</td>\n",
              "      <td>0</td>\n",
              "      <td>0</td>\n",
              "      <td>0</td>\n",
              "      <td>0</td>\n",
              "      <td>0</td>\n",
              "      <td>44</td>\n",
              "      <td>20</td>\n",
              "      <td>36</td>\n",
              "      <td>0</td>\n",
              "      <td>28</td>\n",
              "      <td>0</td>\n",
              "      <td>0</td>\n",
              "      <td>0</td>\n",
              "      <td>0</td>\n",
              "      <td>0</td>\n",
              "      <td>0</td>\n",
              "      <td>52</td>\n",
              "      <td>...</td>\n",
              "      <td>-0.1</td>\n",
              "      <td>0.0</td>\n",
              "      <td>8.4</td>\n",
              "      <td>-10.0</td>\n",
              "      <td>0.0</td>\n",
              "      <td>0.0</td>\n",
              "      <td>0.6</td>\n",
              "      <td>5.9</td>\n",
              "      <td>-3.9</td>\n",
              "      <td>52.7</td>\n",
              "      <td>-0.3</td>\n",
              "      <td>0.0</td>\n",
              "      <td>15.2</td>\n",
              "      <td>-8.4</td>\n",
              "      <td>0.0</td>\n",
              "      <td>0.0</td>\n",
              "      <td>0.9</td>\n",
              "      <td>5.1</td>\n",
              "      <td>17.7</td>\n",
              "      <td>70.7</td>\n",
              "      <td>-0.4</td>\n",
              "      <td>0.0</td>\n",
              "      <td>13.5</td>\n",
              "      <td>-4.0</td>\n",
              "      <td>0.0</td>\n",
              "      <td>0.0</td>\n",
              "      <td>0.9</td>\n",
              "      <td>3.9</td>\n",
              "      <td>25.5</td>\n",
              "      <td>62.9</td>\n",
              "      <td>-0.3</td>\n",
              "      <td>0.0</td>\n",
              "      <td>9.0</td>\n",
              "      <td>-0.9</td>\n",
              "      <td>0.0</td>\n",
              "      <td>0.0</td>\n",
              "      <td>0.9</td>\n",
              "      <td>2.9</td>\n",
              "      <td>23.3</td>\n",
              "      <td>49.4</td>\n",
              "    </tr>\n",
              "    <tr>\n",
              "      <th>1</th>\n",
              "      <td>56</td>\n",
              "      <td>1</td>\n",
              "      <td>165</td>\n",
              "      <td>64</td>\n",
              "      <td>81</td>\n",
              "      <td>174</td>\n",
              "      <td>401</td>\n",
              "      <td>149</td>\n",
              "      <td>39</td>\n",
              "      <td>25</td>\n",
              "      <td>37</td>\n",
              "      <td>-17</td>\n",
              "      <td>31</td>\n",
              "      <td>NaN</td>\n",
              "      <td>53</td>\n",
              "      <td>0</td>\n",
              "      <td>48</td>\n",
              "      <td>0</td>\n",
              "      <td>0</td>\n",
              "      <td>0</td>\n",
              "      <td>24</td>\n",
              "      <td>0</td>\n",
              "      <td>0</td>\n",
              "      <td>0</td>\n",
              "      <td>0</td>\n",
              "      <td>0</td>\n",
              "      <td>0</td>\n",
              "      <td>0</td>\n",
              "      <td>64</td>\n",
              "      <td>0</td>\n",
              "      <td>0</td>\n",
              "      <td>0</td>\n",
              "      <td>24</td>\n",
              "      <td>0</td>\n",
              "      <td>0</td>\n",
              "      <td>0</td>\n",
              "      <td>0</td>\n",
              "      <td>0</td>\n",
              "      <td>0</td>\n",
              "      <td>32</td>\n",
              "      <td>...</td>\n",
              "      <td>0.0</td>\n",
              "      <td>0.0</td>\n",
              "      <td>5.8</td>\n",
              "      <td>-7.7</td>\n",
              "      <td>0.0</td>\n",
              "      <td>0.0</td>\n",
              "      <td>0.9</td>\n",
              "      <td>3.8</td>\n",
              "      <td>-5.7</td>\n",
              "      <td>27.7</td>\n",
              "      <td>-0.2</td>\n",
              "      <td>0.0</td>\n",
              "      <td>9.5</td>\n",
              "      <td>-5.0</td>\n",
              "      <td>0.0</td>\n",
              "      <td>0.0</td>\n",
              "      <td>0.5</td>\n",
              "      <td>2.6</td>\n",
              "      <td>11.8</td>\n",
              "      <td>34.6</td>\n",
              "      <td>-0.4</td>\n",
              "      <td>0.0</td>\n",
              "      <td>11.0</td>\n",
              "      <td>-2.4</td>\n",
              "      <td>0.0</td>\n",
              "      <td>0.0</td>\n",
              "      <td>0.4</td>\n",
              "      <td>2.6</td>\n",
              "      <td>21.6</td>\n",
              "      <td>43.4</td>\n",
              "      <td>-0.5</td>\n",
              "      <td>0.0</td>\n",
              "      <td>8.5</td>\n",
              "      <td>0.0</td>\n",
              "      <td>0.0</td>\n",
              "      <td>0.0</td>\n",
              "      <td>0.2</td>\n",
              "      <td>2.1</td>\n",
              "      <td>20.4</td>\n",
              "      <td>38.8</td>\n",
              "    </tr>\n",
              "    <tr>\n",
              "      <th>2</th>\n",
              "      <td>54</td>\n",
              "      <td>0</td>\n",
              "      <td>172</td>\n",
              "      <td>95</td>\n",
              "      <td>138</td>\n",
              "      <td>163</td>\n",
              "      <td>386</td>\n",
              "      <td>185</td>\n",
              "      <td>102</td>\n",
              "      <td>96</td>\n",
              "      <td>34</td>\n",
              "      <td>70</td>\n",
              "      <td>66</td>\n",
              "      <td>23</td>\n",
              "      <td>75</td>\n",
              "      <td>0</td>\n",
              "      <td>40</td>\n",
              "      <td>80</td>\n",
              "      <td>0</td>\n",
              "      <td>0</td>\n",
              "      <td>24</td>\n",
              "      <td>0</td>\n",
              "      <td>0</td>\n",
              "      <td>0</td>\n",
              "      <td>0</td>\n",
              "      <td>0</td>\n",
              "      <td>0</td>\n",
              "      <td>20</td>\n",
              "      <td>56</td>\n",
              "      <td>52</td>\n",
              "      <td>0</td>\n",
              "      <td>0</td>\n",
              "      <td>40</td>\n",
              "      <td>0</td>\n",
              "      <td>0</td>\n",
              "      <td>0</td>\n",
              "      <td>0</td>\n",
              "      <td>0</td>\n",
              "      <td>0</td>\n",
              "      <td>28</td>\n",
              "      <td>...</td>\n",
              "      <td>0.0</td>\n",
              "      <td>0.0</td>\n",
              "      <td>5.8</td>\n",
              "      <td>-4.1</td>\n",
              "      <td>4.0</td>\n",
              "      <td>-0.5</td>\n",
              "      <td>0.4</td>\n",
              "      <td>0.3</td>\n",
              "      <td>20.4</td>\n",
              "      <td>23.3</td>\n",
              "      <td>0.7</td>\n",
              "      <td>0.0</td>\n",
              "      <td>10.0</td>\n",
              "      <td>-5.7</td>\n",
              "      <td>0.0</td>\n",
              "      <td>0.0</td>\n",
              "      <td>0.5</td>\n",
              "      <td>2.2</td>\n",
              "      <td>-3.0</td>\n",
              "      <td>20.7</td>\n",
              "      <td>1.3</td>\n",
              "      <td>0.0</td>\n",
              "      <td>11.1</td>\n",
              "      <td>-3.4</td>\n",
              "      <td>0.0</td>\n",
              "      <td>0.0</td>\n",
              "      <td>0.4</td>\n",
              "      <td>3.4</td>\n",
              "      <td>11.5</td>\n",
              "      <td>48.2</td>\n",
              "      <td>0.9</td>\n",
              "      <td>0.0</td>\n",
              "      <td>9.5</td>\n",
              "      <td>-2.4</td>\n",
              "      <td>0.0</td>\n",
              "      <td>0.0</td>\n",
              "      <td>0.3</td>\n",
              "      <td>3.4</td>\n",
              "      <td>12.3</td>\n",
              "      <td>49.0</td>\n",
              "    </tr>\n",
              "    <tr>\n",
              "      <th>3</th>\n",
              "      <td>55</td>\n",
              "      <td>0</td>\n",
              "      <td>175</td>\n",
              "      <td>94</td>\n",
              "      <td>100</td>\n",
              "      <td>202</td>\n",
              "      <td>380</td>\n",
              "      <td>179</td>\n",
              "      <td>143</td>\n",
              "      <td>28</td>\n",
              "      <td>11</td>\n",
              "      <td>-5</td>\n",
              "      <td>20</td>\n",
              "      <td>NaN</td>\n",
              "      <td>71</td>\n",
              "      <td>0</td>\n",
              "      <td>72</td>\n",
              "      <td>20</td>\n",
              "      <td>0</td>\n",
              "      <td>0</td>\n",
              "      <td>48</td>\n",
              "      <td>0</td>\n",
              "      <td>0</td>\n",
              "      <td>0</td>\n",
              "      <td>0</td>\n",
              "      <td>0</td>\n",
              "      <td>0</td>\n",
              "      <td>0</td>\n",
              "      <td>64</td>\n",
              "      <td>36</td>\n",
              "      <td>0</td>\n",
              "      <td>0</td>\n",
              "      <td>36</td>\n",
              "      <td>0</td>\n",
              "      <td>0</td>\n",
              "      <td>0</td>\n",
              "      <td>0</td>\n",
              "      <td>0</td>\n",
              "      <td>0</td>\n",
              "      <td>20</td>\n",
              "      <td>...</td>\n",
              "      <td>0.7</td>\n",
              "      <td>0.0</td>\n",
              "      <td>9.0</td>\n",
              "      <td>-7.9</td>\n",
              "      <td>0.0</td>\n",
              "      <td>0.0</td>\n",
              "      <td>0.1</td>\n",
              "      <td>4.1</td>\n",
              "      <td>7.6</td>\n",
              "      <td>51.0</td>\n",
              "      <td>0.4</td>\n",
              "      <td>0.0</td>\n",
              "      <td>15.0</td>\n",
              "      <td>-5.5</td>\n",
              "      <td>0.0</td>\n",
              "      <td>0.0</td>\n",
              "      <td>0.1</td>\n",
              "      <td>3.3</td>\n",
              "      <td>28.8</td>\n",
              "      <td>63.1</td>\n",
              "      <td>0.1</td>\n",
              "      <td>0.0</td>\n",
              "      <td>15.2</td>\n",
              "      <td>-3.7</td>\n",
              "      <td>0.0</td>\n",
              "      <td>0.0</td>\n",
              "      <td>0.6</td>\n",
              "      <td>3.0</td>\n",
              "      <td>36.8</td>\n",
              "      <td>68.0</td>\n",
              "      <td>0.1</td>\n",
              "      <td>0.0</td>\n",
              "      <td>12.2</td>\n",
              "      <td>-2.2</td>\n",
              "      <td>0.0</td>\n",
              "      <td>0.0</td>\n",
              "      <td>0.4</td>\n",
              "      <td>2.6</td>\n",
              "      <td>34.6</td>\n",
              "      <td>61.6</td>\n",
              "    </tr>\n",
              "    <tr>\n",
              "      <th>4</th>\n",
              "      <td>75</td>\n",
              "      <td>0</td>\n",
              "      <td>190</td>\n",
              "      <td>80</td>\n",
              "      <td>88</td>\n",
              "      <td>181</td>\n",
              "      <td>360</td>\n",
              "      <td>177</td>\n",
              "      <td>103</td>\n",
              "      <td>-16</td>\n",
              "      <td>13</td>\n",
              "      <td>61</td>\n",
              "      <td>3</td>\n",
              "      <td>NaN</td>\n",
              "      <td>NaN</td>\n",
              "      <td>0</td>\n",
              "      <td>48</td>\n",
              "      <td>40</td>\n",
              "      <td>0</td>\n",
              "      <td>0</td>\n",
              "      <td>28</td>\n",
              "      <td>0</td>\n",
              "      <td>0</td>\n",
              "      <td>0</td>\n",
              "      <td>0</td>\n",
              "      <td>0</td>\n",
              "      <td>0</td>\n",
              "      <td>0</td>\n",
              "      <td>40</td>\n",
              "      <td>24</td>\n",
              "      <td>0</td>\n",
              "      <td>0</td>\n",
              "      <td>24</td>\n",
              "      <td>0</td>\n",
              "      <td>0</td>\n",
              "      <td>0</td>\n",
              "      <td>0</td>\n",
              "      <td>0</td>\n",
              "      <td>0</td>\n",
              "      <td>52</td>\n",
              "      <td>...</td>\n",
              "      <td>-0.5</td>\n",
              "      <td>0.0</td>\n",
              "      <td>8.5</td>\n",
              "      <td>-10.2</td>\n",
              "      <td>0.0</td>\n",
              "      <td>0.0</td>\n",
              "      <td>-1.0</td>\n",
              "      <td>4.7</td>\n",
              "      <td>-4.0</td>\n",
              "      <td>43.0</td>\n",
              "      <td>-0.2</td>\n",
              "      <td>0.0</td>\n",
              "      <td>15.2</td>\n",
              "      <td>-7.8</td>\n",
              "      <td>0.0</td>\n",
              "      <td>0.0</td>\n",
              "      <td>-0.1</td>\n",
              "      <td>4.9</td>\n",
              "      <td>16.2</td>\n",
              "      <td>63.2</td>\n",
              "      <td>-0.2</td>\n",
              "      <td>0.0</td>\n",
              "      <td>9.1</td>\n",
              "      <td>-0.9</td>\n",
              "      <td>0.0</td>\n",
              "      <td>0.0</td>\n",
              "      <td>-0.2</td>\n",
              "      <td>2.9</td>\n",
              "      <td>21.7</td>\n",
              "      <td>48.9</td>\n",
              "      <td>-0.4</td>\n",
              "      <td>0.0</td>\n",
              "      <td>13.1</td>\n",
              "      <td>-3.6</td>\n",
              "      <td>0.0</td>\n",
              "      <td>0.0</td>\n",
              "      <td>-0.1</td>\n",
              "      <td>3.9</td>\n",
              "      <td>25.4</td>\n",
              "      <td>62.8</td>\n",
              "    </tr>\n",
              "  </tbody>\n",
              "</table>\n",
              "<p>5 rows × 279 columns</p>\n",
              "</div>"
            ],
            "text/plain": [
              "   0    1    2    3    4    5    6    ...  272  273  274  275  276   277   278\n",
              "0   75    0  190   80   91  193  371  ... -0.9  0.0  0.0  0.9  2.9  23.3  49.4\n",
              "1   56    1  165   64   81  174  401  ...  0.0  0.0  0.0  0.2  2.1  20.4  38.8\n",
              "2   54    0  172   95  138  163  386  ... -2.4  0.0  0.0  0.3  3.4  12.3  49.0\n",
              "3   55    0  175   94  100  202  380  ... -2.2  0.0  0.0  0.4  2.6  34.6  61.6\n",
              "4   75    0  190   80   88  181  360  ... -3.6  0.0  0.0 -0.1  3.9  25.4  62.8\n",
              "\n",
              "[5 rows x 279 columns]"
            ]
          },
          "metadata": {
            "tags": []
          },
          "execution_count": 10
        }
      ]
    },
    {
      "cell_type": "code",
      "metadata": {
        "colab": {
          "base_uri": "https://localhost:8080/"
        },
        "id": "fgOfmiHw9dvs",
        "outputId": "5e49343b-4f6c-45b4-c482-18af2aae1d9e"
      },
      "source": [
        "\n",
        "print(y.value_counts())\n",
        "print(len(y))"
      ],
      "execution_count": null,
      "outputs": [
        {
          "output_type": "stream",
          "text": [
            "1     245\n",
            "10     50\n",
            "2      44\n",
            "6      25\n",
            "16     22\n",
            "4      15\n",
            "3      15\n",
            "5      13\n",
            "9       9\n",
            "15      5\n",
            "14      4\n",
            "7       3\n",
            "8       2\n",
            "Name: 279, dtype: int64\n",
            "452\n"
          ],
          "name": "stdout"
        }
      ]
    },
    {
      "cell_type": "code",
      "metadata": {
        "colab": {
          "base_uri": "https://localhost:8080/",
          "height": 302
        },
        "id": "LLut0uxGqmdN",
        "outputId": "a23aaaed-f4cc-43bc-c5af-bf5348010299"
      },
      "source": [
        "#Plotting the distribution of target variables.\n",
        "data[279].value_counts().plot(kind = 'bar')\n",
        "figure(figsize=(16, 8), dpi=80)"
      ],
      "execution_count": null,
      "outputs": [
        {
          "output_type": "execute_result",
          "data": {
            "text/plain": [
              "<Figure size 1280x640 with 0 Axes>"
            ]
          },
          "metadata": {
            "tags": []
          },
          "execution_count": 12
        },
        {
          "output_type": "display_data",
          "data": {
            "image/png": "[encoded data removed]",
            "text/plain": [
              "<Figure size 432x288 with 1 Axes>"
            ]
          },
          "metadata": {
            "tags": [],
            "needs_background": "light"
          }
        },
        {
          "output_type": "display_data",
          "data": {
            "text/plain": [
              "<Figure size 1280x640 with 0 Axes>"
            ]
          },
          "metadata": {
            "tags": []
          }
        }
      ]
    },
    {
      "cell_type": "markdown",
      "metadata": {
        "id": "SmCNXM9xpoKe"
      },
      "source": [
        "####From the graph we can observe that the data is not properly balaced. One can consider the techniques like oversampling the minority label or undersampling the majority label. Since the data is imbalanced, we have to perform stratified."
      ]
    },
    {
      "cell_type": "markdown",
      "metadata": {
        "id": "qzz87vE8-X1P"
      },
      "source": [
        "### Approach 1: Convert the problem into a binary classification. \n",
        "##### Inspect the proportion of label '1' and othr labels combined. Translate the problem such that model classifes 1 and 0."
      ]
    },
    {
      "cell_type": "code",
      "metadata": {
        "colab": {
          "base_uri": "https://localhost:8080/",
          "height": 265
        },
        "id": "XcWQ5D5U-uu5",
        "outputId": "760e5259-30b9-4a6d-d0c3-b8bf04daea92"
      },
      "source": [
        "y_binary = pd.Series([ 1 if i == 1 else 0 for i in y])\n",
        "y_binary.value_counts().plot(kind = 'pie',autopct='%1.1f%%')"
      ],
      "execution_count": null,
      "outputs": [
        {
          "output_type": "execute_result",
          "data": {
            "text/plain": [
              "<matplotlib.axes._subplots.AxesSubplot at 0x7fdb02aea610>"
            ]
          },
          "metadata": {
            "tags": []
          },
          "execution_count": 13
        },
        {
          "output_type": "display_data",
          "data": {
            "image/png": "[encoded data removed]",
            "text/plain": [
              "<Figure size 432x288 with 1 Axes>"
            ]
          },
          "metadata": {
            "tags": []
          }
        }
      ]
    },
    {
      "cell_type": "markdown",
      "metadata": {
        "id": "ue2VAd5gKXpQ"
      },
      "source": [
        "From the above chart we can observe the labels are not completley balanced, but distribution is not skewed. "
      ]
    },
    {
      "cell_type": "markdown",
      "metadata": {
        "id": "dcPesEKZmGIu"
      },
      "source": [
        "## Inspect the independent variables"
      ]
    },
    {
      "cell_type": "code",
      "metadata": {
        "colab": {
          "base_uri": "https://localhost:8080/",
          "height": 483
        },
        "id": "pJ8MqYUQmn7H",
        "outputId": "4f12d290-51e8-4a32-cc09-90ff08479c5d"
      },
      "source": [
        "#Checking for missing values.\n",
        "X.isna().sum().plot(kind = 'pie',figsize=(16, 8),autopct='%1.1f%%')"
      ],
      "execution_count": null,
      "outputs": [
        {
          "output_type": "execute_result",
          "data": {
            "text/plain": [
              "<matplotlib.axes._subplots.AxesSubplot at 0x7fdb02ab2390>"
            ]
          },
          "metadata": {
            "tags": []
          },
          "execution_count": 14
        },
        {
          "output_type": "display_data",
          "data": {
            "image/png": "[encoded data removed]",
            "text/plain": [
              "<Figure size 1152x576 with 1 Axes>"
            ]
          },
          "metadata": {
            "tags": []
          }
        }
      ]
    },
    {
      "cell_type": "markdown",
      "metadata": {
        "id": "5Khb5l3uno_d"
      },
      "source": [
        "Columns 10,11,12,13, and 14 have missing values. One should inspect the type of the variabl replace with either mean or mode accordingly.\n",
        "\n",
        "\n",
        "The columns 10,11,12,13,and 14 are:\n",
        " Vector angles in degrees on front plane of:, linear <br>\n",
        "     10 QRS <br>\n",
        "     11 T <br>\n",
        "     12 P <br>\n",
        "     13 QRST <br>\n",
        "     14 J <br>\n",
        "\n",
        "     Since they are linear, they can be replaced by mean."
      ]
    },
    {
      "cell_type": "markdown",
      "metadata": {
        "id": "cGinPDoSXVmg"
      },
      "source": [
        "For Machine learning algorithms, plan is to use Optuna to find the best classifier and its corresponding  hyper-parameter. For machine learning we are splitting into train and test, but not train ,test and val. Since optuna uses the training data to perform cross validation to perform hyper-parameter tuning."
      ]
    },
    {
      "cell_type": "code",
      "metadata": {
        "id": "rV1BioxxXUZ9"
      },
      "source": [
        "X_train, X_test, y_train, y_test = train_test_split(X, y_binary, test_size=0.20, random_state=42)"
      ],
      "execution_count": null,
      "outputs": []
    },
    {
      "cell_type": "markdown",
      "metadata": {
        "id": "wtRBCgqgXU0u"
      },
      "source": [
        ""
      ]
    },
    {
      "cell_type": "code",
      "metadata": {
        "id": "TARRnTbEWX6F"
      },
      "source": [
        "col_missing_values = [10,11,12,13,14]\n",
        "\n",
        "for i in col_missing_values:\n",
        "    X_train[i] = X_train[i].astype(float)\n",
        "    X_test[i] = X_test[i].astype(float)\n",
        "\n",
        "train_mean={}\n",
        "for i in col_missing_values :\n",
        "    train_mean[i] = X_train[i].mean() \n",
        "\n",
        "for i in col_missing_values:\n",
        "  X_train[i].replace(np.nan,train_mean[i],inplace= True)\n",
        "  X_test[i].replace(np.nan,train_mean[i],inplace= True)\n",
        "\n",
        "nominal_cols = []\n",
        "nominal_cols.append(1)\n",
        "wave_cols = [15,27,39,51,63,75,87,99,111,123,135,147]\n",
        "for x in wave_cols:\n",
        "  sub_col = [i for i in range(x+6,x+12)]\n",
        "  nominal_cols.extend(sub_col)\n",
        "\n",
        "for i in nominal_cols:\n",
        "  X_train[i] = X_train[i].astype(str).astype(int)\n",
        "  X_test[i] = X_test[i].astype(str).astype(int)\n",
        "\n",
        "\n",
        "clf = StandardScaler()\n",
        "clf.fit(X_train)\n",
        "X_train = pd.DataFrame(clf.transform(X_train))\n",
        "X_test = pd.DataFrame(clf.transform(X_test))"
      ],
      "execution_count": null,
      "outputs": []
    },
    {
      "cell_type": "markdown",
      "metadata": {
        "id": "4e_0n1-GvWrv"
      },
      "source": [
        "Using Optuna to identify the best hyper-parameters."
      ]
    },
    {
      "cell_type": "code",
      "metadata": {
        "id": "4kUvZDFdu5a4"
      },
      "source": [
        "def objective(trial):\n",
        "    \n",
        "    \n",
        "    classifier_name = trial.suggest_categorical(\"classifier\", [\"SVC\", \"RandomForestClassifier\",\"LogReg\", \"ElasticNet\"])\n",
        "    \n",
        "    if classifier_name == \"SVC\":\n",
        "        svc_c = trial.suggest_float(\"svc_c\", 1e-10, 1e10, log=True)\n",
        "        model = sklearn.svm.SVC(C=svc_c, gamma=\"auto\")\n",
        "        \n",
        "    elif classifier_name == \"RandomForestClassifier\":\n",
        "        rf_max_depth = trial.suggest_int(\"rf_max_depth\", 2, 32)\n",
        "        rf_n_estimators = trial.suggest_int(\"rf_n_estimators\", 2, 128, log=True)\n",
        "        model = sklearn.ensemble.RandomForestClassifier(\n",
        "            max_depth=rf_max_depth, n_estimators=rf_n_estimators\n",
        "        )\n",
        "\n",
        "    elif classifier_name == 'LogReg':\n",
        "        logreg_c = trial.suggest_float(\"logreg_c\", 1e-10, 1e10, log=True)\n",
        "        model = sklearn.linear_model.LogisticRegression(C=logreg_c)\n",
        "\n",
        "    elif classifier_name == \"ElasticNet\":\n",
        "        en_l1_ratio = trial.suggest_float(\"en_l1_ratio\", 0, 1, log=False)\n",
        "        model = sklearn.linear_model.ElasticNet(l1_ratio=en_l1_ratio)\n",
        "        \n",
        "    score = sklearn.model_selection.cross_val_score(model, X_train, y_train, cv=3)\n",
        "    accuracy = score.mean()\n",
        "    \n",
        "    return accuracy"
      ],
      "execution_count": null,
      "outputs": []
    },
    {
      "cell_type": "code",
      "metadata": {
        "colab": {
          "base_uri": "https://localhost:8080/"
        },
        "id": "BWwndX_nnFXJ",
        "outputId": "b6ad5f1d-6c62-4144-9859-14d502729700"
      },
      "source": [
        "cstudy = optuna.create_study(direction=\"maximize\")\n",
        "cstudy.optimize(objective, n_trials=30)"
      ],
      "execution_count": null,
      "outputs": [
        {
          "output_type": "stream",
          "text": [
            "\u001b[32m[I 2021-04-27 22:00:33,661]\u001b[0m A new study created in memory with name: no-name-ff10fe40-01b7-41d9-9cd1-17e0f3c3e5ec\u001b[0m\n",
            "\u001b[32m[I 2021-04-27 22:00:33,818]\u001b[0m Trial 0 finished with value: 0.6842975206611571 and parameters: {'classifier': 'SVC', 'svc_c': 36119.39355950725}. Best is trial 0 with value: 0.6842975206611571.\u001b[0m\n",
            "\u001b[32m[I 2021-04-27 22:00:33,955]\u001b[0m Trial 1 finished with value: 0.5567952249770431 and parameters: {'classifier': 'SVC', 'svc_c': 1.2411551527793794e-07}. Best is trial 0 with value: 0.6842975206611571.\u001b[0m\n",
            "\u001b[32m[I 2021-04-27 22:00:34,006]\u001b[0m Trial 2 finished with value: -0.01487367437021662 and parameters: {'classifier': 'ElasticNet', 'en_l1_ratio': 0.42805158475974225}. Best is trial 0 with value: 0.6842975206611571.\u001b[0m\n",
            "\u001b[32m[I 2021-04-27 22:00:34,207]\u001b[0m Trial 3 finished with value: 0.6842975206611571 and parameters: {'classifier': 'SVC', 'svc_c': 1960635.6830331748}. Best is trial 0 with value: 0.6842975206611571.\u001b[0m\n",
            "\u001b[32m[I 2021-04-27 22:00:34,387]\u001b[0m Trial 4 finished with value: 0.6869605142332414 and parameters: {'classifier': 'LogReg', 'logreg_c': 27445.25085563903}. Best is trial 4 with value: 0.6869605142332414.\u001b[0m\n",
            "\u001b[32m[I 2021-04-27 22:00:34,471]\u001b[0m Trial 5 finished with value: 0.7285812672176308 and parameters: {'classifier': 'RandomForestClassifier', 'rf_max_depth': 29, 'rf_n_estimators': 5}. Best is trial 5 with value: 0.7285812672176308.\u001b[0m\n",
            "\u001b[32m[I 2021-04-27 22:00:34,696]\u001b[0m Trial 6 finished with value: 0.7340449954086318 and parameters: {'classifier': 'RandomForestClassifier', 'rf_max_depth': 26, 'rf_n_estimators': 27}. Best is trial 6 with value: 0.7340449954086318.\u001b[0m\n",
            "\u001b[32m[I 2021-04-27 22:00:34,762]\u001b[0m Trial 7 finished with value: 0.6786501377410468 and parameters: {'classifier': 'LogReg', 'logreg_c': 1257851377.691016}. Best is trial 6 with value: 0.7340449954086318.\u001b[0m\n",
            "\u001b[32m[I 2021-04-27 22:00:34,796]\u001b[0m Trial 8 finished with value: -0.01487367437021662 and parameters: {'classifier': 'ElasticNet', 'en_l1_ratio': 0.5812159968746524}. Best is trial 6 with value: 0.7340449954086318.\u001b[0m\n",
            "\u001b[32m[I 2021-04-27 22:00:34,876]\u001b[0m Trial 9 finished with value: 0.6786501377410468 and parameters: {'classifier': 'LogReg', 'logreg_c': 4297243190.736173}. Best is trial 6 with value: 0.7340449954086318.\u001b[0m\n",
            "\u001b[32m[I 2021-04-27 22:00:35,673]\u001b[0m Trial 10 finished with value: 0.7949265381083563 and parameters: {'classifier': 'RandomForestClassifier', 'rf_max_depth': 19, 'rf_n_estimators': 103}. Best is trial 10 with value: 0.7949265381083563.\u001b[0m\n",
            "\u001b[32m[I 2021-04-27 22:00:36,523]\u001b[0m Trial 11 finished with value: 0.7865702479338843 and parameters: {'classifier': 'RandomForestClassifier', 'rf_max_depth': 19, 'rf_n_estimators': 123}. Best is trial 10 with value: 0.7949265381083563.\u001b[0m\n",
            "\u001b[32m[I 2021-04-27 22:00:37,323]\u001b[0m Trial 12 finished with value: 0.778236914600551 and parameters: {'classifier': 'RandomForestClassifier', 'rf_max_depth': 11, 'rf_n_estimators': 119}. Best is trial 10 with value: 0.7949265381083563.\u001b[0m\n",
            "\u001b[32m[I 2021-04-27 22:00:37,892]\u001b[0m Trial 13 finished with value: 0.761730945821855 and parameters: {'classifier': 'RandomForestClassifier', 'rf_max_depth': 19, 'rf_n_estimators': 82}. Best is trial 10 with value: 0.7949265381083563.\u001b[0m\n",
            "\u001b[32m[I 2021-04-27 22:00:38,768]\u001b[0m Trial 14 finished with value: 0.7727272727272728 and parameters: {'classifier': 'RandomForestClassifier', 'rf_max_depth': 19, 'rf_n_estimators': 125}. Best is trial 10 with value: 0.7949265381083563.\u001b[0m\n",
            "\u001b[32m[I 2021-04-27 22:00:38,966]\u001b[0m Trial 15 finished with value: 0.7423553719008265 and parameters: {'classifier': 'RandomForestClassifier', 'rf_max_depth': 2, 'rf_n_estimators': 34}. Best is trial 10 with value: 0.7949265381083563.\u001b[0m\n",
            "\u001b[32m[I 2021-04-27 22:00:39,008]\u001b[0m Trial 16 finished with value: 0.6204315886134069 and parameters: {'classifier': 'RandomForestClassifier', 'rf_max_depth': 12, 'rf_n_estimators': 2}. Best is trial 10 with value: 0.7949265381083563.\u001b[0m\n",
            "\u001b[32m[I 2021-04-27 22:00:39,423]\u001b[0m Trial 17 finished with value: 0.7810146923783288 and parameters: {'classifier': 'RandomForestClassifier', 'rf_max_depth': 23, 'rf_n_estimators': 50}. Best is trial 10 with value: 0.7949265381083563.\u001b[0m\n",
            "\u001b[32m[I 2021-04-27 22:00:39,561]\u001b[0m Trial 18 finished with value: 0.7699954086317722 and parameters: {'classifier': 'RandomForestClassifier', 'rf_max_depth': 13, 'rf_n_estimators': 14}. Best is trial 10 with value: 0.7949265381083563.\u001b[0m\n",
            "\u001b[32m[I 2021-04-27 22:00:39,615]\u001b[0m Trial 19 finished with value: -0.01487367437021662 and parameters: {'classifier': 'ElasticNet', 'en_l1_ratio': 0.9888937211625182}. Best is trial 10 with value: 0.7949265381083563.\u001b[0m\n",
            "\u001b[32m[I 2021-04-27 22:00:40,495]\u001b[0m Trial 20 finished with value: 0.7894628099173554 and parameters: {'classifier': 'RandomForestClassifier', 'rf_max_depth': 21, 'rf_n_estimators': 120}. Best is trial 10 with value: 0.7949265381083563.\u001b[0m\n",
            "\u001b[32m[I 2021-04-27 22:00:41,350]\u001b[0m Trial 21 finished with value: 0.7782828282828284 and parameters: {'classifier': 'RandomForestClassifier', 'rf_max_depth': 22, 'rf_n_estimators': 125}. Best is trial 10 with value: 0.7949265381083563.\u001b[0m\n",
            "\u001b[32m[I 2021-04-27 22:00:41,825]\u001b[0m Trial 22 finished with value: 0.7921258034894398 and parameters: {'classifier': 'RandomForestClassifier', 'rf_max_depth': 16, 'rf_n_estimators': 66}. Best is trial 10 with value: 0.7949265381083563.\u001b[0m\n",
            "\u001b[32m[I 2021-04-27 22:00:42,240]\u001b[0m Trial 23 finished with value: 0.786593204775023 and parameters: {'classifier': 'RandomForestClassifier', 'rf_max_depth': 14, 'rf_n_estimators': 59}. Best is trial 10 with value: 0.7949265381083563.\u001b[0m\n",
            "\u001b[32m[I 2021-04-27 22:00:42,659]\u001b[0m Trial 24 finished with value: 0.7949954086317722 and parameters: {'classifier': 'RandomForestClassifier', 'rf_max_depth': 6, 'rf_n_estimators': 67}. Best is trial 24 with value: 0.7949954086317722.\u001b[0m\n",
            "\u001b[32m[I 2021-04-27 22:00:42,805]\u001b[0m Trial 25 finished with value: 0.77277318640955 and parameters: {'classifier': 'RandomForestClassifier', 'rf_max_depth': 4, 'rf_n_estimators': 22}. Best is trial 24 with value: 0.7949954086317722.\u001b[0m\n",
            "\u001b[32m[I 2021-04-27 22:00:43,158]\u001b[0m Trial 26 finished with value: 0.7727961432506888 and parameters: {'classifier': 'RandomForestClassifier', 'rf_max_depth': 7, 'rf_n_estimators': 51}. Best is trial 24 with value: 0.7949954086317722.\u001b[0m\n",
            "\u001b[32m[I 2021-04-27 22:00:43,651]\u001b[0m Trial 27 finished with value: 0.7810606060606061 and parameters: {'classifier': 'RandomForestClassifier', 'rf_max_depth': 16, 'rf_n_estimators': 72}. Best is trial 24 with value: 0.7949954086317722.\u001b[0m\n",
            "\u001b[32m[I 2021-04-27 22:00:43,705]\u001b[0m Trial 28 finished with value: 0.5567952249770431 and parameters: {'classifier': 'LogReg', 'logreg_c': 1.0705059773964497e-10}. Best is trial 24 with value: 0.7949954086317722.\u001b[0m\n",
            "\u001b[32m[I 2021-04-27 22:00:43,851]\u001b[0m Trial 29 finished with value: 0.5567952249770431 and parameters: {'classifier': 'SVC', 'svc_c': 4.516606780990454e-09}. Best is trial 24 with value: 0.7949954086317722.\u001b[0m\n"
          ],
          "name": "stderr"
        }
      ]
    },
    {
      "cell_type": "code",
      "metadata": {
        "colab": {
          "base_uri": "https://localhost:8080/"
        },
        "id": "MpPrc3P2PQyT",
        "outputId": "5cc813ca-adce-4db9-c3db-18fe5586d2f8"
      },
      "source": [
        "cstudy.best_trial\n"
      ],
      "execution_count": null,
      "outputs": [
        {
          "output_type": "execute_result",
          "data": {
            "text/plain": [
              "FrozenTrial(number=24, values=[0.7949954086317722], datetime_start=datetime.datetime(2021, 4, 27, 22, 0, 42, 241584), datetime_complete=datetime.datetime(2021, 4, 27, 22, 0, 42, 659571), params={'classifier': 'RandomForestClassifier', 'rf_max_depth': 6, 'rf_n_estimators': 67}, distributions={'classifier': CategoricalDistribution(choices=('SVC', 'RandomForestClassifier', 'LogReg', 'ElasticNet')), 'rf_max_depth': IntUniformDistribution(high=32, low=2, step=1), 'rf_n_estimators': IntLogUniformDistribution(high=128, low=2, step=1)}, user_attrs={}, system_attrs={}, intermediate_values={}, trial_id=24, state=TrialState.COMPLETE, value=None)"
            ]
          },
          "metadata": {
            "tags": []
          },
          "execution_count": 19
        }
      ]
    },
    {
      "cell_type": "code",
      "metadata": {
        "colab": {
          "base_uri": "https://localhost:8080/"
        },
        "id": "t_Mpj-RRRAYH",
        "outputId": "b0069dbe-7e26-4210-d722-cdc878feec93"
      },
      "source": [
        "cstudy.best_params"
      ],
      "execution_count": null,
      "outputs": [
        {
          "output_type": "execute_result",
          "data": {
            "text/plain": [
              "{'classifier': 'RandomForestClassifier',\n",
              " 'rf_max_depth': 6,\n",
              " 'rf_n_estimators': 67}"
            ]
          },
          "metadata": {
            "tags": []
          },
          "execution_count": 20
        }
      ]
    },
    {
      "cell_type": "code",
      "metadata": {
        "colab": {
          "base_uri": "https://localhost:8080/"
        },
        "id": "JFb_2kODoEWU",
        "outputId": "acd97d9c-65dd-4816-e511-31556c8b1739"
      },
      "source": [
        "model = sklearn.ensemble.RandomForestClassifier(\n",
        "            max_depth= 6, n_estimators= 67\n",
        "        )\n",
        "model.fit(X_train, y_train)"
      ],
      "execution_count": null,
      "outputs": [
        {
          "output_type": "execute_result",
          "data": {
            "text/plain": [
              "RandomForestClassifier(bootstrap=True, ccp_alpha=0.0, class_weight=None,\n",
              "                       criterion='gini', max_depth=6, max_features='auto',\n",
              "                       max_leaf_nodes=None, max_samples=None,\n",
              "                       min_impurity_decrease=0.0, min_impurity_split=None,\n",
              "                       min_samples_leaf=1, min_samples_split=2,\n",
              "                       min_weight_fraction_leaf=0.0, n_estimators=67,\n",
              "                       n_jobs=None, oob_score=False, random_state=None,\n",
              "                       verbose=0, warm_start=False)"
            ]
          },
          "metadata": {
            "tags": []
          },
          "execution_count": 26
        }
      ]
    },
    {
      "cell_type": "code",
      "metadata": {
        "colab": {
          "base_uri": "https://localhost:8080/"
        },
        "id": "udHJry8Ipbdi",
        "outputId": "f3160803-4de2-4996-8b98-57ebc5f17a6a"
      },
      "source": [
        "prediction_test= model.predict(X_test)\n",
        "print(f1_score(y_test, prediction_test) * 100)"
      ],
      "execution_count": null,
      "outputs": [
        {
          "output_type": "stream",
          "text": [
            "78.84615384615384\n"
          ],
          "name": "stdout"
        }
      ]
    },
    {
      "cell_type": "code",
      "metadata": {
        "colab": {
          "base_uri": "https://localhost:8080/",
          "height": 295
        },
        "id": "eA3IrcrhqLQq",
        "outputId": "86893069-d103-4e1c-8c97-220f1a3750fc"
      },
      "source": [
        "fpr, tpr, thresholds = roc_curve(y_test,prediction_test,pos_label=1)\n",
        "areaUnderROC = auc(fpr, tpr)\n",
        "plt.figure()\n",
        "plt.plot(fpr, tpr, color='r', lw=2, label='ROC curve')\n",
        "plt.plot([0, 1], [0, 1], color='k', lw=2, linestyle='--')\n",
        "plt.xlim([0.0, 1.0])\n",
        "plt.ylim([0.0, 1.05])\n",
        "plt.xlabel('False Positive Rate')\n",
        "plt.ylabel('True Positive Rate')\n",
        "plt.title('Receiver operating characteristic: Area under the curve = {0:0.2f}'.format(areaUnderROC))\n",
        "plt.legend(loc=\"lower right\")\n",
        "plt.show()"
      ],
      "execution_count": null,
      "outputs": [
        {
          "output_type": "display_data",
          "data": {
            "image/png": "[encoded data removed]",
            "text/plain": [
              "<Figure size 432x288 with 1 Axes>"
            ]
          },
          "metadata": {
            "tags": [],
            "needs_background": "light"
          }
        }
      ]
    },
    {
      "cell_type": "markdown",
      "metadata": {
        "id": "x9FSjHHG_uga"
      },
      "source": [
        "## MLP Optuna"
      ]
    },
    {
      "cell_type": "code",
      "metadata": {
        "id": "OquB6V0gwnaG"
      },
      "source": [
        "from sklearn.neural_network import MLPClassifier\n",
        "from keras.regularizers import l2"
      ],
      "execution_count": null,
      "outputs": []
    },
    {
      "cell_type": "code",
      "metadata": {
        "id": "_YnuxQ0mwniS"
      },
      "source": [
        "def objective_mlp(trial):\n",
        "    \n",
        "\n",
        "    kwargs = {}\n",
        "    kwargs['activation'] = trial.suggest_categorical('activation', ['identity', 'logistic', 'tanh', 'relu'])\n",
        "    kwargs['solver'] = trial.suggest_categorical('solver', ['lbfgs', 'sgd', 'adam'])\n",
        "    kwargs['alpha'] = trial.suggest_float(\"alpha\", 1e-5, 1e-5, log=True)\n",
        "    \n",
        "    n_layers = trial.suggest_int(\"n_layers\", 1, 3)\n",
        "    hidden_layer_sizes = []\n",
        "    for n in range(n_layers):\n",
        "        hidden_layer_sizes.append(\n",
        "            trial.suggest_int(\"n_units_l%d\" % n, 4, 128, log=True)\n",
        "        )\n",
        "    \n",
        "    model = MLPClassifier(hidden_layer_sizes=hidden_layer_sizes, **kwargs)\n",
        "    \n",
        "    score = sklearn.model_selection.cross_val_score(model, X_train, y_train, cv=3)\n",
        "    accuracy = score.mean()\n",
        "    \n",
        "    return accuracy"
      ],
      "execution_count": null,
      "outputs": []
    },
    {
      "cell_type": "code",
      "metadata": {
        "colab": {
          "base_uri": "https://localhost:8080/"
        },
        "id": "07ztRg-wwnmU",
        "outputId": "b8d1a6e5-988c-495c-99f5-fb62734e17ab"
      },
      "source": [
        "mlpstudy = optuna.create_study(direction=\"maximize\")\n",
        "mlpstudy.optimize(objective_mlp, n_trials=5)"
      ],
      "execution_count": null,
      "outputs": [
        {
          "output_type": "stream",
          "text": [
            "\u001b[32m[I 2021-04-26 10:48:27,212]\u001b[0m A new study created in memory with name: no-name-b546c278-3a04-4ce4-b250-18811290da37\u001b[0m\n",
            "\u001b[32m[I 2021-04-26 10:48:27,297]\u001b[0m Trial 0 finished with value: 0.6666666666666666 and parameters: {'activation': 'tanh', 'solver': 'lbfgs', 'alpha': 1e-05, 'n_layers': 1, 'n_units_l0': 5}. Best is trial 0 with value: 0.6666666666666666.\u001b[0m\n",
            "\u001b[32m[I 2021-04-26 10:48:28,453]\u001b[0m Trial 1 finished with value: 0.6925925925925925 and parameters: {'activation': 'relu', 'solver': 'adam', 'alpha': 1e-05, 'n_layers': 3, 'n_units_l0': 43, 'n_units_l1': 15, 'n_units_l2': 105}. Best is trial 1 with value: 0.6925925925925925.\u001b[0m\n",
            "\u001b[32m[I 2021-04-26 10:48:28,825]\u001b[0m Trial 2 finished with value: 0.6851851851851851 and parameters: {'activation': 'tanh', 'solver': 'lbfgs', 'alpha': 1e-05, 'n_layers': 1, 'n_units_l0': 41}. Best is trial 1 with value: 0.6925925925925925.\u001b[0m\n",
            "\u001b[32m[I 2021-04-26 10:48:28,951]\u001b[0m Trial 3 finished with value: 0.6962962962962962 and parameters: {'activation': 'tanh', 'solver': 'lbfgs', 'alpha': 1e-05, 'n_layers': 1, 'n_units_l0': 16}. Best is trial 3 with value: 0.6962962962962962.\u001b[0m\n",
            "\u001b[32m[I 2021-04-26 10:48:30,166]\u001b[0m Trial 4 finished with value: 0.6888888888888888 and parameters: {'activation': 'relu', 'solver': 'adam', 'alpha': 1e-05, 'n_layers': 2, 'n_units_l0': 5, 'n_units_l1': 98}. Best is trial 3 with value: 0.6962962962962962.\u001b[0m\n"
          ],
          "name": "stderr"
        }
      ]
    },
    {
      "cell_type": "code",
      "metadata": {
        "colab": {
          "base_uri": "https://localhost:8080/"
        },
        "id": "L_AApFVhwnpx",
        "outputId": "f990bacc-5f2d-4f91-adad-c99f9bd1ede2"
      },
      "source": [
        "mlpstudy.best_trial"
      ],
      "execution_count": null,
      "outputs": [
        {
          "output_type": "execute_result",
          "data": {
            "text/plain": [
              "FrozenTrial(number=3, values=[0.6962962962962962], datetime_start=datetime.datetime(2021, 4, 26, 10, 48, 28, 830615), datetime_complete=datetime.datetime(2021, 4, 26, 10, 48, 28, 950674), params={'activation': 'tanh', 'solver': 'lbfgs', 'alpha': 1e-05, 'n_layers': 1, 'n_units_l0': 16}, distributions={'activation': CategoricalDistribution(choices=('identity', 'logistic', 'tanh', 'relu')), 'solver': CategoricalDistribution(choices=('lbfgs', 'sgd', 'adam')), 'alpha': LogUniformDistribution(high=1e-05, low=1e-05), 'n_layers': IntUniformDistribution(high=3, low=1, step=1), 'n_units_l0': IntLogUniformDistribution(high=128, low=4, step=1)}, user_attrs={}, system_attrs={}, intermediate_values={}, trial_id=3, state=TrialState.COMPLETE, value=None)"
            ]
          },
          "metadata": {
            "tags": []
          },
          "execution_count": 621
        }
      ]
    },
    {
      "cell_type": "code",
      "metadata": {
        "id": "WfKqNd2mwns8"
      },
      "source": [
        "model = keras.models.Sequential([\n",
        "    keras.layers.Flatten(input_shape=[279]),\n",
        "    keras.layers.Dense(18, activation=\"relu\"),\n",
        "    #keras.layers.Dense(5, activation=\"relu\"),\n",
        "    #keras.layers.Dense(15, activation=\"relu\", kernel_regularizer=l2(1e-05)),\n",
        "    #keras.layers.Dense(4, activation=\"relu\"),\n",
        "    keras.layers.Dense(1, activation=\"sigmoid\")\n",
        "])"
      ],
      "execution_count": null,
      "outputs": []
    },
    {
      "cell_type": "code",
      "metadata": {
        "id": "K0kHS4niwnwa"
      },
      "source": [
        "model.compile(loss=keras.losses.binary_crossentropy,\n",
        "              optimizer=keras.optimizers.SGD(learning_rate = 0.001 , momentum=0.00),\n",
        "              metrics=[\"accuracy\"])"
      ],
      "execution_count": null,
      "outputs": []
    },
    {
      "cell_type": "code",
      "metadata": {
        "colab": {
          "base_uri": "https://localhost:8080/"
        },
        "id": "iivpNeygwn0c",
        "outputId": "61882b51-29c5-4999-8302-f7ce8c79b2a0"
      },
      "source": [
        "history = model.fit(X_train, y_train, epochs=20,\n",
        "                    validation_data=(X_val, y_val))"
      ],
      "execution_count": null,
      "outputs": [
        {
          "output_type": "stream",
          "text": [
            "Epoch 1/20\n",
            "9/9 [==============================] - 1s 42ms/step - loss: 0.7801 - accuracy: 0.5534 - val_loss: 0.7455 - val_accuracy: 0.5934\n",
            "Epoch 2/20\n",
            "9/9 [==============================] - 0s 7ms/step - loss: 0.7144 - accuracy: 0.5777 - val_loss: 0.7414 - val_accuracy: 0.6044\n",
            "Epoch 3/20\n",
            "9/9 [==============================] - 0s 8ms/step - loss: 0.7271 - accuracy: 0.5694 - val_loss: 0.7375 - val_accuracy: 0.6044\n",
            "Epoch 4/20\n",
            "9/9 [==============================] - 0s 7ms/step - loss: 0.6775 - accuracy: 0.6145 - val_loss: 0.7343 - val_accuracy: 0.5934\n",
            "Epoch 5/20\n",
            "9/9 [==============================] - 0s 7ms/step - loss: 0.7038 - accuracy: 0.5936 - val_loss: 0.7307 - val_accuracy: 0.6154\n",
            "Epoch 6/20\n",
            "9/9 [==============================] - 0s 7ms/step - loss: 0.6829 - accuracy: 0.6048 - val_loss: 0.7275 - val_accuracy: 0.6154\n",
            "Epoch 7/20\n",
            "9/9 [==============================] - 0s 7ms/step - loss: 0.6937 - accuracy: 0.6103 - val_loss: 0.7245 - val_accuracy: 0.6044\n",
            "Epoch 8/20\n",
            "9/9 [==============================] - 0s 8ms/step - loss: 0.6829 - accuracy: 0.6233 - val_loss: 0.7215 - val_accuracy: 0.6044\n",
            "Epoch 9/20\n",
            "9/9 [==============================] - 0s 8ms/step - loss: 0.6444 - accuracy: 0.6169 - val_loss: 0.7186 - val_accuracy: 0.6044\n",
            "Epoch 10/20\n",
            "9/9 [==============================] - 0s 7ms/step - loss: 0.6796 - accuracy: 0.5991 - val_loss: 0.7158 - val_accuracy: 0.6044\n",
            "Epoch 11/20\n",
            "9/9 [==============================] - 0s 7ms/step - loss: 0.6644 - accuracy: 0.6080 - val_loss: 0.7131 - val_accuracy: 0.6154\n",
            "Epoch 12/20\n",
            "9/9 [==============================] - 0s 7ms/step - loss: 0.6796 - accuracy: 0.6033 - val_loss: 0.7106 - val_accuracy: 0.6264\n",
            "Epoch 13/20\n",
            "9/9 [==============================] - 0s 9ms/step - loss: 0.6623 - accuracy: 0.6360 - val_loss: 0.7080 - val_accuracy: 0.6264\n",
            "Epoch 14/20\n",
            "9/9 [==============================] - 0s 7ms/step - loss: 0.6449 - accuracy: 0.6539 - val_loss: 0.7055 - val_accuracy: 0.6264\n",
            "Epoch 15/20\n",
            "9/9 [==============================] - 0s 7ms/step - loss: 0.6352 - accuracy: 0.6601 - val_loss: 0.7031 - val_accuracy: 0.6264\n",
            "Epoch 16/20\n",
            "9/9 [==============================] - 0s 8ms/step - loss: 0.6524 - accuracy: 0.6396 - val_loss: 0.7006 - val_accuracy: 0.6264\n",
            "Epoch 17/20\n",
            "9/9 [==============================] - 0s 7ms/step - loss: 0.6691 - accuracy: 0.6315 - val_loss: 0.6983 - val_accuracy: 0.6264\n",
            "Epoch 18/20\n",
            "9/9 [==============================] - 0s 8ms/step - loss: 0.6491 - accuracy: 0.6719 - val_loss: 0.6960 - val_accuracy: 0.6264\n",
            "Epoch 19/20\n",
            "9/9 [==============================] - 0s 9ms/step - loss: 0.6441 - accuracy: 0.6457 - val_loss: 0.6939 - val_accuracy: 0.6264\n",
            "Epoch 20/20\n",
            "9/9 [==============================] - 0s 7ms/step - loss: 0.5864 - accuracy: 0.7034 - val_loss: 0.6918 - val_accuracy: 0.6264\n"
          ],
          "name": "stdout"
        }
      ]
    },
    {
      "cell_type": "code",
      "metadata": {
        "colab": {
          "base_uri": "https://localhost:8080/",
          "height": 324
        },
        "id": "mCQ133rcz4oV",
        "outputId": "9c647efc-2006-497a-acc2-94b80f54dfc7"
      },
      "source": [
        "pd.DataFrame(history.history).plot(figsize=(8, 5))\n",
        "plt.grid(True)\n",
        "plt.gca().set_ylim(0, 1)\n",
        "plt.show()"
      ],
      "execution_count": null,
      "outputs": [
        {
          "output_type": "display_data",
          "data": {
            "image/png": "[encoded data removed]",
            "text/plain": [
              "<Figure size 576x360 with 1 Axes>"
            ]
          },
          "metadata": {
            "tags": [],
            "needs_background": "light"
          }
        }
      ]
    },
    {
      "cell_type": "code",
      "metadata": {
        "colab": {
          "base_uri": "https://localhost:8080/",
          "height": 295
        },
        "id": "s9mbp3-uz4x_",
        "outputId": "e028c200-4af6-4e95-b3fe-80883e992ea5"
      },
      "source": [
        "loss_train = history.history['loss']\n",
        "loss_val = history.history['val_loss']\n",
        "epochs = range(1,21)\n",
        "plt.plot(epochs, loss_train, 'g', label='Training loss')\n",
        "plt.plot(epochs, loss_val, 'b', label='validation loss')\n",
        "plt.title('Training and Validation loss')\n",
        "plt.xlabel('Epochs')\n",
        "plt.ylabel('Loss')\n",
        "plt.legend()\n",
        "plt.show()"
      ],
      "execution_count": null,
      "outputs": [
        {
          "output_type": "display_data",
          "data": {
            "image/png": "[encoded data removed]",
            "text/plain": [
              "<Figure size 432x288 with 1 Axes>"
            ]
          },
          "metadata": {
            "tags": [],
            "needs_background": "light"
          }
        }
      ]
    },
    {
      "cell_type": "code",
      "metadata": {
        "colab": {
          "base_uri": "https://localhost:8080/",
          "height": 295
        },
        "id": "nvRAShvI0AWP",
        "outputId": "245603f6-9a94-464c-9a47-78d6a15ccb55"
      },
      "source": [
        "loss_train = history.history['accuracy']\n",
        "loss_val = history.history['val_accuracy']\n",
        "epochs = range(1,21)\n",
        "plt.plot(epochs, loss_train, 'g', label='Training accuracy')\n",
        "plt.plot(epochs, loss_val, 'b', label='validation accuracy')\n",
        "plt.title('Training and Validation accuracy')\n",
        "plt.xlabel('Epochs')\n",
        "plt.ylabel('Accuracy')\n",
        "plt.legend()\n",
        "plt.show()"
      ],
      "execution_count": null,
      "outputs": [
        {
          "output_type": "display_data",
          "data": {
            "image/png": "[encoded data removed]",
            "text/plain": [
              "<Figure size 432x288 with 1 Axes>"
            ]
          },
          "metadata": {
            "tags": [],
            "needs_background": "light"
          }
        }
      ]
    },
    {
      "cell_type": "markdown",
      "metadata": {
        "id": "0qM54rsB3PCl"
      },
      "source": [
        "# Multi Layer Perceptron"
      ]
    },
    {
      "cell_type": "code",
      "metadata": {
        "id": "TP3mbkVwktU3"
      },
      "source": [
        "X_train1, X_test, y_train1, y_test = train_test_split(X, y_binary, test_size=0.20, random_state=42)\n",
        "X_train, X_val, y_train, y_val = train_test_split(X_train1, y_train1, test_size=0.25, random_state=42)"
      ],
      "execution_count": null,
      "outputs": []
    },
    {
      "cell_type": "code",
      "metadata": {
        "id": "XfE3bDaIlLwA"
      },
      "source": [
        "col_missing_values = [10,11,12,13,14]\n",
        "\n",
        "for i in col_missing_values:\n",
        "    X_train[i] = X_train[i].astype(float)\n",
        "    X_val[i] = X_val[i].astype(float)\n",
        "    X_test[i] = X_test[i].astype(float)\n",
        "\n",
        "train_mean={}\n",
        "for i in col_missing_values :\n",
        "    train_mean[i] = X_train[i].mean() \n",
        "\n",
        "for i in col_missing_values:\n",
        "  X_train[i].replace(np.nan,train_mean[i],inplace= True)\n",
        "  X_val[i].replace(np.nan,train_mean[i],inplace= True)\n",
        "  X_test[i].replace(np.nan,train_mean[i],inplace= True)\n",
        "\n",
        "nominal_cols = []\n",
        "nominal_cols.append(1)\n",
        "wave_cols = [15,27,39,51,63,75,87,99,111,123,135,147]\n",
        "for x in wave_cols:\n",
        "  sub_col = [i for i in range(x+6,x+12)]\n",
        "  nominal_cols.extend(sub_col)\n",
        "\n",
        "for i in nominal_cols:\n",
        "  X_train[i] = X_train[i].astype(str).astype(int)\n",
        "  X_val[i] = X_val[i].astype(str).astype(int)\n",
        "  X_test[i] = X_test[i].astype(str).astype(int)\n",
        "\n",
        "\n",
        "clf = StandardScaler()\n",
        "clf.fit(X_train)\n",
        "X_train = pd.DataFrame(clf.transform(X_train))\n",
        "X_val = pd.DataFrame(clf.transform(X_val))\n",
        "X_test = pd.DataFrame(clf.transform(X_test))"
      ],
      "execution_count": null,
      "outputs": []
    },
    {
      "cell_type": "code",
      "metadata": {
        "id": "i3cmcyn-FMn4"
      },
      "source": [
        "def plot(history,epoch):\n",
        "  loss_train = history.history['loss']\n",
        "  loss_val = history.history['val_loss']\n",
        "  epochs = range(1,epoch+1)\n",
        "  plt.plot(epochs, loss_train, 'g', label='Training loss')\n",
        "  plt.plot(epochs, loss_val, 'b', label='validation loss')\n",
        "  plt.title('Training and Validation loss')\n",
        "  plt.xlabel('Epochs')\n",
        "  plt.ylabel('Loss')\n",
        "  plt.legend()\n",
        "  plt.show()\n",
        "\n",
        "\n",
        "  loss_train = history.history['accuracy']\n",
        "  loss_val = history.history['val_accuracy']\n",
        "  epochs = range(1,epoch+1)\n",
        "  plt.plot(epochs, loss_train, 'g', label='Training accuracy')\n",
        "  plt.plot(epochs, loss_val, 'b', label='validation accuracy')\n",
        "  plt.title('Training and Validation accuracy')\n",
        "  plt.xlabel('Epochs')\n",
        "  plt.ylabel('Accuracy')\n",
        "  plt.legend()\n",
        "  plt.show()"
      ],
      "execution_count": null,
      "outputs": []
    },
    {
      "cell_type": "code",
      "metadata": {
        "id": "bPDURtIpBzcr"
      },
      "source": [
        "keras.backend.clear_session()\n",
        "np.random.seed(425)\n",
        "tf.random.set_seed(425)"
      ],
      "execution_count": null,
      "outputs": []
    },
    {
      "cell_type": "code",
      "metadata": {
        "id": "Vt443p3bHo8t",
        "colab": {
          "base_uri": "https://localhost:8080/"
        },
        "outputId": "6327f71c-a9ac-449f-f405-fddf993708e9"
      },
      "source": [
        "model1 = keras.models.Sequential([\n",
        "    keras.layers.Flatten(input_shape=[279]),\n",
        "    keras.layers.Dense(16, activation=\"relu\"),\n",
        "    keras.layers.Dense(4, activation=\"relu\"),\n",
        "    keras.layers.Dense(1, activation=\"sigmoid\")\n",
        "])\n",
        "\n",
        "model1.compile(loss=keras.losses.binary_crossentropy,\n",
        "              optimizer=keras.optimizers.RMSprop(learning_rate = 0.001 , momentum=0.00),\n",
        "              metrics=[\"accuracy\"])\n",
        "\n",
        "history1 = model1.fit(X_train, y_train, epochs = 50,\n",
        "                    validation_data=(X_val, y_val))"
      ],
      "execution_count": null,
      "outputs": [
        {
          "output_type": "stream",
          "text": [
            "Epoch 1/50\n",
            "9/9 [==============================] - 1s 42ms/step - loss: 0.8999 - accuracy: 0.4926 - val_loss: 0.7519 - val_accuracy: 0.5934\n",
            "Epoch 2/50\n",
            "9/9 [==============================] - 0s 7ms/step - loss: 0.7127 - accuracy: 0.5422 - val_loss: 0.7158 - val_accuracy: 0.5934\n",
            "Epoch 3/50\n",
            "9/9 [==============================] - 0s 8ms/step - loss: 0.6354 - accuracy: 0.6110 - val_loss: 0.6865 - val_accuracy: 0.6264\n",
            "Epoch 4/50\n",
            "9/9 [==============================] - 0s 8ms/step - loss: 0.6266 - accuracy: 0.5830 - val_loss: 0.6729 - val_accuracy: 0.6264\n",
            "Epoch 5/50\n",
            "9/9 [==============================] - 0s 7ms/step - loss: 0.6091 - accuracy: 0.6201 - val_loss: 0.6669 - val_accuracy: 0.6374\n",
            "Epoch 6/50\n",
            "9/9 [==============================] - 0s 9ms/step - loss: 0.5734 - accuracy: 0.6540 - val_loss: 0.6647 - val_accuracy: 0.6374\n",
            "Epoch 7/50\n",
            "9/9 [==============================] - 0s 8ms/step - loss: 0.5420 - accuracy: 0.7213 - val_loss: 0.6638 - val_accuracy: 0.6374\n",
            "Epoch 8/50\n",
            "9/9 [==============================] - 0s 8ms/step - loss: 0.5404 - accuracy: 0.7209 - val_loss: 0.6622 - val_accuracy: 0.6374\n",
            "Epoch 9/50\n",
            "9/9 [==============================] - 0s 7ms/step - loss: 0.5228 - accuracy: 0.7051 - val_loss: 0.6627 - val_accuracy: 0.6374\n",
            "Epoch 10/50\n",
            "9/9 [==============================] - 0s 8ms/step - loss: 0.5061 - accuracy: 0.7170 - val_loss: 0.6598 - val_accuracy: 0.6374\n",
            "Epoch 11/50\n",
            "9/9 [==============================] - 0s 9ms/step - loss: 0.5205 - accuracy: 0.7340 - val_loss: 0.6576 - val_accuracy: 0.6484\n",
            "Epoch 12/50\n",
            "9/9 [==============================] - 0s 8ms/step - loss: 0.5052 - accuracy: 0.7338 - val_loss: 0.6707 - val_accuracy: 0.6484\n",
            "Epoch 13/50\n",
            "9/9 [==============================] - 0s 7ms/step - loss: 0.4750 - accuracy: 0.7986 - val_loss: 0.6735 - val_accuracy: 0.6593\n",
            "Epoch 14/50\n",
            "9/9 [==============================] - 0s 8ms/step - loss: 0.4490 - accuracy: 0.7788 - val_loss: 0.6830 - val_accuracy: 0.6703\n",
            "Epoch 15/50\n",
            "9/9 [==============================] - 0s 8ms/step - loss: 0.4515 - accuracy: 0.7885 - val_loss: 0.6890 - val_accuracy: 0.6484\n",
            "Epoch 16/50\n",
            "9/9 [==============================] - 0s 9ms/step - loss: 0.4393 - accuracy: 0.7935 - val_loss: 0.6914 - val_accuracy: 0.6703\n",
            "Epoch 17/50\n",
            "9/9 [==============================] - 0s 7ms/step - loss: 0.4141 - accuracy: 0.8358 - val_loss: 0.6887 - val_accuracy: 0.6703\n",
            "Epoch 18/50\n",
            "9/9 [==============================] - 0s 8ms/step - loss: 0.4192 - accuracy: 0.8371 - val_loss: 0.7096 - val_accuracy: 0.6703\n",
            "Epoch 19/50\n",
            "9/9 [==============================] - 0s 8ms/step - loss: 0.4326 - accuracy: 0.8289 - val_loss: 0.7174 - val_accuracy: 0.6703\n",
            "Epoch 20/50\n",
            "9/9 [==============================] - 0s 8ms/step - loss: 0.4329 - accuracy: 0.8565 - val_loss: 0.7231 - val_accuracy: 0.6703\n",
            "Epoch 21/50\n",
            "9/9 [==============================] - 0s 8ms/step - loss: 0.4062 - accuracy: 0.8642 - val_loss: 0.7298 - val_accuracy: 0.6703\n",
            "Epoch 22/50\n",
            "9/9 [==============================] - 0s 8ms/step - loss: 0.3872 - accuracy: 0.9003 - val_loss: 0.7332 - val_accuracy: 0.6703\n",
            "Epoch 23/50\n",
            "9/9 [==============================] - 0s 9ms/step - loss: 0.4006 - accuracy: 0.8963 - val_loss: 0.7325 - val_accuracy: 0.6703\n",
            "Epoch 24/50\n",
            "9/9 [==============================] - 0s 9ms/step - loss: 0.3808 - accuracy: 0.9081 - val_loss: 0.7451 - val_accuracy: 0.6813\n",
            "Epoch 25/50\n",
            "9/9 [==============================] - 0s 9ms/step - loss: 0.3576 - accuracy: 0.9091 - val_loss: 0.7595 - val_accuracy: 0.6703\n",
            "Epoch 26/50\n",
            "9/9 [==============================] - 0s 8ms/step - loss: 0.3575 - accuracy: 0.9199 - val_loss: 0.7519 - val_accuracy: 0.6813\n",
            "Epoch 27/50\n",
            "9/9 [==============================] - 0s 8ms/step - loss: 0.3561 - accuracy: 0.9227 - val_loss: 0.7579 - val_accuracy: 0.6813\n",
            "Epoch 28/50\n",
            "9/9 [==============================] - 0s 9ms/step - loss: 0.3726 - accuracy: 0.9350 - val_loss: 0.7755 - val_accuracy: 0.6923\n",
            "Epoch 29/50\n",
            "9/9 [==============================] - 0s 8ms/step - loss: 0.3654 - accuracy: 0.9470 - val_loss: 0.7851 - val_accuracy: 0.7033\n",
            "Epoch 30/50\n",
            "9/9 [==============================] - 0s 8ms/step - loss: 0.3526 - accuracy: 0.9478 - val_loss: 0.7837 - val_accuracy: 0.7033\n",
            "Epoch 31/50\n",
            "9/9 [==============================] - 0s 10ms/step - loss: 0.3311 - accuracy: 0.9599 - val_loss: 0.7989 - val_accuracy: 0.6923\n",
            "Epoch 32/50\n",
            "9/9 [==============================] - 0s 8ms/step - loss: 0.3336 - accuracy: 0.9664 - val_loss: 0.8080 - val_accuracy: 0.7033\n",
            "Epoch 33/50\n",
            "9/9 [==============================] - 0s 8ms/step - loss: 0.3383 - accuracy: 0.9490 - val_loss: 0.8216 - val_accuracy: 0.7033\n",
            "Epoch 34/50\n",
            "9/9 [==============================] - 0s 8ms/step - loss: 0.3117 - accuracy: 0.9648 - val_loss: 0.8355 - val_accuracy: 0.7033\n",
            "Epoch 35/50\n",
            "9/9 [==============================] - 0s 8ms/step - loss: 0.3239 - accuracy: 0.9662 - val_loss: 0.8443 - val_accuracy: 0.6923\n",
            "Epoch 36/50\n",
            "9/9 [==============================] - 0s 8ms/step - loss: 0.3207 - accuracy: 0.9727 - val_loss: 0.8448 - val_accuracy: 0.7143\n",
            "Epoch 37/50\n",
            "9/9 [==============================] - 0s 9ms/step - loss: 0.3065 - accuracy: 0.9803 - val_loss: 0.8500 - val_accuracy: 0.7143\n",
            "Epoch 38/50\n",
            "9/9 [==============================] - 0s 8ms/step - loss: 0.2849 - accuracy: 0.9767 - val_loss: 0.8645 - val_accuracy: 0.6923\n",
            "Epoch 39/50\n",
            "9/9 [==============================] - 0s 8ms/step - loss: 0.3213 - accuracy: 0.9844 - val_loss: 0.8642 - val_accuracy: 0.7033\n",
            "Epoch 40/50\n",
            "9/9 [==============================] - 0s 7ms/step - loss: 0.3056 - accuracy: 0.9757 - val_loss: 0.8831 - val_accuracy: 0.7253\n",
            "Epoch 41/50\n",
            "9/9 [==============================] - 0s 8ms/step - loss: 0.2926 - accuracy: 0.9745 - val_loss: 0.8912 - val_accuracy: 0.7033\n",
            "Epoch 42/50\n",
            "9/9 [==============================] - 0s 9ms/step - loss: 0.2905 - accuracy: 0.9843 - val_loss: 0.9013 - val_accuracy: 0.7143\n",
            "Epoch 43/50\n",
            "9/9 [==============================] - 0s 9ms/step - loss: 0.3018 - accuracy: 0.9644 - val_loss: 0.9280 - val_accuracy: 0.7143\n",
            "Epoch 44/50\n",
            "9/9 [==============================] - 0s 9ms/step - loss: 0.2609 - accuracy: 0.9804 - val_loss: 0.9313 - val_accuracy: 0.6923\n",
            "Epoch 45/50\n",
            "9/9 [==============================] - 0s 8ms/step - loss: 0.2457 - accuracy: 0.9906 - val_loss: 0.9313 - val_accuracy: 0.7033\n",
            "Epoch 46/50\n",
            "9/9 [==============================] - 0s 8ms/step - loss: 0.2633 - accuracy: 0.9859 - val_loss: 0.9477 - val_accuracy: 0.7033\n",
            "Epoch 47/50\n",
            "9/9 [==============================] - 0s 8ms/step - loss: 0.2748 - accuracy: 0.9743 - val_loss: 0.9676 - val_accuracy: 0.7033\n",
            "Epoch 48/50\n",
            "9/9 [==============================] - 0s 8ms/step - loss: 0.2449 - accuracy: 0.9935 - val_loss: 0.9742 - val_accuracy: 0.7033\n",
            "Epoch 49/50\n",
            "9/9 [==============================] - 0s 8ms/step - loss: 0.2691 - accuracy: 0.9855 - val_loss: 0.9908 - val_accuracy: 0.7033\n",
            "Epoch 50/50\n",
            "9/9 [==============================] - 0s 8ms/step - loss: 0.2624 - accuracy: 0.9738 - val_loss: 1.0140 - val_accuracy: 0.7143\n"
          ],
          "name": "stdout"
        }
      ]
    },
    {
      "cell_type": "code",
      "metadata": {
        "id": "gIelEXeNHpKX",
        "colab": {
          "base_uri": "https://localhost:8080/",
          "height": 573
        },
        "outputId": "e78a14da-28ae-45c3-dfcd-cf9b2617c63a"
      },
      "source": [
        "plot(history1,50)"
      ],
      "execution_count": null,
      "outputs": [
        {
          "output_type": "display_data",
          "data": {
            "image/png": "[encoded data removed]",
            "text/plain": [
              "<Figure size 432x288 with 1 Axes>"
            ]
          },
          "metadata": {
            "tags": [],
            "needs_background": "light"
          }
        },
        {
          "output_type": "display_data",
          "data": {
            "image/png": "[encoded data removed]",
            "text/plain": [
              "<Figure size 432x288 with 1 Axes>"
            ]
          },
          "metadata": {
            "tags": [],
            "needs_background": "light"
          }
        }
      ]
    },
    {
      "cell_type": "code",
      "metadata": {
        "colab": {
          "base_uri": "https://localhost:8080/"
        },
        "id": "WKzmixwjEMf8",
        "outputId": "d82b46bb-946d-4edf-a87f-2be785f70b82"
      },
      "source": [
        "predictions1 = model1.predict_classes(X_test)\n",
        "acc_score = accuracy_score(y_test, predictions1)\n",
        "print(acc_score*100)"
      ],
      "execution_count": null,
      "outputs": [
        {
          "output_type": "stream",
          "text": [
            "56.043956043956044\n"
          ],
          "name": "stdout"
        }
      ]
    },
    {
      "cell_type": "code",
      "metadata": {
        "id": "8bUSKULWOBMV"
      },
      "source": [
        "keras.backend.clear_session()\n",
        "np.random.seed(425)\n",
        "tf.random.set_seed(425)"
      ],
      "execution_count": null,
      "outputs": []
    },
    {
      "cell_type": "code",
      "metadata": {
        "colab": {
          "base_uri": "https://localhost:8080/"
        },
        "id": "QV0DnLYOFdWo",
        "outputId": "7ff04e26-0314-4251-cb6a-44cf3e5f06a5"
      },
      "source": [
        "model2 = keras.models.Sequential([\n",
        "    keras.layers.Flatten(input_shape=[279]),\n",
        "    keras.layers.Dense(16, activation=\"relu\"),\n",
        "    keras.layers.Dropout(0.5),\n",
        "    keras.layers.Dense(1, activation=\"sigmoid\")\n",
        "])\n",
        "\n",
        "model2.compile(loss=keras.losses.binary_crossentropy,\n",
        "              optimizer=keras.optimizers.RMSprop(learning_rate = 0.001 , momentum=0.00),\n",
        "              metrics=[\"accuracy\"])\n",
        "\n",
        "history2 = model2.fit(X_train, y_train, epochs=50,\n",
        "                    validation_data=(X_val, y_val))"
      ],
      "execution_count": null,
      "outputs": [
        {
          "output_type": "stream",
          "text": [
            "Epoch 1/50\n",
            "9/9 [==============================] - 1s 37ms/step - loss: 1.0541 - accuracy: 0.5641 - val_loss: 0.9133 - val_accuracy: 0.5824\n",
            "Epoch 2/50\n",
            "9/9 [==============================] - 0s 8ms/step - loss: 0.8433 - accuracy: 0.5770 - val_loss: 0.8607 - val_accuracy: 0.5824\n",
            "Epoch 3/50\n",
            "9/9 [==============================] - 0s 8ms/step - loss: 0.7717 - accuracy: 0.5947 - val_loss: 0.8331 - val_accuracy: 0.6154\n",
            "Epoch 4/50\n",
            "9/9 [==============================] - 0s 7ms/step - loss: 0.7079 - accuracy: 0.6922 - val_loss: 0.7965 - val_accuracy: 0.6484\n",
            "Epoch 5/50\n",
            "9/9 [==============================] - 0s 7ms/step - loss: 0.6714 - accuracy: 0.6571 - val_loss: 0.7847 - val_accuracy: 0.6703\n",
            "Epoch 6/50\n",
            "9/9 [==============================] - 0s 7ms/step - loss: 0.8005 - accuracy: 0.6295 - val_loss: 0.7576 - val_accuracy: 0.6703\n",
            "Epoch 7/50\n",
            "9/9 [==============================] - 0s 7ms/step - loss: 0.7124 - accuracy: 0.6820 - val_loss: 0.7335 - val_accuracy: 0.6923\n",
            "Epoch 8/50\n",
            "9/9 [==============================] - 0s 9ms/step - loss: 0.6225 - accuracy: 0.6908 - val_loss: 0.6990 - val_accuracy: 0.7033\n",
            "Epoch 9/50\n",
            "9/9 [==============================] - 0s 8ms/step - loss: 0.6142 - accuracy: 0.7636 - val_loss: 0.6947 - val_accuracy: 0.7253\n",
            "Epoch 10/50\n",
            "9/9 [==============================] - 0s 8ms/step - loss: 0.5216 - accuracy: 0.7810 - val_loss: 0.6778 - val_accuracy: 0.7253\n",
            "Epoch 11/50\n",
            "9/9 [==============================] - 0s 8ms/step - loss: 0.4642 - accuracy: 0.7790 - val_loss: 0.6495 - val_accuracy: 0.7143\n",
            "Epoch 12/50\n",
            "9/9 [==============================] - 0s 8ms/step - loss: 0.5668 - accuracy: 0.7391 - val_loss: 0.6357 - val_accuracy: 0.7363\n",
            "Epoch 13/50\n",
            "9/9 [==============================] - 0s 9ms/step - loss: 0.4699 - accuracy: 0.7965 - val_loss: 0.6324 - val_accuracy: 0.7363\n",
            "Epoch 14/50\n",
            "9/9 [==============================] - 0s 8ms/step - loss: 0.4572 - accuracy: 0.7963 - val_loss: 0.6217 - val_accuracy: 0.7363\n",
            "Epoch 15/50\n",
            "9/9 [==============================] - 0s 8ms/step - loss: 0.4718 - accuracy: 0.7794 - val_loss: 0.6274 - val_accuracy: 0.7143\n",
            "Epoch 16/50\n",
            "9/9 [==============================] - 0s 7ms/step - loss: 0.5091 - accuracy: 0.7800 - val_loss: 0.6245 - val_accuracy: 0.7253\n",
            "Epoch 17/50\n",
            "9/9 [==============================] - 0s 8ms/step - loss: 0.3901 - accuracy: 0.8501 - val_loss: 0.6197 - val_accuracy: 0.7253\n",
            "Epoch 18/50\n",
            "9/9 [==============================] - 0s 7ms/step - loss: 0.4263 - accuracy: 0.8133 - val_loss: 0.6073 - val_accuracy: 0.7363\n",
            "Epoch 19/50\n",
            "9/9 [==============================] - 0s 8ms/step - loss: 0.4377 - accuracy: 0.8092 - val_loss: 0.6133 - val_accuracy: 0.7143\n",
            "Epoch 20/50\n",
            "9/9 [==============================] - 0s 8ms/step - loss: 0.4510 - accuracy: 0.7918 - val_loss: 0.6079 - val_accuracy: 0.7473\n",
            "Epoch 21/50\n",
            "9/9 [==============================] - 0s 9ms/step - loss: 0.3716 - accuracy: 0.8417 - val_loss: 0.6121 - val_accuracy: 0.7473\n",
            "Epoch 22/50\n",
            "9/9 [==============================] - 0s 8ms/step - loss: 0.3423 - accuracy: 0.8886 - val_loss: 0.6034 - val_accuracy: 0.7473\n",
            "Epoch 23/50\n",
            "9/9 [==============================] - 0s 8ms/step - loss: 0.3923 - accuracy: 0.8559 - val_loss: 0.6066 - val_accuracy: 0.7473\n",
            "Epoch 24/50\n",
            "9/9 [==============================] - 0s 7ms/step - loss: 0.4102 - accuracy: 0.8329 - val_loss: 0.6087 - val_accuracy: 0.7582\n",
            "Epoch 25/50\n",
            "9/9 [==============================] - 0s 9ms/step - loss: 0.3896 - accuracy: 0.8478 - val_loss: 0.5957 - val_accuracy: 0.7582\n",
            "Epoch 26/50\n",
            "9/9 [==============================] - 0s 9ms/step - loss: 0.3218 - accuracy: 0.8698 - val_loss: 0.5951 - val_accuracy: 0.7692\n",
            "Epoch 27/50\n",
            "9/9 [==============================] - 0s 9ms/step - loss: 0.4097 - accuracy: 0.7987 - val_loss: 0.6087 - val_accuracy: 0.7582\n",
            "Epoch 28/50\n",
            "9/9 [==============================] - 0s 8ms/step - loss: 0.3231 - accuracy: 0.8564 - val_loss: 0.6050 - val_accuracy: 0.7473\n",
            "Epoch 29/50\n",
            "9/9 [==============================] - 0s 9ms/step - loss: 0.3153 - accuracy: 0.8871 - val_loss: 0.6009 - val_accuracy: 0.7692\n",
            "Epoch 30/50\n",
            "9/9 [==============================] - 0s 8ms/step - loss: 0.3238 - accuracy: 0.8736 - val_loss: 0.6040 - val_accuracy: 0.7692\n",
            "Epoch 31/50\n",
            "9/9 [==============================] - 0s 8ms/step - loss: 0.2835 - accuracy: 0.8751 - val_loss: 0.6057 - val_accuracy: 0.7692\n",
            "Epoch 32/50\n",
            "9/9 [==============================] - 0s 8ms/step - loss: 0.3087 - accuracy: 0.8815 - val_loss: 0.6072 - val_accuracy: 0.7802\n",
            "Epoch 33/50\n",
            "9/9 [==============================] - 0s 8ms/step - loss: 0.3324 - accuracy: 0.8644 - val_loss: 0.6196 - val_accuracy: 0.7802\n",
            "Epoch 34/50\n",
            "9/9 [==============================] - 0s 8ms/step - loss: 0.2701 - accuracy: 0.8848 - val_loss: 0.6190 - val_accuracy: 0.7802\n",
            "Epoch 35/50\n",
            "9/9 [==============================] - 0s 8ms/step - loss: 0.3202 - accuracy: 0.8648 - val_loss: 0.6079 - val_accuracy: 0.7802\n",
            "Epoch 36/50\n",
            "9/9 [==============================] - 0s 8ms/step - loss: 0.3143 - accuracy: 0.8644 - val_loss: 0.6181 - val_accuracy: 0.7692\n",
            "Epoch 37/50\n",
            "9/9 [==============================] - 0s 7ms/step - loss: 0.2860 - accuracy: 0.9129 - val_loss: 0.6253 - val_accuracy: 0.7582\n",
            "Epoch 38/50\n",
            "9/9 [==============================] - 0s 8ms/step - loss: 0.2596 - accuracy: 0.8699 - val_loss: 0.6369 - val_accuracy: 0.7692\n",
            "Epoch 39/50\n",
            "9/9 [==============================] - 0s 9ms/step - loss: 0.2682 - accuracy: 0.8865 - val_loss: 0.6298 - val_accuracy: 0.7582\n",
            "Epoch 40/50\n",
            "9/9 [==============================] - 0s 9ms/step - loss: 0.2561 - accuracy: 0.9201 - val_loss: 0.6252 - val_accuracy: 0.7582\n",
            "Epoch 41/50\n",
            "9/9 [==============================] - 0s 9ms/step - loss: 0.2646 - accuracy: 0.8867 - val_loss: 0.6259 - val_accuracy: 0.7802\n",
            "Epoch 42/50\n",
            "9/9 [==============================] - 0s 8ms/step - loss: 0.2330 - accuracy: 0.9253 - val_loss: 0.6322 - val_accuracy: 0.7692\n",
            "Epoch 43/50\n",
            "9/9 [==============================] - 0s 8ms/step - loss: 0.2547 - accuracy: 0.9292 - val_loss: 0.6388 - val_accuracy: 0.7692\n",
            "Epoch 44/50\n",
            "9/9 [==============================] - 0s 9ms/step - loss: 0.2562 - accuracy: 0.9003 - val_loss: 0.6445 - val_accuracy: 0.7802\n",
            "Epoch 45/50\n",
            "9/9 [==============================] - 0s 8ms/step - loss: 0.3256 - accuracy: 0.8968 - val_loss: 0.6597 - val_accuracy: 0.7912\n",
            "Epoch 46/50\n",
            "9/9 [==============================] - 0s 7ms/step - loss: 0.2539 - accuracy: 0.9105 - val_loss: 0.6648 - val_accuracy: 0.7802\n",
            "Epoch 47/50\n",
            "9/9 [==============================] - 0s 8ms/step - loss: 0.2524 - accuracy: 0.9258 - val_loss: 0.6655 - val_accuracy: 0.7802\n",
            "Epoch 48/50\n",
            "9/9 [==============================] - 0s 7ms/step - loss: 0.2160 - accuracy: 0.9057 - val_loss: 0.6648 - val_accuracy: 0.7912\n",
            "Epoch 49/50\n",
            "9/9 [==============================] - 0s 8ms/step - loss: 0.2215 - accuracy: 0.9121 - val_loss: 0.6721 - val_accuracy: 0.7802\n",
            "Epoch 50/50\n",
            "9/9 [==============================] - 0s 8ms/step - loss: 0.2239 - accuracy: 0.9069 - val_loss: 0.6708 - val_accuracy: 0.7912\n"
          ],
          "name": "stdout"
        }
      ]
    },
    {
      "cell_type": "code",
      "metadata": {
        "colab": {
          "base_uri": "https://localhost:8080/",
          "height": 573
        },
        "id": "C9LfB2UlFdb8",
        "outputId": "a7410e38-e943-4aeb-de4b-cca92b50ece7"
      },
      "source": [
        "plot(history2,50)"
      ],
      "execution_count": null,
      "outputs": [
        {
          "output_type": "display_data",
          "data": {
            "image/png": "[encoded data removed]",
            "text/plain": [
              "<Figure size 432x288 with 1 Axes>"
            ]
          },
          "metadata": {
            "tags": [],
            "needs_background": "light"
          }
        },
        {
          "output_type": "display_data",
          "data": {
            "image/png": "[encoded data removed]",
            "text/plain": [
              "<Figure size 432x288 with 1 Axes>"
            ]
          },
          "metadata": {
            "tags": [],
            "needs_background": "light"
          }
        }
      ]
    },
    {
      "cell_type": "code",
      "metadata": {
        "colab": {
          "base_uri": "https://localhost:8080/"
        },
        "id": "AhlVBci0Fdq4",
        "outputId": "2c518244-3721-450d-d2b7-287bee5a9178"
      },
      "source": [
        "predictions2 = model2.predict_classes(X_test)\n",
        "acc_score = f1_score(y_test, predictions2)\n",
        "print(acc_score*100)"
      ],
      "execution_count": null,
      "outputs": [
        {
          "output_type": "stream",
          "text": [
            "76.47058823529412\n"
          ],
          "name": "stdout"
        }
      ]
    },
    {
      "cell_type": "markdown",
      "metadata": {
        "id": "zpolGsIT3hbq"
      },
      "source": [
        "### CNN"
      ]
    },
    {
      "cell_type": "markdown",
      "metadata": {
        "id": "xIyVzjVuv_DH"
      },
      "source": [
        ""
      ]
    },
    {
      "cell_type": "code",
      "metadata": {
        "id": "2YXLOXBMvVpw"
      },
      "source": [
        "keras.backend.clear_session()\n",
        "np.random.seed(425)\n",
        "tf.random.set_seed(425)"
      ],
      "execution_count": null,
      "outputs": []
    },
    {
      "cell_type": "code",
      "metadata": {
        "id": "cGlNsLzxvVs7"
      },
      "source": [
        "from keras.models import Sequential\n",
        "from keras.layers import Dense, Conv1D, Flatten, MaxPooling1D,Dropout\n",
        "from sklearn.model_selection import train_test_split\n",
        "from sklearn.metrics import confusion_matrix\n",
        "from sklearn.datasets import load_iris\n",
        "from numpy import unique\n",
        "from keras.layers.advanced_activations import LeakyReLU"
      ],
      "execution_count": null,
      "outputs": []
    },
    {
      "cell_type": "code",
      "metadata": {
        "id": "XSLqI9gKP4df"
      },
      "source": [
        "X_train1, X_test, y_train1, y_test = train_test_split(X, y_binary, test_size=0.20, random_state=42)\n",
        "X_train, X_val, y_train, y_val = train_test_split(X_train1, y_train1, test_size=0.25, random_state=42)"
      ],
      "execution_count": null,
      "outputs": []
    },
    {
      "cell_type": "code",
      "metadata": {
        "id": "WIfWr4UEQCos"
      },
      "source": [
        "col_missing_values = [10,11,12,13,14]\n",
        "\n",
        "for i in col_missing_values:\n",
        "    X_train[i] = X_train[i].astype(float)\n",
        "    X_val[i] = X_val[i].astype(float)\n",
        "    X_test[i] = X_test[i].astype(float)\n",
        "\n",
        "train_mean={}\n",
        "for i in col_missing_values :\n",
        "    train_mean[i] = X_train[i].mean() \n",
        "\n",
        "for i in col_missing_values:\n",
        "  X_train[i].replace(np.nan,train_mean[i],inplace= True)\n",
        "  X_val[i].replace(np.nan,train_mean[i],inplace= True)\n",
        "  X_test[i].replace(np.nan,train_mean[i],inplace= True)\n",
        "\n",
        "nominal_cols = []\n",
        "nominal_cols.append(1)\n",
        "wave_cols = [15,27,39,51,63,75,87,99,111,123,135,147]\n",
        "for x in wave_cols:\n",
        "  sub_col = [i for i in range(x+6,x+12)]\n",
        "  nominal_cols.extend(sub_col)\n",
        "\n",
        "for i in nominal_cols:\n",
        "  X_train[i] = X_train[i].astype(str).astype(int)\n",
        "  X_val[i] = X_val[i].astype(str).astype(int)\n",
        "  X_test[i] = X_test[i].astype(str).astype(int)\n",
        "\n",
        "\n",
        "clf = StandardScaler()\n",
        "clf.fit(X_train)\n",
        "X_train = pd.DataFrame(clf.transform(X_train))\n",
        "X_val = pd.DataFrame(clf.transform(X_val))\n",
        "X_test = pd.DataFrame(clf.transform(X_test))"
      ],
      "execution_count": null,
      "outputs": []
    },
    {
      "cell_type": "code",
      "metadata": {
        "id": "jSwUOebJCL4H"
      },
      "source": [
        "X_train_numpy = X_train.to_numpy()\n",
        "X_val_numpy  = X_val.to_numpy()\n",
        "X_test_numpy  = X_test.to_numpy()"
      ],
      "execution_count": null,
      "outputs": []
    },
    {
      "cell_type": "code",
      "metadata": {
        "id": "ZE5q8BIWQN8S"
      },
      "source": [
        "X_train = X_train_numpy.reshape(X_train_numpy.shape[0], X_train.shape[1], 1)\n",
        "X_test = X_test_numpy.reshape(X_test_numpy.shape[0], X_test.shape[1], 1)\n",
        "X_val = X_val_numpy.reshape(X_val_numpy.shape[0], X_val.shape[1], 1)"
      ],
      "execution_count": null,
      "outputs": []
    },
    {
      "cell_type": "code",
      "metadata": {
        "colab": {
          "base_uri": "https://localhost:8080/"
        },
        "id": "uO7FZcKlCL8-",
        "outputId": "d3978378-4dd9-44b6-cbca-954224dfbfb1"
      },
      "source": [
        "model3 = Sequential()\n",
        "model3.add(Conv1D(256, 3, activation='relu',input_shape=(279,1),padding='same'))\n",
        "model3.add(MaxPooling1D())\n",
        "model3.add(Dropout(0.5))\n",
        "model3.add(Conv1D(128, 3, activation='relu',input_shape=(279,1),padding='same'))\n",
        "model3.add(MaxPooling1D())\n",
        "model3.add(Dropout(0.25))\n",
        "model3.add(Conv1D(64, 3, activation='relu',input_shape=(279,1),padding='same'))\n",
        "model3.add(MaxPooling1D())\n",
        "model3.add(Dropout(0.5))\n",
        "model3.add(Flatten()) \n",
        "model3.add(Dense(64, activation='relu')) \n",
        "model3.add(Dropout(0.5))               \n",
        "model3.add(Dense(1, activation='sigmoid'))\n",
        "\n",
        "model3.compile(loss = keras.losses.binary_crossentropy, \n",
        "     optimizer = \"adam\",               \n",
        "              metrics = ['accuracy'])\n",
        "model3.summary()"
      ],
      "execution_count": null,
      "outputs": [
        {
          "output_type": "stream",
          "text": [
            "Model: \"sequential_2\"\n",
            "_________________________________________________________________\n",
            "Layer (type)                 Output Shape              Param #   \n",
            "=================================================================\n",
            "conv1d_6 (Conv1D)            (None, 279, 256)          1024      \n",
            "_________________________________________________________________\n",
            "max_pooling1d_6 (MaxPooling1 (None, 139, 256)          0         \n",
            "_________________________________________________________________\n",
            "dropout_8 (Dropout)          (None, 139, 256)          0         \n",
            "_________________________________________________________________\n",
            "conv1d_7 (Conv1D)            (None, 139, 128)          98432     \n",
            "_________________________________________________________________\n",
            "max_pooling1d_7 (MaxPooling1 (None, 69, 128)           0         \n",
            "_________________________________________________________________\n",
            "dropout_9 (Dropout)          (None, 69, 128)           0         \n",
            "_________________________________________________________________\n",
            "conv1d_8 (Conv1D)            (None, 69, 64)            24640     \n",
            "_________________________________________________________________\n",
            "max_pooling1d_8 (MaxPooling1 (None, 34, 64)            0         \n",
            "_________________________________________________________________\n",
            "dropout_10 (Dropout)         (None, 34, 64)            0         \n",
            "_________________________________________________________________\n",
            "flatten_2 (Flatten)          (None, 2176)              0         \n",
            "_________________________________________________________________\n",
            "dense_4 (Dense)              (None, 64)                139328    \n",
            "_________________________________________________________________\n",
            "dropout_11 (Dropout)         (None, 64)                0         \n",
            "_________________________________________________________________\n",
            "dense_5 (Dense)              (None, 1)                 65        \n",
            "=================================================================\n",
            "Total params: 263,489\n",
            "Trainable params: 263,489\n",
            "Non-trainable params: 0\n",
            "_________________________________________________________________\n"
          ],
          "name": "stdout"
        }
      ]
    },
    {
      "cell_type": "code",
      "metadata": {
        "colab": {
          "base_uri": "https://localhost:8080/"
        },
        "id": "5eGsa59FCMEc",
        "outputId": "89a11d05-734c-419b-be9a-2881aa613c1e"
      },
      "source": [
        "history = model3.fit(X_train, y_train, epochs=15,\n",
        "                    validation_data=(X_val, y_val))"
      ],
      "execution_count": null,
      "outputs": [
        {
          "output_type": "stream",
          "text": [
            "Epoch 1/15\n",
            "9/9 [==============================] - 2s 153ms/step - loss: 0.6744 - accuracy: 0.5819 - val_loss: 0.6535 - val_accuracy: 0.6484\n",
            "Epoch 2/15\n",
            "9/9 [==============================] - 1s 125ms/step - loss: 0.6394 - accuracy: 0.6732 - val_loss: 0.6294 - val_accuracy: 0.6154\n",
            "Epoch 3/15\n",
            "9/9 [==============================] - 1s 123ms/step - loss: 0.6440 - accuracy: 0.6271 - val_loss: 0.5986 - val_accuracy: 0.7253\n",
            "Epoch 4/15\n",
            "9/9 [==============================] - 1s 123ms/step - loss: 0.6019 - accuracy: 0.7247 - val_loss: 0.5800 - val_accuracy: 0.7253\n",
            "Epoch 5/15\n",
            "9/9 [==============================] - 1s 125ms/step - loss: 0.5507 - accuracy: 0.7500 - val_loss: 0.5734 - val_accuracy: 0.6813\n",
            "Epoch 6/15\n",
            "9/9 [==============================] - 1s 124ms/step - loss: 0.5318 - accuracy: 0.7366 - val_loss: 0.5364 - val_accuracy: 0.7363\n",
            "Epoch 7/15\n",
            "9/9 [==============================] - 1s 123ms/step - loss: 0.5209 - accuracy: 0.7113 - val_loss: 0.5201 - val_accuracy: 0.7363\n",
            "Epoch 8/15\n",
            "9/9 [==============================] - 1s 122ms/step - loss: 0.4840 - accuracy: 0.7571 - val_loss: 0.5195 - val_accuracy: 0.7253\n",
            "Epoch 9/15\n",
            "9/9 [==============================] - 1s 124ms/step - loss: 0.4939 - accuracy: 0.7137 - val_loss: 0.5010 - val_accuracy: 0.7582\n",
            "Epoch 10/15\n",
            "9/9 [==============================] - 1s 126ms/step - loss: 0.4187 - accuracy: 0.8066 - val_loss: 0.5248 - val_accuracy: 0.7473\n",
            "Epoch 11/15\n",
            "9/9 [==============================] - 1s 124ms/step - loss: 0.5108 - accuracy: 0.7523 - val_loss: 0.5055 - val_accuracy: 0.7582\n",
            "Epoch 12/15\n",
            "9/9 [==============================] - 1s 124ms/step - loss: 0.4944 - accuracy: 0.7574 - val_loss: 0.5174 - val_accuracy: 0.7692\n",
            "Epoch 13/15\n",
            "9/9 [==============================] - 1s 123ms/step - loss: 0.4246 - accuracy: 0.7793 - val_loss: 0.4836 - val_accuracy: 0.7802\n",
            "Epoch 14/15\n",
            "9/9 [==============================] - 1s 123ms/step - loss: 0.4182 - accuracy: 0.8071 - val_loss: 0.5021 - val_accuracy: 0.7582\n",
            "Epoch 15/15\n",
            "9/9 [==============================] - 1s 124ms/step - loss: 0.4584 - accuracy: 0.7843 - val_loss: 0.4834 - val_accuracy: 0.7582\n"
          ],
          "name": "stdout"
        }
      ]
    },
    {
      "cell_type": "code",
      "metadata": {
        "colab": {
          "base_uri": "https://localhost:8080/",
          "height": 295
        },
        "id": "2uofjgdEDU-Y",
        "outputId": "407944dd-8d3d-49f7-a745-e991af3f734c"
      },
      "source": [
        "loss_train = history.history['loss']\n",
        "loss_val = history.history['val_loss']\n",
        "epochs = range(1,16)\n",
        "plt.plot(epochs, loss_train, 'g', label='Training loss')\n",
        "plt.plot(epochs, loss_val, 'b', label='validation loss')\n",
        "plt.title('Training and Validation loss')\n",
        "plt.xlabel('Epochs')\n",
        "plt.ylabel('Loss')\n",
        "plt.legend()\n",
        "plt.show()"
      ],
      "execution_count": null,
      "outputs": [
        {
          "output_type": "display_data",
          "data": {
            "image/png": "[encoded data removed]",
            "text/plain": [
              "<Figure size 432x288 with 1 Axes>"
            ]
          },
          "metadata": {
            "tags": [],
            "needs_background": "light"
          }
        }
      ]
    },
    {
      "cell_type": "code",
      "metadata": {
        "colab": {
          "base_uri": "https://localhost:8080/",
          "height": 295
        },
        "id": "WaDzTUGYDVPa",
        "outputId": "efcbb6e5-b567-4ab7-a03b-6bc0330919ec"
      },
      "source": [
        "loss_train = history.history['accuracy']\n",
        "loss_val = history.history['val_accuracy']\n",
        "epochs = range(1,16)\n",
        "plt.plot(epochs, loss_train, 'g', label='Training accuracy')\n",
        "plt.plot(epochs, loss_val, 'b', label='validation accuracy')\n",
        "plt.title('Training and Validation accuracy')\n",
        "plt.xlabel('Epochs')\n",
        "plt.ylabel('Accuracy')\n",
        "plt.legend()\n",
        "plt.show()"
      ],
      "execution_count": null,
      "outputs": [
        {
          "output_type": "display_data",
          "data": {
            "image/png": "[encoded data removed]",
            "text/plain": [
              "<Figure size 432x288 with 1 Axes>"
            ]
          },
          "metadata": {
            "tags": [],
            "needs_background": "light"
          }
        }
      ]
    },
    {
      "cell_type": "code",
      "metadata": {
        "colab": {
          "base_uri": "https://localhost:8080/"
        },
        "id": "Am3ToWUuucAe",
        "outputId": "14eada03-e485-4ab6-c2d2-55cb20ee39ed"
      },
      "source": [
        "predictions3 = model3.predict_classes(X_test)\n",
        "acc_score = f1_score(y_test, predictions3)\n",
        "print(acc_score*100)"
      ],
      "execution_count": null,
      "outputs": [
        {
          "output_type": "stream",
          "text": [
            "70.96774193548386\n"
          ],
          "name": "stdout"
        }
      ]
    }
  ]
}