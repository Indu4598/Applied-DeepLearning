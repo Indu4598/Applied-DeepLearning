{
 "cells": [
  {
   "cell_type": "markdown",
   "metadata": {},
   "source": [
    "### Question 1\n"
   ]
  },
  {
   "cell_type": "code",
   "execution_count": 2,
   "metadata": {},
   "outputs": [],
   "source": [
    "import numpy as np"
   ]
  },
  {
   "cell_type": "code",
   "execution_count": 3,
   "metadata": {},
   "outputs": [],
   "source": [
    "input_mat = np.matrix([[1,4,2,8],[3,4,5,1],[8,9,6,4],[3,8,2,6]])\n",
    "con_mat = np.matrix([[1,0],[1,1]])\n"
   ]
  },
  {
   "cell_type": "code",
   "execution_count": 4,
   "metadata": {},
   "outputs": [],
   "source": [
    "def conv(input_matrix,kernel,stride,pad):\n",
    "    \n",
    "    #Generating a new matrix which is input matrix padded with zeros\n",
    "    input_height,input_width = input_matrix.shape\n",
    "    pad_matrix = np.zeros((input_height+2*pad,input_width+2*pad),dtype=int)\n",
    "    pad_matrix[pad : pad + input_height , pad : pad + input_width]= input_matrix\n",
    "    \n",
    "    \n",
    "    #Determinig the size of output matrix\n",
    "    output_height,output_width = tuple(map(lambda i,j : int(((i-j + 2*pad) //stride) + 1),input_matrix.shape,kernel.shape))\n",
    "    output_matrix = np.zeros((output_height , output_width),dtype = int)\n",
    "\n",
    "    \n",
    "    #Kernel size. Kernel matrix would always be in square form.\n",
    "    k = kernel.shape[0]\n",
    "    \n",
    "    \n",
    "    \n",
    "    #Perform dot product with the new pad_matrix and the kernel\n",
    "    i_s = 0\n",
    "    for i in range(output_height):\n",
    "        j_s = 0\n",
    "        for j in range(output_width):\n",
    "            output_matrix[i,j] = np.sum(np.multiply(pad_matrix[i_s:i_s+k, j_s:j_s+k],kernel))\n",
    "            j_s = j_s + stride   \n",
    "        i_s = i_s + stride\n",
    "    \n",
    "    print(output_matrix)"
   ]
  },
  {
   "cell_type": "markdown",
   "metadata": {},
   "source": [
    "### a"
   ]
  },
  {
   "cell_type": "code",
   "execution_count": 5,
   "metadata": {},
   "outputs": [
    {
     "name": "stdout",
     "output_type": "stream",
     "text": [
      "[[ 8 13  8]\n",
      " [20 19 15]\n",
      " [19 19 14]]\n"
     ]
    }
   ],
   "source": [
    "## 1\n",
    "conv(input_mat,con_mat,1,0)"
   ]
  },
  {
   "cell_type": "code",
   "execution_count": 6,
   "metadata": {},
   "outputs": [
    {
     "name": "stdout",
     "output_type": "stream",
     "text": [
      "[[ 0  0  0  0]\n",
      " [ 0  8  8  0]\n",
      " [ 0 19 14  0]\n",
      " [ 0  0  0  0]]\n"
     ]
    }
   ],
   "source": [
    "## 2\n",
    "conv(input_mat,con_mat,2,2)"
   ]
  },
  {
   "cell_type": "markdown",
   "metadata": {},
   "source": [
    "### b"
   ]
  },
  {
   "cell_type": "code",
   "execution_count": 7,
   "metadata": {},
   "outputs": [],
   "source": [
    "def conv_avg(input_matrix,kernel,stride,pad):\n",
    "    \n",
    "    #Generating a new matrix which is input matrix padded with zeros\n",
    "    input_height,input_width = input_matrix.shape\n",
    "    pad_matrix = np.zeros((input_height+2*pad,input_width+2*pad))\n",
    "    pad_matrix[pad : pad + input_height , pad : pad + input_width]= input_matrix\n",
    "    \n",
    "    \n",
    "    #Determinig the size of output matrix\n",
    "    output_height,output_width = tuple(map(lambda i,j : int(((i-j + 2*pad) //stride) + 1),input_matrix.shape,kernel.shape))\n",
    "    output_matrix = np.zeros((output_height , output_width))\n",
    "\n",
    "    \n",
    "    #Kernel size. Kernel matrix would always be in square form.\n",
    "    k = kernel.shape[0]\n",
    "    \n",
    "    #Perform dot product with the new pad_matrix and the kernel\n",
    "    i_s = 0\n",
    "    for i in range(output_height):\n",
    "        j_s = 0\n",
    "        for j in range(output_width):\n",
    "            output_matrix[i,j] = np.mean(np.multiply(pad_matrix[i_s:i_s+k, j_s:j_s+k],kernel))\n",
    "            j_s = j_s + stride\n",
    "        i_s = i_s + stride\n",
    "    \n",
    "    print(output_matrix)"
   ]
  },
  {
   "cell_type": "code",
   "execution_count": 8,
   "metadata": {},
   "outputs": [
    {
     "name": "stdout",
     "output_type": "stream",
     "text": [
      "[[1. 1. 1.]\n",
      " [1. 1. 1.]\n",
      " [1. 1. 1.]]\n"
     ]
    }
   ],
   "source": [
    "kernel_unit = np.ones((3,3))\n",
    "print(kernel_unit)"
   ]
  },
  {
   "cell_type": "code",
   "execution_count": 9,
   "metadata": {},
   "outputs": [],
   "source": [
    "input_mat_avg  = np.matrix([[1,4,2,7],[3,4,2,1],[3,9,6,4],[3,5,2,6]])"
   ]
  },
  {
   "cell_type": "code",
   "execution_count": 10,
   "metadata": {},
   "outputs": [
    {
     "name": "stdout",
     "output_type": "stream",
     "text": [
      "[[3.77777778 4.33333333]\n",
      " [4.11111111 4.33333333]]\n"
     ]
    }
   ],
   "source": [
    "conv_avg(input_mat_avg,kernel_unit,1,0)"
   ]
  }
 ],
 "metadata": {
  "kernelspec": {
   "display_name": "Python 3",
   "language": "python",
   "name": "python3"
  },
  "language_info": {
   "codemirror_mode": {
    "name": "ipython",
    "version": 3
   },
   "file_extension": ".py",
   "mimetype": "text/x-python",
   "name": "python",
   "nbconvert_exporter": "python",
   "pygments_lexer": "ipython3",
   "version": "3.7.3"
  }
 },
 "nbformat": 4,
 "nbformat_minor": 2
}
