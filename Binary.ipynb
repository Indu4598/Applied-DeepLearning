{
  "nbformat": 4,
  "nbformat_minor": 0,
  "metadata": {
    "colab": {
      "name": "Untitled0_(3) (1) (1).ipynb",
      "provenance": [],
      "toc_visible": true
    },
    "kernelspec": {
      "name": "python3",
      "display_name": "Python 3"
    },
    "language_info": {
      "name": "python"
    }
  },
  "cells": [
    {
      "cell_type": "code",
      "metadata": {
        "id": "3eIg0xLm6ZG6",
        "colab": {
          "base_uri": "https://localhost:8080/"
        },
        "outputId": "717f0e7e-4f08-4a6c-ef86-dde8e43d3926"
      },
      "source": [
        "import numpy as np\n",
        "import pandas as pd\n",
        "import matplotlib.pyplot as plt\n",
        "from matplotlib.pyplot import figure\n",
        "import seaborn as sns\n",
        "\n",
        "from sklearn.model_selection import train_test_split\n",
        "from sklearn.metrics import f1_score\n",
        "from sklearn.preprocessing import MinMaxScaler,StandardScaler \n",
        "from sklearn.pipeline import Pipeline\n",
        "from sklearn.compose import ColumnTransformer\n",
        "from sklearn.metrics import accuracy_score\n",
        "from sklearn.metrics import roc_curve,auc,roc_auc_score\n",
        "\n",
        "from tensorflow.keras.utils import to_categorical\n",
        "\n",
        "from sklearn.linear_model import LogisticRegression\n",
        "from sklearn.neighbors import KNeighborsClassifier\n",
        "from sklearn.ensemble import RandomForestClassifier\n",
        "import sklearn.pipeline\n",
        "import sklearn.preprocessing\n",
        "\n",
        "from imblearn.over_sampling import RandomOverSampler\n",
        "from imblearn.over_sampling import SMOTE \n",
        "import warnings\n",
        "warnings.filterwarnings(\"ignore\")"
      ],
      "execution_count": null,
      "outputs": [
        {
          "output_type": "stream",
          "text": [
            "/usr/local/lib/python3.7/dist-packages/sklearn/externals/six.py:31: FutureWarning: The module is deprecated in version 0.21 and will be removed in version 0.23 since we've dropped support for Python 2.7. Please rely on the official version of six (https://pypi.org/project/six/).\n",
            "  \"(https://pypi.org/project/six/).\", FutureWarning)\n",
            "/usr/local/lib/python3.7/dist-packages/sklearn/utils/deprecation.py:144: FutureWarning: The sklearn.neighbors.base module is  deprecated in version 0.22 and will be removed in version 0.24. The corresponding classes / functions should instead be imported from sklearn.neighbors. Anything that cannot be imported from sklearn.neighbors is now part of the private API.\n",
            "  warnings.warn(message, FutureWarning)\n"
          ],
          "name": "stderr"
        }
      ]
    },
    {
      "cell_type": "code",
      "metadata": {
        "colab": {
          "base_uri": "https://localhost:8080/"
        },
        "id": "AwS4bFktRfyt",
        "outputId": "d5355208-36ff-491b-836f-2699b540df27"
      },
      "source": [
        "!pip install --quiet optuna"
      ],
      "execution_count": null,
      "outputs": [
        {
          "output_type": "stream",
          "text": [
            "\u001b[K     |████████████████████████████████| 296kB 14.3MB/s \n",
            "\u001b[K     |████████████████████████████████| 163kB 44.4MB/s \n",
            "\u001b[K     |████████████████████████████████| 81kB 8.5MB/s \n",
            "\u001b[K     |████████████████████████████████| 81kB 9.0MB/s \n",
            "\u001b[K     |████████████████████████████████| 112kB 47.8MB/s \n",
            "\u001b[K     |████████████████████████████████| 51kB 5.5MB/s \n",
            "\u001b[K     |████████████████████████████████| 143kB 47.2MB/s \n",
            "\u001b[?25h  Building wheel for pyperclip (setup.py) ... \u001b[?25l\u001b[?25hdone\n"
          ],
          "name": "stdout"
        }
      ]
    },
    {
      "cell_type": "code",
      "metadata": {
        "id": "SeeynuspnAPt"
      },
      "source": [
        "import tensorflow as tf\n",
        "from tensorflow import keras\n",
        "from tensorflow.keras import layers\n",
        "from tensorflow.keras.wrappers.scikit_learn import KerasClassifier\n",
        "from sklearn.model_selection import RandomizedSearchCV\n",
        "import optuna"
      ],
      "execution_count": null,
      "outputs": []
    },
    {
      "cell_type": "code",
      "metadata": {
        "id": "C3TaJGtO62-3"
      },
      "source": [
        "#Reading the data\n",
        "data = pd.read_csv('arrhythmia.data',header = None)"
      ],
      "execution_count": null,
      "outputs": []
    },
    {
      "cell_type": "code",
      "metadata": {
        "id": "mxEeO6u15WX6"
      },
      "source": [
        "# For this data set, the missing values are filled with ?. In this step '?' is replaced with np.Nan\n",
        "data.replace('?',np.NaN,inplace=True)"
      ],
      "execution_count": null,
      "outputs": []
    },
    {
      "cell_type": "code",
      "metadata": {
        "colab": {
          "base_uri": "https://localhost:8080/",
          "height": 253
        },
        "id": "2vDKSt7L8Uet",
        "outputId": "b2cd7b6b-7b35-412c-82a4-8bc223623e88"
      },
      "source": [
        "\n",
        "#Exploring the data\n",
        "data.head()"
      ],
      "execution_count": null,
      "outputs": [
        {
          "output_type": "execute_result",
          "data": {
            "text/html": [
              "<div>\n",
              "<style scoped>\n",
              "    .dataframe tbody tr th:only-of-type {\n",
              "        vertical-align: middle;\n",
              "    }\n",
              "\n",
              "    .dataframe tbody tr th {\n",
              "        vertical-align: top;\n",
              "    }\n",
              "\n",
              "    .dataframe thead th {\n",
              "        text-align: right;\n",
              "    }\n",
              "</style>\n",
              "<table border=\"1\" class=\"dataframe\">\n",
              "  <thead>\n",
              "    <tr style=\"text-align: right;\">\n",
              "      <th></th>\n",
              "      <th>0</th>\n",
              "      <th>1</th>\n",
              "      <th>2</th>\n",
              "      <th>3</th>\n",
              "      <th>4</th>\n",
              "      <th>5</th>\n",
              "      <th>6</th>\n",
              "      <th>7</th>\n",
              "      <th>8</th>\n",
              "      <th>9</th>\n",
              "      <th>10</th>\n",
              "      <th>11</th>\n",
              "      <th>12</th>\n",
              "      <th>13</th>\n",
              "      <th>14</th>\n",
              "      <th>15</th>\n",
              "      <th>16</th>\n",
              "      <th>17</th>\n",
              "      <th>18</th>\n",
              "      <th>19</th>\n",
              "      <th>20</th>\n",
              "      <th>21</th>\n",
              "      <th>22</th>\n",
              "      <th>23</th>\n",
              "      <th>24</th>\n",
              "      <th>25</th>\n",
              "      <th>26</th>\n",
              "      <th>27</th>\n",
              "      <th>28</th>\n",
              "      <th>29</th>\n",
              "      <th>30</th>\n",
              "      <th>31</th>\n",
              "      <th>32</th>\n",
              "      <th>33</th>\n",
              "      <th>34</th>\n",
              "      <th>35</th>\n",
              "      <th>36</th>\n",
              "      <th>37</th>\n",
              "      <th>38</th>\n",
              "      <th>39</th>\n",
              "      <th>...</th>\n",
              "      <th>240</th>\n",
              "      <th>241</th>\n",
              "      <th>242</th>\n",
              "      <th>243</th>\n",
              "      <th>244</th>\n",
              "      <th>245</th>\n",
              "      <th>246</th>\n",
              "      <th>247</th>\n",
              "      <th>248</th>\n",
              "      <th>249</th>\n",
              "      <th>250</th>\n",
              "      <th>251</th>\n",
              "      <th>252</th>\n",
              "      <th>253</th>\n",
              "      <th>254</th>\n",
              "      <th>255</th>\n",
              "      <th>256</th>\n",
              "      <th>257</th>\n",
              "      <th>258</th>\n",
              "      <th>259</th>\n",
              "      <th>260</th>\n",
              "      <th>261</th>\n",
              "      <th>262</th>\n",
              "      <th>263</th>\n",
              "      <th>264</th>\n",
              "      <th>265</th>\n",
              "      <th>266</th>\n",
              "      <th>267</th>\n",
              "      <th>268</th>\n",
              "      <th>269</th>\n",
              "      <th>270</th>\n",
              "      <th>271</th>\n",
              "      <th>272</th>\n",
              "      <th>273</th>\n",
              "      <th>274</th>\n",
              "      <th>275</th>\n",
              "      <th>276</th>\n",
              "      <th>277</th>\n",
              "      <th>278</th>\n",
              "      <th>279</th>\n",
              "    </tr>\n",
              "  </thead>\n",
              "  <tbody>\n",
              "    <tr>\n",
              "      <th>0</th>\n",
              "      <td>75</td>\n",
              "      <td>0</td>\n",
              "      <td>190</td>\n",
              "      <td>80</td>\n",
              "      <td>91</td>\n",
              "      <td>193</td>\n",
              "      <td>371</td>\n",
              "      <td>174</td>\n",
              "      <td>121</td>\n",
              "      <td>-16</td>\n",
              "      <td>13</td>\n",
              "      <td>64</td>\n",
              "      <td>-2</td>\n",
              "      <td>NaN</td>\n",
              "      <td>63</td>\n",
              "      <td>0</td>\n",
              "      <td>52</td>\n",
              "      <td>44</td>\n",
              "      <td>0</td>\n",
              "      <td>0</td>\n",
              "      <td>32</td>\n",
              "      <td>0</td>\n",
              "      <td>0</td>\n",
              "      <td>0</td>\n",
              "      <td>0</td>\n",
              "      <td>0</td>\n",
              "      <td>0</td>\n",
              "      <td>0</td>\n",
              "      <td>44</td>\n",
              "      <td>20</td>\n",
              "      <td>36</td>\n",
              "      <td>0</td>\n",
              "      <td>28</td>\n",
              "      <td>0</td>\n",
              "      <td>0</td>\n",
              "      <td>0</td>\n",
              "      <td>0</td>\n",
              "      <td>0</td>\n",
              "      <td>0</td>\n",
              "      <td>52</td>\n",
              "      <td>...</td>\n",
              "      <td>0.0</td>\n",
              "      <td>8.4</td>\n",
              "      <td>-10.0</td>\n",
              "      <td>0.0</td>\n",
              "      <td>0.0</td>\n",
              "      <td>0.6</td>\n",
              "      <td>5.9</td>\n",
              "      <td>-3.9</td>\n",
              "      <td>52.7</td>\n",
              "      <td>-0.3</td>\n",
              "      <td>0.0</td>\n",
              "      <td>15.2</td>\n",
              "      <td>-8.4</td>\n",
              "      <td>0.0</td>\n",
              "      <td>0.0</td>\n",
              "      <td>0.9</td>\n",
              "      <td>5.1</td>\n",
              "      <td>17.7</td>\n",
              "      <td>70.7</td>\n",
              "      <td>-0.4</td>\n",
              "      <td>0.0</td>\n",
              "      <td>13.5</td>\n",
              "      <td>-4.0</td>\n",
              "      <td>0.0</td>\n",
              "      <td>0.0</td>\n",
              "      <td>0.9</td>\n",
              "      <td>3.9</td>\n",
              "      <td>25.5</td>\n",
              "      <td>62.9</td>\n",
              "      <td>-0.3</td>\n",
              "      <td>0.0</td>\n",
              "      <td>9.0</td>\n",
              "      <td>-0.9</td>\n",
              "      <td>0.0</td>\n",
              "      <td>0.0</td>\n",
              "      <td>0.9</td>\n",
              "      <td>2.9</td>\n",
              "      <td>23.3</td>\n",
              "      <td>49.4</td>\n",
              "      <td>8</td>\n",
              "    </tr>\n",
              "    <tr>\n",
              "      <th>1</th>\n",
              "      <td>56</td>\n",
              "      <td>1</td>\n",
              "      <td>165</td>\n",
              "      <td>64</td>\n",
              "      <td>81</td>\n",
              "      <td>174</td>\n",
              "      <td>401</td>\n",
              "      <td>149</td>\n",
              "      <td>39</td>\n",
              "      <td>25</td>\n",
              "      <td>37</td>\n",
              "      <td>-17</td>\n",
              "      <td>31</td>\n",
              "      <td>NaN</td>\n",
              "      <td>53</td>\n",
              "      <td>0</td>\n",
              "      <td>48</td>\n",
              "      <td>0</td>\n",
              "      <td>0</td>\n",
              "      <td>0</td>\n",
              "      <td>24</td>\n",
              "      <td>0</td>\n",
              "      <td>0</td>\n",
              "      <td>0</td>\n",
              "      <td>0</td>\n",
              "      <td>0</td>\n",
              "      <td>0</td>\n",
              "      <td>0</td>\n",
              "      <td>64</td>\n",
              "      <td>0</td>\n",
              "      <td>0</td>\n",
              "      <td>0</td>\n",
              "      <td>24</td>\n",
              "      <td>0</td>\n",
              "      <td>0</td>\n",
              "      <td>0</td>\n",
              "      <td>0</td>\n",
              "      <td>0</td>\n",
              "      <td>0</td>\n",
              "      <td>32</td>\n",
              "      <td>...</td>\n",
              "      <td>0.0</td>\n",
              "      <td>5.8</td>\n",
              "      <td>-7.7</td>\n",
              "      <td>0.0</td>\n",
              "      <td>0.0</td>\n",
              "      <td>0.9</td>\n",
              "      <td>3.8</td>\n",
              "      <td>-5.7</td>\n",
              "      <td>27.7</td>\n",
              "      <td>-0.2</td>\n",
              "      <td>0.0</td>\n",
              "      <td>9.5</td>\n",
              "      <td>-5.0</td>\n",
              "      <td>0.0</td>\n",
              "      <td>0.0</td>\n",
              "      <td>0.5</td>\n",
              "      <td>2.6</td>\n",
              "      <td>11.8</td>\n",
              "      <td>34.6</td>\n",
              "      <td>-0.4</td>\n",
              "      <td>0.0</td>\n",
              "      <td>11.0</td>\n",
              "      <td>-2.4</td>\n",
              "      <td>0.0</td>\n",
              "      <td>0.0</td>\n",
              "      <td>0.4</td>\n",
              "      <td>2.6</td>\n",
              "      <td>21.6</td>\n",
              "      <td>43.4</td>\n",
              "      <td>-0.5</td>\n",
              "      <td>0.0</td>\n",
              "      <td>8.5</td>\n",
              "      <td>0.0</td>\n",
              "      <td>0.0</td>\n",
              "      <td>0.0</td>\n",
              "      <td>0.2</td>\n",
              "      <td>2.1</td>\n",
              "      <td>20.4</td>\n",
              "      <td>38.8</td>\n",
              "      <td>6</td>\n",
              "    </tr>\n",
              "    <tr>\n",
              "      <th>2</th>\n",
              "      <td>54</td>\n",
              "      <td>0</td>\n",
              "      <td>172</td>\n",
              "      <td>95</td>\n",
              "      <td>138</td>\n",
              "      <td>163</td>\n",
              "      <td>386</td>\n",
              "      <td>185</td>\n",
              "      <td>102</td>\n",
              "      <td>96</td>\n",
              "      <td>34</td>\n",
              "      <td>70</td>\n",
              "      <td>66</td>\n",
              "      <td>23</td>\n",
              "      <td>75</td>\n",
              "      <td>0</td>\n",
              "      <td>40</td>\n",
              "      <td>80</td>\n",
              "      <td>0</td>\n",
              "      <td>0</td>\n",
              "      <td>24</td>\n",
              "      <td>0</td>\n",
              "      <td>0</td>\n",
              "      <td>0</td>\n",
              "      <td>0</td>\n",
              "      <td>0</td>\n",
              "      <td>0</td>\n",
              "      <td>20</td>\n",
              "      <td>56</td>\n",
              "      <td>52</td>\n",
              "      <td>0</td>\n",
              "      <td>0</td>\n",
              "      <td>40</td>\n",
              "      <td>0</td>\n",
              "      <td>0</td>\n",
              "      <td>0</td>\n",
              "      <td>0</td>\n",
              "      <td>0</td>\n",
              "      <td>0</td>\n",
              "      <td>28</td>\n",
              "      <td>...</td>\n",
              "      <td>0.0</td>\n",
              "      <td>5.8</td>\n",
              "      <td>-4.1</td>\n",
              "      <td>4.0</td>\n",
              "      <td>-0.5</td>\n",
              "      <td>0.4</td>\n",
              "      <td>0.3</td>\n",
              "      <td>20.4</td>\n",
              "      <td>23.3</td>\n",
              "      <td>0.7</td>\n",
              "      <td>0.0</td>\n",
              "      <td>10.0</td>\n",
              "      <td>-5.7</td>\n",
              "      <td>0.0</td>\n",
              "      <td>0.0</td>\n",
              "      <td>0.5</td>\n",
              "      <td>2.2</td>\n",
              "      <td>-3.0</td>\n",
              "      <td>20.7</td>\n",
              "      <td>1.3</td>\n",
              "      <td>0.0</td>\n",
              "      <td>11.1</td>\n",
              "      <td>-3.4</td>\n",
              "      <td>0.0</td>\n",
              "      <td>0.0</td>\n",
              "      <td>0.4</td>\n",
              "      <td>3.4</td>\n",
              "      <td>11.5</td>\n",
              "      <td>48.2</td>\n",
              "      <td>0.9</td>\n",
              "      <td>0.0</td>\n",
              "      <td>9.5</td>\n",
              "      <td>-2.4</td>\n",
              "      <td>0.0</td>\n",
              "      <td>0.0</td>\n",
              "      <td>0.3</td>\n",
              "      <td>3.4</td>\n",
              "      <td>12.3</td>\n",
              "      <td>49.0</td>\n",
              "      <td>10</td>\n",
              "    </tr>\n",
              "    <tr>\n",
              "      <th>3</th>\n",
              "      <td>55</td>\n",
              "      <td>0</td>\n",
              "      <td>175</td>\n",
              "      <td>94</td>\n",
              "      <td>100</td>\n",
              "      <td>202</td>\n",
              "      <td>380</td>\n",
              "      <td>179</td>\n",
              "      <td>143</td>\n",
              "      <td>28</td>\n",
              "      <td>11</td>\n",
              "      <td>-5</td>\n",
              "      <td>20</td>\n",
              "      <td>NaN</td>\n",
              "      <td>71</td>\n",
              "      <td>0</td>\n",
              "      <td>72</td>\n",
              "      <td>20</td>\n",
              "      <td>0</td>\n",
              "      <td>0</td>\n",
              "      <td>48</td>\n",
              "      <td>0</td>\n",
              "      <td>0</td>\n",
              "      <td>0</td>\n",
              "      <td>0</td>\n",
              "      <td>0</td>\n",
              "      <td>0</td>\n",
              "      <td>0</td>\n",
              "      <td>64</td>\n",
              "      <td>36</td>\n",
              "      <td>0</td>\n",
              "      <td>0</td>\n",
              "      <td>36</td>\n",
              "      <td>0</td>\n",
              "      <td>0</td>\n",
              "      <td>0</td>\n",
              "      <td>0</td>\n",
              "      <td>0</td>\n",
              "      <td>0</td>\n",
              "      <td>20</td>\n",
              "      <td>...</td>\n",
              "      <td>0.0</td>\n",
              "      <td>9.0</td>\n",
              "      <td>-7.9</td>\n",
              "      <td>0.0</td>\n",
              "      <td>0.0</td>\n",
              "      <td>0.1</td>\n",
              "      <td>4.1</td>\n",
              "      <td>7.6</td>\n",
              "      <td>51.0</td>\n",
              "      <td>0.4</td>\n",
              "      <td>0.0</td>\n",
              "      <td>15.0</td>\n",
              "      <td>-5.5</td>\n",
              "      <td>0.0</td>\n",
              "      <td>0.0</td>\n",
              "      <td>0.1</td>\n",
              "      <td>3.3</td>\n",
              "      <td>28.8</td>\n",
              "      <td>63.1</td>\n",
              "      <td>0.1</td>\n",
              "      <td>0.0</td>\n",
              "      <td>15.2</td>\n",
              "      <td>-3.7</td>\n",
              "      <td>0.0</td>\n",
              "      <td>0.0</td>\n",
              "      <td>0.6</td>\n",
              "      <td>3.0</td>\n",
              "      <td>36.8</td>\n",
              "      <td>68.0</td>\n",
              "      <td>0.1</td>\n",
              "      <td>0.0</td>\n",
              "      <td>12.2</td>\n",
              "      <td>-2.2</td>\n",
              "      <td>0.0</td>\n",
              "      <td>0.0</td>\n",
              "      <td>0.4</td>\n",
              "      <td>2.6</td>\n",
              "      <td>34.6</td>\n",
              "      <td>61.6</td>\n",
              "      <td>1</td>\n",
              "    </tr>\n",
              "    <tr>\n",
              "      <th>4</th>\n",
              "      <td>75</td>\n",
              "      <td>0</td>\n",
              "      <td>190</td>\n",
              "      <td>80</td>\n",
              "      <td>88</td>\n",
              "      <td>181</td>\n",
              "      <td>360</td>\n",
              "      <td>177</td>\n",
              "      <td>103</td>\n",
              "      <td>-16</td>\n",
              "      <td>13</td>\n",
              "      <td>61</td>\n",
              "      <td>3</td>\n",
              "      <td>NaN</td>\n",
              "      <td>NaN</td>\n",
              "      <td>0</td>\n",
              "      <td>48</td>\n",
              "      <td>40</td>\n",
              "      <td>0</td>\n",
              "      <td>0</td>\n",
              "      <td>28</td>\n",
              "      <td>0</td>\n",
              "      <td>0</td>\n",
              "      <td>0</td>\n",
              "      <td>0</td>\n",
              "      <td>0</td>\n",
              "      <td>0</td>\n",
              "      <td>0</td>\n",
              "      <td>40</td>\n",
              "      <td>24</td>\n",
              "      <td>0</td>\n",
              "      <td>0</td>\n",
              "      <td>24</td>\n",
              "      <td>0</td>\n",
              "      <td>0</td>\n",
              "      <td>0</td>\n",
              "      <td>0</td>\n",
              "      <td>0</td>\n",
              "      <td>0</td>\n",
              "      <td>52</td>\n",
              "      <td>...</td>\n",
              "      <td>0.0</td>\n",
              "      <td>8.5</td>\n",
              "      <td>-10.2</td>\n",
              "      <td>0.0</td>\n",
              "      <td>0.0</td>\n",
              "      <td>-1.0</td>\n",
              "      <td>4.7</td>\n",
              "      <td>-4.0</td>\n",
              "      <td>43.0</td>\n",
              "      <td>-0.2</td>\n",
              "      <td>0.0</td>\n",
              "      <td>15.2</td>\n",
              "      <td>-7.8</td>\n",
              "      <td>0.0</td>\n",
              "      <td>0.0</td>\n",
              "      <td>-0.1</td>\n",
              "      <td>4.9</td>\n",
              "      <td>16.2</td>\n",
              "      <td>63.2</td>\n",
              "      <td>-0.2</td>\n",
              "      <td>0.0</td>\n",
              "      <td>9.1</td>\n",
              "      <td>-0.9</td>\n",
              "      <td>0.0</td>\n",
              "      <td>0.0</td>\n",
              "      <td>-0.2</td>\n",
              "      <td>2.9</td>\n",
              "      <td>21.7</td>\n",
              "      <td>48.9</td>\n",
              "      <td>-0.4</td>\n",
              "      <td>0.0</td>\n",
              "      <td>13.1</td>\n",
              "      <td>-3.6</td>\n",
              "      <td>0.0</td>\n",
              "      <td>0.0</td>\n",
              "      <td>-0.1</td>\n",
              "      <td>3.9</td>\n",
              "      <td>25.4</td>\n",
              "      <td>62.8</td>\n",
              "      <td>7</td>\n",
              "    </tr>\n",
              "  </tbody>\n",
              "</table>\n",
              "<p>5 rows × 280 columns</p>\n",
              "</div>"
            ],
            "text/plain": [
              "   0    1    2    3    4    5    6    ...  273  274  275  276   277   278 279\n",
              "0   75    0  190   80   91  193  371  ...  0.0  0.0  0.9  2.9  23.3  49.4   8\n",
              "1   56    1  165   64   81  174  401  ...  0.0  0.0  0.2  2.1  20.4  38.8   6\n",
              "2   54    0  172   95  138  163  386  ...  0.0  0.0  0.3  3.4  12.3  49.0  10\n",
              "3   55    0  175   94  100  202  380  ...  0.0  0.0  0.4  2.6  34.6  61.6   1\n",
              "4   75    0  190   80   88  181  360  ...  0.0  0.0 -0.1  3.9  25.4  62.8   7\n",
              "\n",
              "[5 rows x 280 columns]"
            ]
          },
          "metadata": {
            "tags": []
          },
          "execution_count": 22
        }
      ]
    },
    {
      "cell_type": "code",
      "metadata": {
        "id": "EiaLz3BF8i5M"
      },
      "source": [
        " #Splitting the data into predictors and outcome.\n",
        " X = data[data.columns[0:279]]\n",
        " y = data[data.columns[-1]]"
      ],
      "execution_count": null,
      "outputs": []
    },
    {
      "cell_type": "code",
      "metadata": {
        "colab": {
          "base_uri": "https://localhost:8080/",
          "height": 253
        },
        "id": "XMIbYpOB9X8d",
        "outputId": "72587a80-0083-4786-e27a-bf7815d0c3a8"
      },
      "source": [
        "X.head()"
      ],
      "execution_count": null,
      "outputs": [
        {
          "output_type": "execute_result",
          "data": {
            "text/html": [
              "<div>\n",
              "<style scoped>\n",
              "    .dataframe tbody tr th:only-of-type {\n",
              "        vertical-align: middle;\n",
              "    }\n",
              "\n",
              "    .dataframe tbody tr th {\n",
              "        vertical-align: top;\n",
              "    }\n",
              "\n",
              "    .dataframe thead th {\n",
              "        text-align: right;\n",
              "    }\n",
              "</style>\n",
              "<table border=\"1\" class=\"dataframe\">\n",
              "  <thead>\n",
              "    <tr style=\"text-align: right;\">\n",
              "      <th></th>\n",
              "      <th>0</th>\n",
              "      <th>1</th>\n",
              "      <th>2</th>\n",
              "      <th>3</th>\n",
              "      <th>4</th>\n",
              "      <th>5</th>\n",
              "      <th>6</th>\n",
              "      <th>7</th>\n",
              "      <th>8</th>\n",
              "      <th>9</th>\n",
              "      <th>10</th>\n",
              "      <th>11</th>\n",
              "      <th>12</th>\n",
              "      <th>13</th>\n",
              "      <th>14</th>\n",
              "      <th>15</th>\n",
              "      <th>16</th>\n",
              "      <th>17</th>\n",
              "      <th>18</th>\n",
              "      <th>19</th>\n",
              "      <th>20</th>\n",
              "      <th>21</th>\n",
              "      <th>22</th>\n",
              "      <th>23</th>\n",
              "      <th>24</th>\n",
              "      <th>25</th>\n",
              "      <th>26</th>\n",
              "      <th>27</th>\n",
              "      <th>28</th>\n",
              "      <th>29</th>\n",
              "      <th>30</th>\n",
              "      <th>31</th>\n",
              "      <th>32</th>\n",
              "      <th>33</th>\n",
              "      <th>34</th>\n",
              "      <th>35</th>\n",
              "      <th>36</th>\n",
              "      <th>37</th>\n",
              "      <th>38</th>\n",
              "      <th>39</th>\n",
              "      <th>...</th>\n",
              "      <th>239</th>\n",
              "      <th>240</th>\n",
              "      <th>241</th>\n",
              "      <th>242</th>\n",
              "      <th>243</th>\n",
              "      <th>244</th>\n",
              "      <th>245</th>\n",
              "      <th>246</th>\n",
              "      <th>247</th>\n",
              "      <th>248</th>\n",
              "      <th>249</th>\n",
              "      <th>250</th>\n",
              "      <th>251</th>\n",
              "      <th>252</th>\n",
              "      <th>253</th>\n",
              "      <th>254</th>\n",
              "      <th>255</th>\n",
              "      <th>256</th>\n",
              "      <th>257</th>\n",
              "      <th>258</th>\n",
              "      <th>259</th>\n",
              "      <th>260</th>\n",
              "      <th>261</th>\n",
              "      <th>262</th>\n",
              "      <th>263</th>\n",
              "      <th>264</th>\n",
              "      <th>265</th>\n",
              "      <th>266</th>\n",
              "      <th>267</th>\n",
              "      <th>268</th>\n",
              "      <th>269</th>\n",
              "      <th>270</th>\n",
              "      <th>271</th>\n",
              "      <th>272</th>\n",
              "      <th>273</th>\n",
              "      <th>274</th>\n",
              "      <th>275</th>\n",
              "      <th>276</th>\n",
              "      <th>277</th>\n",
              "      <th>278</th>\n",
              "    </tr>\n",
              "  </thead>\n",
              "  <tbody>\n",
              "    <tr>\n",
              "      <th>0</th>\n",
              "      <td>75</td>\n",
              "      <td>0</td>\n",
              "      <td>190</td>\n",
              "      <td>80</td>\n",
              "      <td>91</td>\n",
              "      <td>193</td>\n",
              "      <td>371</td>\n",
              "      <td>174</td>\n",
              "      <td>121</td>\n",
              "      <td>-16</td>\n",
              "      <td>13</td>\n",
              "      <td>64</td>\n",
              "      <td>-2</td>\n",
              "      <td>NaN</td>\n",
              "      <td>63</td>\n",
              "      <td>0</td>\n",
              "      <td>52</td>\n",
              "      <td>44</td>\n",
              "      <td>0</td>\n",
              "      <td>0</td>\n",
              "      <td>32</td>\n",
              "      <td>0</td>\n",
              "      <td>0</td>\n",
              "      <td>0</td>\n",
              "      <td>0</td>\n",
              "      <td>0</td>\n",
              "      <td>0</td>\n",
              "      <td>0</td>\n",
              "      <td>44</td>\n",
              "      <td>20</td>\n",
              "      <td>36</td>\n",
              "      <td>0</td>\n",
              "      <td>28</td>\n",
              "      <td>0</td>\n",
              "      <td>0</td>\n",
              "      <td>0</td>\n",
              "      <td>0</td>\n",
              "      <td>0</td>\n",
              "      <td>0</td>\n",
              "      <td>52</td>\n",
              "      <td>...</td>\n",
              "      <td>-0.1</td>\n",
              "      <td>0.0</td>\n",
              "      <td>8.4</td>\n",
              "      <td>-10.0</td>\n",
              "      <td>0.0</td>\n",
              "      <td>0.0</td>\n",
              "      <td>0.6</td>\n",
              "      <td>5.9</td>\n",
              "      <td>-3.9</td>\n",
              "      <td>52.7</td>\n",
              "      <td>-0.3</td>\n",
              "      <td>0.0</td>\n",
              "      <td>15.2</td>\n",
              "      <td>-8.4</td>\n",
              "      <td>0.0</td>\n",
              "      <td>0.0</td>\n",
              "      <td>0.9</td>\n",
              "      <td>5.1</td>\n",
              "      <td>17.7</td>\n",
              "      <td>70.7</td>\n",
              "      <td>-0.4</td>\n",
              "      <td>0.0</td>\n",
              "      <td>13.5</td>\n",
              "      <td>-4.0</td>\n",
              "      <td>0.0</td>\n",
              "      <td>0.0</td>\n",
              "      <td>0.9</td>\n",
              "      <td>3.9</td>\n",
              "      <td>25.5</td>\n",
              "      <td>62.9</td>\n",
              "      <td>-0.3</td>\n",
              "      <td>0.0</td>\n",
              "      <td>9.0</td>\n",
              "      <td>-0.9</td>\n",
              "      <td>0.0</td>\n",
              "      <td>0.0</td>\n",
              "      <td>0.9</td>\n",
              "      <td>2.9</td>\n",
              "      <td>23.3</td>\n",
              "      <td>49.4</td>\n",
              "    </tr>\n",
              "    <tr>\n",
              "      <th>1</th>\n",
              "      <td>56</td>\n",
              "      <td>1</td>\n",
              "      <td>165</td>\n",
              "      <td>64</td>\n",
              "      <td>81</td>\n",
              "      <td>174</td>\n",
              "      <td>401</td>\n",
              "      <td>149</td>\n",
              "      <td>39</td>\n",
              "      <td>25</td>\n",
              "      <td>37</td>\n",
              "      <td>-17</td>\n",
              "      <td>31</td>\n",
              "      <td>NaN</td>\n",
              "      <td>53</td>\n",
              "      <td>0</td>\n",
              "      <td>48</td>\n",
              "      <td>0</td>\n",
              "      <td>0</td>\n",
              "      <td>0</td>\n",
              "      <td>24</td>\n",
              "      <td>0</td>\n",
              "      <td>0</td>\n",
              "      <td>0</td>\n",
              "      <td>0</td>\n",
              "      <td>0</td>\n",
              "      <td>0</td>\n",
              "      <td>0</td>\n",
              "      <td>64</td>\n",
              "      <td>0</td>\n",
              "      <td>0</td>\n",
              "      <td>0</td>\n",
              "      <td>24</td>\n",
              "      <td>0</td>\n",
              "      <td>0</td>\n",
              "      <td>0</td>\n",
              "      <td>0</td>\n",
              "      <td>0</td>\n",
              "      <td>0</td>\n",
              "      <td>32</td>\n",
              "      <td>...</td>\n",
              "      <td>0.0</td>\n",
              "      <td>0.0</td>\n",
              "      <td>5.8</td>\n",
              "      <td>-7.7</td>\n",
              "      <td>0.0</td>\n",
              "      <td>0.0</td>\n",
              "      <td>0.9</td>\n",
              "      <td>3.8</td>\n",
              "      <td>-5.7</td>\n",
              "      <td>27.7</td>\n",
              "      <td>-0.2</td>\n",
              "      <td>0.0</td>\n",
              "      <td>9.5</td>\n",
              "      <td>-5.0</td>\n",
              "      <td>0.0</td>\n",
              "      <td>0.0</td>\n",
              "      <td>0.5</td>\n",
              "      <td>2.6</td>\n",
              "      <td>11.8</td>\n",
              "      <td>34.6</td>\n",
              "      <td>-0.4</td>\n",
              "      <td>0.0</td>\n",
              "      <td>11.0</td>\n",
              "      <td>-2.4</td>\n",
              "      <td>0.0</td>\n",
              "      <td>0.0</td>\n",
              "      <td>0.4</td>\n",
              "      <td>2.6</td>\n",
              "      <td>21.6</td>\n",
              "      <td>43.4</td>\n",
              "      <td>-0.5</td>\n",
              "      <td>0.0</td>\n",
              "      <td>8.5</td>\n",
              "      <td>0.0</td>\n",
              "      <td>0.0</td>\n",
              "      <td>0.0</td>\n",
              "      <td>0.2</td>\n",
              "      <td>2.1</td>\n",
              "      <td>20.4</td>\n",
              "      <td>38.8</td>\n",
              "    </tr>\n",
              "    <tr>\n",
              "      <th>2</th>\n",
              "      <td>54</td>\n",
              "      <td>0</td>\n",
              "      <td>172</td>\n",
              "      <td>95</td>\n",
              "      <td>138</td>\n",
              "      <td>163</td>\n",
              "      <td>386</td>\n",
              "      <td>185</td>\n",
              "      <td>102</td>\n",
              "      <td>96</td>\n",
              "      <td>34</td>\n",
              "      <td>70</td>\n",
              "      <td>66</td>\n",
              "      <td>23</td>\n",
              "      <td>75</td>\n",
              "      <td>0</td>\n",
              "      <td>40</td>\n",
              "      <td>80</td>\n",
              "      <td>0</td>\n",
              "      <td>0</td>\n",
              "      <td>24</td>\n",
              "      <td>0</td>\n",
              "      <td>0</td>\n",
              "      <td>0</td>\n",
              "      <td>0</td>\n",
              "      <td>0</td>\n",
              "      <td>0</td>\n",
              "      <td>20</td>\n",
              "      <td>56</td>\n",
              "      <td>52</td>\n",
              "      <td>0</td>\n",
              "      <td>0</td>\n",
              "      <td>40</td>\n",
              "      <td>0</td>\n",
              "      <td>0</td>\n",
              "      <td>0</td>\n",
              "      <td>0</td>\n",
              "      <td>0</td>\n",
              "      <td>0</td>\n",
              "      <td>28</td>\n",
              "      <td>...</td>\n",
              "      <td>0.0</td>\n",
              "      <td>0.0</td>\n",
              "      <td>5.8</td>\n",
              "      <td>-4.1</td>\n",
              "      <td>4.0</td>\n",
              "      <td>-0.5</td>\n",
              "      <td>0.4</td>\n",
              "      <td>0.3</td>\n",
              "      <td>20.4</td>\n",
              "      <td>23.3</td>\n",
              "      <td>0.7</td>\n",
              "      <td>0.0</td>\n",
              "      <td>10.0</td>\n",
              "      <td>-5.7</td>\n",
              "      <td>0.0</td>\n",
              "      <td>0.0</td>\n",
              "      <td>0.5</td>\n",
              "      <td>2.2</td>\n",
              "      <td>-3.0</td>\n",
              "      <td>20.7</td>\n",
              "      <td>1.3</td>\n",
              "      <td>0.0</td>\n",
              "      <td>11.1</td>\n",
              "      <td>-3.4</td>\n",
              "      <td>0.0</td>\n",
              "      <td>0.0</td>\n",
              "      <td>0.4</td>\n",
              "      <td>3.4</td>\n",
              "      <td>11.5</td>\n",
              "      <td>48.2</td>\n",
              "      <td>0.9</td>\n",
              "      <td>0.0</td>\n",
              "      <td>9.5</td>\n",
              "      <td>-2.4</td>\n",
              "      <td>0.0</td>\n",
              "      <td>0.0</td>\n",
              "      <td>0.3</td>\n",
              "      <td>3.4</td>\n",
              "      <td>12.3</td>\n",
              "      <td>49.0</td>\n",
              "    </tr>\n",
              "    <tr>\n",
              "      <th>3</th>\n",
              "      <td>55</td>\n",
              "      <td>0</td>\n",
              "      <td>175</td>\n",
              "      <td>94</td>\n",
              "      <td>100</td>\n",
              "      <td>202</td>\n",
              "      <td>380</td>\n",
              "      <td>179</td>\n",
              "      <td>143</td>\n",
              "      <td>28</td>\n",
              "      <td>11</td>\n",
              "      <td>-5</td>\n",
              "      <td>20</td>\n",
              "      <td>NaN</td>\n",
              "      <td>71</td>\n",
              "      <td>0</td>\n",
              "      <td>72</td>\n",
              "      <td>20</td>\n",
              "      <td>0</td>\n",
              "      <td>0</td>\n",
              "      <td>48</td>\n",
              "      <td>0</td>\n",
              "      <td>0</td>\n",
              "      <td>0</td>\n",
              "      <td>0</td>\n",
              "      <td>0</td>\n",
              "      <td>0</td>\n",
              "      <td>0</td>\n",
              "      <td>64</td>\n",
              "      <td>36</td>\n",
              "      <td>0</td>\n",
              "      <td>0</td>\n",
              "      <td>36</td>\n",
              "      <td>0</td>\n",
              "      <td>0</td>\n",
              "      <td>0</td>\n",
              "      <td>0</td>\n",
              "      <td>0</td>\n",
              "      <td>0</td>\n",
              "      <td>20</td>\n",
              "      <td>...</td>\n",
              "      <td>0.7</td>\n",
              "      <td>0.0</td>\n",
              "      <td>9.0</td>\n",
              "      <td>-7.9</td>\n",
              "      <td>0.0</td>\n",
              "      <td>0.0</td>\n",
              "      <td>0.1</td>\n",
              "      <td>4.1</td>\n",
              "      <td>7.6</td>\n",
              "      <td>51.0</td>\n",
              "      <td>0.4</td>\n",
              "      <td>0.0</td>\n",
              "      <td>15.0</td>\n",
              "      <td>-5.5</td>\n",
              "      <td>0.0</td>\n",
              "      <td>0.0</td>\n",
              "      <td>0.1</td>\n",
              "      <td>3.3</td>\n",
              "      <td>28.8</td>\n",
              "      <td>63.1</td>\n",
              "      <td>0.1</td>\n",
              "      <td>0.0</td>\n",
              "      <td>15.2</td>\n",
              "      <td>-3.7</td>\n",
              "      <td>0.0</td>\n",
              "      <td>0.0</td>\n",
              "      <td>0.6</td>\n",
              "      <td>3.0</td>\n",
              "      <td>36.8</td>\n",
              "      <td>68.0</td>\n",
              "      <td>0.1</td>\n",
              "      <td>0.0</td>\n",
              "      <td>12.2</td>\n",
              "      <td>-2.2</td>\n",
              "      <td>0.0</td>\n",
              "      <td>0.0</td>\n",
              "      <td>0.4</td>\n",
              "      <td>2.6</td>\n",
              "      <td>34.6</td>\n",
              "      <td>61.6</td>\n",
              "    </tr>\n",
              "    <tr>\n",
              "      <th>4</th>\n",
              "      <td>75</td>\n",
              "      <td>0</td>\n",
              "      <td>190</td>\n",
              "      <td>80</td>\n",
              "      <td>88</td>\n",
              "      <td>181</td>\n",
              "      <td>360</td>\n",
              "      <td>177</td>\n",
              "      <td>103</td>\n",
              "      <td>-16</td>\n",
              "      <td>13</td>\n",
              "      <td>61</td>\n",
              "      <td>3</td>\n",
              "      <td>NaN</td>\n",
              "      <td>NaN</td>\n",
              "      <td>0</td>\n",
              "      <td>48</td>\n",
              "      <td>40</td>\n",
              "      <td>0</td>\n",
              "      <td>0</td>\n",
              "      <td>28</td>\n",
              "      <td>0</td>\n",
              "      <td>0</td>\n",
              "      <td>0</td>\n",
              "      <td>0</td>\n",
              "      <td>0</td>\n",
              "      <td>0</td>\n",
              "      <td>0</td>\n",
              "      <td>40</td>\n",
              "      <td>24</td>\n",
              "      <td>0</td>\n",
              "      <td>0</td>\n",
              "      <td>24</td>\n",
              "      <td>0</td>\n",
              "      <td>0</td>\n",
              "      <td>0</td>\n",
              "      <td>0</td>\n",
              "      <td>0</td>\n",
              "      <td>0</td>\n",
              "      <td>52</td>\n",
              "      <td>...</td>\n",
              "      <td>-0.5</td>\n",
              "      <td>0.0</td>\n",
              "      <td>8.5</td>\n",
              "      <td>-10.2</td>\n",
              "      <td>0.0</td>\n",
              "      <td>0.0</td>\n",
              "      <td>-1.0</td>\n",
              "      <td>4.7</td>\n",
              "      <td>-4.0</td>\n",
              "      <td>43.0</td>\n",
              "      <td>-0.2</td>\n",
              "      <td>0.0</td>\n",
              "      <td>15.2</td>\n",
              "      <td>-7.8</td>\n",
              "      <td>0.0</td>\n",
              "      <td>0.0</td>\n",
              "      <td>-0.1</td>\n",
              "      <td>4.9</td>\n",
              "      <td>16.2</td>\n",
              "      <td>63.2</td>\n",
              "      <td>-0.2</td>\n",
              "      <td>0.0</td>\n",
              "      <td>9.1</td>\n",
              "      <td>-0.9</td>\n",
              "      <td>0.0</td>\n",
              "      <td>0.0</td>\n",
              "      <td>-0.2</td>\n",
              "      <td>2.9</td>\n",
              "      <td>21.7</td>\n",
              "      <td>48.9</td>\n",
              "      <td>-0.4</td>\n",
              "      <td>0.0</td>\n",
              "      <td>13.1</td>\n",
              "      <td>-3.6</td>\n",
              "      <td>0.0</td>\n",
              "      <td>0.0</td>\n",
              "      <td>-0.1</td>\n",
              "      <td>3.9</td>\n",
              "      <td>25.4</td>\n",
              "      <td>62.8</td>\n",
              "    </tr>\n",
              "  </tbody>\n",
              "</table>\n",
              "<p>5 rows × 279 columns</p>\n",
              "</div>"
            ],
            "text/plain": [
              "   0    1    2    3    4    5    6    ...  272  273  274  275  276   277   278\n",
              "0   75    0  190   80   91  193  371  ... -0.9  0.0  0.0  0.9  2.9  23.3  49.4\n",
              "1   56    1  165   64   81  174  401  ...  0.0  0.0  0.0  0.2  2.1  20.4  38.8\n",
              "2   54    0  172   95  138  163  386  ... -2.4  0.0  0.0  0.3  3.4  12.3  49.0\n",
              "3   55    0  175   94  100  202  380  ... -2.2  0.0  0.0  0.4  2.6  34.6  61.6\n",
              "4   75    0  190   80   88  181  360  ... -3.6  0.0  0.0 -0.1  3.9  25.4  62.8\n",
              "\n",
              "[5 rows x 279 columns]"
            ]
          },
          "metadata": {
            "tags": []
          },
          "execution_count": 9
        }
      ]
    },
    {
      "cell_type": "code",
      "metadata": {
        "colab": {
          "base_uri": "https://localhost:8080/"
        },
        "id": "fgOfmiHw9dvs",
        "outputId": "81bcdad1-5f1e-4d4a-ad41-e0a746125f65"
      },
      "source": [
        "print(y.value_counts())\n",
        "print(len(y))"
      ],
      "execution_count": null,
      "outputs": [
        {
          "output_type": "stream",
          "text": [
            "1     245\n",
            "10     50\n",
            "2      44\n",
            "6      25\n",
            "16     22\n",
            "4      15\n",
            "3      15\n",
            "5      13\n",
            "9       9\n",
            "15      5\n",
            "14      4\n",
            "7       3\n",
            "8       2\n",
            "Name: 279, dtype: int64\n",
            "452\n"
          ],
          "name": "stdout"
        }
      ]
    },
    {
      "cell_type": "code",
      "metadata": {
        "colab": {
          "base_uri": "https://localhost:8080/",
          "height": 302
        },
        "id": "LLut0uxGqmdN",
        "outputId": "62b41bab-1255-439c-abbd-6be60609d61a"
      },
      "source": [
        "#Plotting the distribution of target variables.\n",
        "data[279].value_counts().plot(kind = 'bar')\n",
        "figure(figsize=(16, 8), dpi=80)"
      ],
      "execution_count": null,
      "outputs": [
        {
          "output_type": "execute_result",
          "data": {
            "text/plain": [
              "<Figure size 1280x640 with 0 Axes>"
            ]
          },
          "metadata": {
            "tags": []
          },
          "execution_count": 25
        },
        {
          "output_type": "display_data",
          "data": {
            "image/png": "[encoded data removed]",
            "text/plain": [
              "<Figure size 432x288 with 1 Axes>"
            ]
          },
          "metadata": {
            "tags": [],
            "needs_background": "light"
          }
        },
        {
          "output_type": "display_data",
          "data": {
            "text/plain": [
              "<Figure size 1280x640 with 0 Axes>"
            ]
          },
          "metadata": {
            "tags": []
          }
        }
      ]
    },
    {
      "cell_type": "markdown",
      "metadata": {
        "id": "SmCNXM9xpoKe"
      },
      "source": [
        "####From the graph we can observe that the data is not properly balaced. One can consider the techniques like oversampling the minority label or undersampling the majority label. Since the data is imbalanced, we have to perform stratified."
      ]
    },
    {
      "cell_type": "markdown",
      "metadata": {
        "id": "qzz87vE8-X1P"
      },
      "source": [
        "*italicized text*### Approach 2: Reduce the number of classses.\n",
        "##### "
      ]
    },
    {
      "cell_type": "code",
      "metadata": {
        "id": "XcWQ5D5U-uu5"
      },
      "source": [
        "y_multi = []\n",
        "for i in y:\n",
        "  if i==1:\n",
        "    y_multi.append(0)\n",
        "  elif i == 2 :\n",
        "    y_multi.append(1)\n",
        "  elif i == 3 or i == 4:\n",
        "    y_multi.append(2)\n",
        "  elif i == 5 or i == 6:\n",
        "    y_multi.append(3)\n",
        "  elif i == 7 or i == 8:\n",
        "    y_multi.append(4)\n",
        "  elif  i == 9 or i == 10:\n",
        "    y_multi.append(5)\n",
        "  elif  i == 14 or i == 15 or i==16:\n",
        "     y_multi.append(6)"
      ],
      "execution_count": null,
      "outputs": []
    },
    {
      "cell_type": "code",
      "metadata": {
        "colab": {
          "base_uri": "https://localhost:8080/",
          "height": 265
        },
        "id": "Utp3V6APSUZN",
        "outputId": "b46459de-f8f5-468a-8a98-e6168da3743f"
      },
      "source": [
        "y_multi = pd.Series(y_multi)\n",
        "y_multi.value_counts().plot(kind = 'pie',autopct='%1.1f%%')"
      ],
      "execution_count": null,
      "outputs": [
        {
          "output_type": "execute_result",
          "data": {
            "text/plain": [
              "<matplotlib.axes._subplots.AxesSubplot at 0x7fa9fdcbc810>"
            ]
          },
          "metadata": {
            "tags": []
          },
          "execution_count": 28
        },
        {
          "output_type": "display_data",
          "data": {
            "image/png": "[encoded data removed]",
            "text/plain": [
              "<Figure size 432x288 with 1 Axes>"
            ]
          },
          "metadata": {
            "tags": []
          }
        }
      ]
    },
    {
      "cell_type": "code",
      "metadata": {
        "colab": {
          "base_uri": "https://localhost:8080/"
        },
        "id": "lawx2trE3vkL",
        "outputId": "44b5f317-f887-46f6-db0f-0fc646c99f9f"
      },
      "source": [
        "y_multi.value_counts()"
      ],
      "execution_count": null,
      "outputs": [
        {
          "output_type": "execute_result",
          "data": {
            "text/plain": [
              "0    245\n",
              "5     59\n",
              "1     44\n",
              "3     38\n",
              "6     31\n",
              "2     30\n",
              "4      5\n",
              "dtype: int64"
            ]
          },
          "metadata": {
            "tags": []
          },
          "execution_count": 30
        }
      ]
    },
    {
      "cell_type": "markdown",
      "metadata": {
        "id": "5kgFFb8T5cFe"
      },
      "source": [
        "Exploratory Data Analysis"
      ]
    },
    {
      "cell_type": "code",
      "metadata": {
        "id": "zl0zkUpH81mI"
      },
      "source": [
        "X_train, X_test, y_train, y_test = train_test_split(X, y_multi, test_size=0.20, random_state=42 )"
      ],
      "execution_count": null,
      "outputs": []
    },
    {
      "cell_type": "code",
      "metadata": {
        "id": "ZEuLnZjI2Pt0"
      },
      "source": [
        "col_missing_values = [10,11,12,13,14]\n",
        "\n",
        "for i in col_missing_values:\n",
        "    X_train[i] = X_train[i].astype(float)\n",
        "    X_test[i] = X_test[i].astype(float)\n",
        "\n",
        "train_mean={}\n",
        "for i in col_missing_values :\n",
        "    train_mean[i] = X_train[i].mean() \n",
        "\n",
        "for i in col_missing_values:\n",
        "  X_train[i].replace(np.nan,train_mean[i],inplace= True)\n",
        "  X_test[i].replace(np.nan,train_mean[i],inplace= True)\n",
        "\n",
        "nominal_cols = []\n",
        "nominal_cols.append(1)\n",
        "wave_cols = [15,27,39,51,63,75,87,99,111,123,135,147]\n",
        "for x in wave_cols:\n",
        "  sub_col = [i for i in range(x+6,x+12)]\n",
        "  nominal_cols.extend(sub_col)\n",
        "\n",
        "for i in nominal_cols:\n",
        "  X_train[i] = X_train[i].astype(str).astype(int)\n",
        "  X_test[i] = X_test[i].astype(str).astype(int)\n",
        "\n",
        "\n",
        "clf = StandardScaler()\n",
        "clf.fit(X_train)\n",
        "X_train = pd.DataFrame(clf.transform(X_train))\n",
        "X_test = pd.DataFrame(clf.transform(X_test))"
      ],
      "execution_count": null,
      "outputs": []
    },
    {
      "cell_type": "markdown",
      "metadata": {
        "id": "dcPesEKZmGIu"
      },
      "source": [
        "Inspect the independent variables"
      ]
    },
    {
      "cell_type": "code",
      "metadata": {
        "colab": {
          "base_uri": "https://localhost:8080/",
          "height": 483
        },
        "id": "pJ8MqYUQmn7H",
        "outputId": "ad3939a3-2c4f-418b-b578-6b8f0f32b322"
      },
      "source": [
        "#Checking for missing values.\n",
        "X.isna().sum().plot(kind = 'pie',figsize=(16, 8))"
      ],
      "execution_count": null,
      "outputs": [
        {
          "output_type": "execute_result",
          "data": {
            "text/plain": [
              "<matplotlib.axes._subplots.AxesSubplot at 0x7fa9fdd9c2d0>"
            ]
          },
          "metadata": {
            "tags": []
          },
          "execution_count": 33
        },
        {
          "output_type": "display_data",
          "data": {
            "image/png": "[encoded data removed]",
            "text/plain": [
              "<Figure size 1152x576 with 1 Axes>"
            ]
          },
          "metadata": {
            "tags": []
          }
        }
      ]
    },
    {
      "cell_type": "markdown",
      "metadata": {
        "id": "5Khb5l3uno_d"
      },
      "source": [
        "Columns 10,11,12,13, and 14 have missing values. One should inspect the type of the variabl replace with either mean or mode accordingly.\n",
        "\n",
        "\n",
        "The columns 10,11,12,13,and 14 are:\n",
        " Vector angles in degrees on front plane of:, linear <br>\n",
        "     10 QRS <br>\n",
        "     11 T <br>\n",
        "     12 P <br>\n",
        "     13 QRST <br>\n",
        "     14 J <br>\n",
        "\n",
        "     Since they are linear, they can be replaced by mean."
      ]
    },
    {
      "cell_type": "code",
      "metadata": {
        "id": "4kUvZDFdu5a4"
      },
      "source": [
        "def objective(trial):\n",
        "    \n",
        "    \n",
        "    classifier_name = trial.suggest_categorical(\"classifier\", [\"SVC\", \"RandomForestClassifier\", \"ElasticNet\",\"LogReg\"])\n",
        "    \n",
        "    if classifier_name == \"SVC\":\n",
        "        svc_c = trial.suggest_float(\"svc_c\", 1e-10, 1e10, log=True)\n",
        "        model = sklearn.svm.SVC(C=svc_c, gamma=\"auto\")\n",
        "        \n",
        "    elif classifier_name == \"RandomForestClassifier\":\n",
        "        rf_max_depth = trial.suggest_int(\"rf_max_depth\", 2, 32)\n",
        "        rf_n_estimators = trial.suggest_int(\"rf_n_estimators\", 2, 128, log=True)\n",
        "        model = sklearn.ensemble.RandomForestClassifier(\n",
        "            max_depth=rf_max_depth, n_estimators=rf_n_estimators\n",
        "        )\n",
        "\n",
        "    elif classifier_name == \"ElasticNet\":\n",
        "        en_l1_ratio = trial.suggest_float(\"en_l1_ratio\", 0, 1, log=False)\n",
        "        model = sklearn.linear_model.ElasticNet(l1_ratio=en_l1_ratio)\n",
        "\n",
        "    elif classifier_name == 'LogReg':\n",
        "        logreg_c = trial.suggest_float(\"logreg_c\", 1e-10, 1e10, log=True)\n",
        "        model = sklearn.linear_model.LogisticRegression(C=logreg_c)\n",
        "        \n",
        "    score = sklearn.model_selection.cross_val_score(model, X_train, y_train, cv=3)\n",
        "    accuracy = score.mean()\n",
        "    \n",
        "    return accuracy"
      ],
      "execution_count": null,
      "outputs": []
    },
    {
      "cell_type": "code",
      "metadata": {
        "colab": {
          "base_uri": "https://localhost:8080/"
        },
        "id": "BWwndX_nnFXJ",
        "outputId": "07eb164e-82e6-4b86-d4dc-5e244b75c050"
      },
      "source": [
        "cstudy = optuna.create_study(direction=\"maximize\")\n",
        "cstudy.optimize(objective, n_trials=30)"
      ],
      "execution_count": null,
      "outputs": [
        {
          "output_type": "stream",
          "text": [
            "\u001b[32m[I 2021-04-27 19:48:06,222]\u001b[0m A new study created in memory with name: no-name-9915f033-b13c-4d1c-98c4-8a895e93f4f7\u001b[0m\n",
            "\u001b[32m[I 2021-04-27 19:48:07,093]\u001b[0m Trial 0 finished with value: 0.7008264462809916 and parameters: {'classifier': 'RandomForestClassifier', 'rf_max_depth': 31, 'rf_n_estimators': 120}. Best is trial 0 with value: 0.7008264462809916.\u001b[0m\n",
            "\u001b[32m[I 2021-04-27 19:48:07,129]\u001b[0m Trial 1 finished with value: 0.5651974288337924 and parameters: {'classifier': 'RandomForestClassifier', 'rf_max_depth': 25, 'rf_n_estimators': 2}. Best is trial 0 with value: 0.7008264462809916.\u001b[0m\n",
            "\u001b[32m[I 2021-04-27 19:48:07,159]\u001b[0m Trial 2 finished with value: 0.5956382001836548 and parameters: {'classifier': 'RandomForestClassifier', 'rf_max_depth': 3, 'rf_n_estimators': 2}. Best is trial 0 with value: 0.7008264462809916.\u001b[0m\n",
            "\u001b[32m[I 2021-04-27 19:48:07,189]\u001b[0m Trial 3 finished with value: 0.5622819100091827 and parameters: {'classifier': 'RandomForestClassifier', 'rf_max_depth': 3, 'rf_n_estimators': 2}. Best is trial 0 with value: 0.7008264462809916.\u001b[0m\n",
            "\u001b[32m[I 2021-04-27 19:48:07,540]\u001b[0m Trial 4 finished with value: 0.5567952249770431 and parameters: {'classifier': 'LogReg', 'logreg_c': 8.900919994445715e-07}. Best is trial 0 with value: 0.7008264462809916.\u001b[0m\n",
            "\u001b[32m[I 2021-04-27 19:48:07,667]\u001b[0m Trial 5 finished with value: 0.6011707988980716 and parameters: {'classifier': 'LogReg', 'logreg_c': 135608951.04902765}. Best is trial 0 with value: 0.7008264462809916.\u001b[0m\n",
            "\u001b[32m[I 2021-04-27 19:48:08,038]\u001b[0m Trial 6 finished with value: 0.7091597796143251 and parameters: {'classifier': 'LogReg', 'logreg_c': 0.05653803785727428}. Best is trial 6 with value: 0.7091597796143251.\u001b[0m\n",
            "\u001b[32m[I 2021-04-27 19:48:08,274]\u001b[0m Trial 7 finished with value: 0.6814508723599633 and parameters: {'classifier': 'SVC', 'svc_c': 13101.954678412327}. Best is trial 6 with value: 0.7091597796143251.\u001b[0m\n",
            "\u001b[32m[I 2021-04-27 19:48:08,321]\u001b[0m Trial 8 finished with value: 0.5679292929292928 and parameters: {'classifier': 'RandomForestClassifier', 'rf_max_depth': 2, 'rf_n_estimators': 5}. Best is trial 6 with value: 0.7091597796143251.\u001b[0m\n",
            "\u001b[32m[I 2021-04-27 19:48:08,362]\u001b[0m Trial 9 finished with value: 0.6260560146923784 and parameters: {'classifier': 'RandomForestClassifier', 'rf_max_depth': 11, 'rf_n_estimators': 3}. Best is trial 6 with value: 0.7091597796143251.\u001b[0m\n",
            "\u001b[32m[I 2021-04-27 19:48:08,390]\u001b[0m Trial 10 finished with value: 0.004477636178476407 and parameters: {'classifier': 'ElasticNet', 'en_l1_ratio': 0.771484637504408}. Best is trial 6 with value: 0.7091597796143251.\u001b[0m\n",
            "\u001b[32m[I 2021-04-27 19:48:08,806]\u001b[0m Trial 11 finished with value: 0.6482093663911845 and parameters: {'classifier': 'LogReg', 'logreg_c': 3.0711020272126373}. Best is trial 6 with value: 0.7091597796143251.\u001b[0m\n",
            "\u001b[32m[I 2021-04-27 19:48:08,838]\u001b[0m Trial 12 finished with value: 0.18755063599281283 and parameters: {'classifier': 'ElasticNet', 'en_l1_ratio': 0.18787475341041127}. Best is trial 6 with value: 0.7091597796143251.\u001b[0m\n",
            "\u001b[32m[I 2021-04-27 19:48:08,977]\u001b[0m Trial 13 finished with value: 0.5567952249770431 and parameters: {'classifier': 'SVC', 'svc_c': 7.749108949927088e-10}. Best is trial 6 with value: 0.7091597796143251.\u001b[0m\n",
            "\u001b[32m[I 2021-04-27 19:48:09,297]\u001b[0m Trial 14 finished with value: 0.7036042240587695 and parameters: {'classifier': 'LogReg', 'logreg_c': 0.043920328766253194}. Best is trial 6 with value: 0.7091597796143251.\u001b[0m\n",
            "\u001b[32m[I 2021-04-27 19:48:09,695]\u001b[0m Trial 15 finished with value: 0.6924701561065197 and parameters: {'classifier': 'LogReg', 'logreg_c': 0.12584391359925182}. Best is trial 6 with value: 0.7091597796143251.\u001b[0m\n",
            "\u001b[32m[I 2021-04-27 19:48:10,092]\u001b[0m Trial 16 finished with value: 0.6924701561065197 and parameters: {'classifier': 'LogReg', 'logreg_c': 0.13591544113355689}. Best is trial 6 with value: 0.7091597796143251.\u001b[0m\n",
            "\u001b[32m[I 2021-04-27 19:48:10,517]\u001b[0m Trial 17 finished with value: 0.5567952249770431 and parameters: {'classifier': 'LogReg', 'logreg_c': 3.7756680540660047e-06}. Best is trial 6 with value: 0.7091597796143251.\u001b[0m\n",
            "\u001b[32m[I 2021-04-27 19:48:10,859]\u001b[0m Trial 18 finished with value: 0.6011707988980716 and parameters: {'classifier': 'LogReg', 'logreg_c': 6901.094464802139}. Best is trial 6 with value: 0.7091597796143251.\u001b[0m\n",
            "\u001b[32m[I 2021-04-27 19:48:11,084]\u001b[0m Trial 19 finished with value: 0.5595730027548209 and parameters: {'classifier': 'LogReg', 'logreg_c': 0.0005216715110738844}. Best is trial 6 with value: 0.7091597796143251.\u001b[0m\n",
            "\u001b[32m[I 2021-04-27 19:48:11,221]\u001b[0m Trial 20 finished with value: 0.5567952249770431 and parameters: {'classifier': 'SVC', 'svc_c': 9.018244780095487e-10}. Best is trial 6 with value: 0.7091597796143251.\u001b[0m\n",
            "\u001b[32m[I 2021-04-27 19:48:11,971]\u001b[0m Trial 21 finished with value: 0.7035583103764923 and parameters: {'classifier': 'RandomForestClassifier', 'rf_max_depth': 32, 'rf_n_estimators': 104}. Best is trial 6 with value: 0.7091597796143251.\u001b[0m\n",
            "\u001b[32m[I 2021-04-27 19:48:11,997]\u001b[0m Trial 22 finished with value: -0.025499152393353503 and parameters: {'classifier': 'ElasticNet', 'en_l1_ratio': 0.99530066922467}. Best is trial 6 with value: 0.7091597796143251.\u001b[0m\n",
            "\u001b[32m[I 2021-04-27 19:48:12,185]\u001b[0m Trial 23 finished with value: 0.5567952249770431 and parameters: {'classifier': 'LogReg', 'logreg_c': 2.612441996991407e-10}. Best is trial 6 with value: 0.7091597796143251.\u001b[0m\n",
            "\u001b[32m[I 2021-04-27 19:48:12,554]\u001b[0m Trial 24 finished with value: 0.601147842056933 and parameters: {'classifier': 'LogReg', 'logreg_c': 2836.5446982401236}. Best is trial 6 with value: 0.7091597796143251.\u001b[0m\n",
            "\u001b[32m[I 2021-04-27 19:48:13,512]\u001b[0m Trial 25 finished with value: 0.714692378328742 and parameters: {'classifier': 'RandomForestClassifier', 'rf_max_depth': 21, 'rf_n_estimators': 127}. Best is trial 25 with value: 0.714692378328742.\u001b[0m\n",
            "\u001b[32m[I 2021-04-27 19:48:13,995]\u001b[0m Trial 26 finished with value: 0.6149908172635445 and parameters: {'classifier': 'LogReg', 'logreg_c': 80.13937345470295}. Best is trial 25 with value: 0.714692378328742.\u001b[0m\n",
            "\u001b[32m[I 2021-04-27 19:48:14,221]\u001b[0m Trial 27 finished with value: 0.6814508723599633 and parameters: {'classifier': 'SVC', 'svc_c': 966903452.2570708}. Best is trial 25 with value: 0.714692378328742.\u001b[0m\n",
            "\u001b[32m[I 2021-04-27 19:48:14,414]\u001b[0m Trial 28 finished with value: 0.6814049586776859 and parameters: {'classifier': 'RandomForestClassifier', 'rf_max_depth': 19, 'rf_n_estimators': 25}. Best is trial 25 with value: 0.714692378328742.\u001b[0m\n",
            "\u001b[32m[I 2021-04-27 19:48:14,545]\u001b[0m Trial 29 finished with value: 0.6011707988980716 and parameters: {'classifier': 'LogReg', 'logreg_c': 9630321.015721874}. Best is trial 25 with value: 0.714692378328742.\u001b[0m\n"
          ],
          "name": "stderr"
        }
      ]
    },
    {
      "cell_type": "code",
      "metadata": {
        "colab": {
          "base_uri": "https://localhost:8080/"
        },
        "id": "MpPrc3P2PQyT",
        "outputId": "0ec6c0d5-99c2-4455-caca-1fab623a579a"
      },
      "source": [
        "cstudy.best_trial"
      ],
      "execution_count": null,
      "outputs": [
        {
          "output_type": "execute_result",
          "data": {
            "text/plain": [
              "FrozenTrial(number=25, values=[0.714692378328742], datetime_start=datetime.datetime(2021, 4, 27, 19, 48, 12, 557121), datetime_complete=datetime.datetime(2021, 4, 27, 19, 48, 13, 512229), params={'classifier': 'RandomForestClassifier', 'rf_max_depth': 21, 'rf_n_estimators': 127}, distributions={'classifier': CategoricalDistribution(choices=('SVC', 'RandomForestClassifier', 'ElasticNet', 'LogReg')), 'rf_max_depth': IntUniformDistribution(high=32, low=2, step=1), 'rf_n_estimators': IntLogUniformDistribution(high=128, low=2, step=1)}, user_attrs={}, system_attrs={}, intermediate_values={}, trial_id=25, state=TrialState.COMPLETE, value=None)"
            ]
          },
          "metadata": {
            "tags": []
          },
          "execution_count": 40
        }
      ]
    },
    {
      "cell_type": "code",
      "metadata": {
        "colab": {
          "base_uri": "https://localhost:8080/"
        },
        "id": "t_Mpj-RRRAYH",
        "outputId": "f409450f-b83d-44cd-fddd-3a1931f0258e"
      },
      "source": [
        "cstudy.best_params"
      ],
      "execution_count": null,
      "outputs": [
        {
          "output_type": "execute_result",
          "data": {
            "text/plain": [
              "{'classifier': 'RandomForestClassifier',\n",
              " 'rf_max_depth': 21,\n",
              " 'rf_n_estimators': 127}"
            ]
          },
          "metadata": {
            "tags": []
          },
          "execution_count": 41
        }
      ]
    },
    {
      "cell_type": "code",
      "metadata": {
        "colab": {
          "base_uri": "https://localhost:8080/"
        },
        "id": "JFb_2kODoEWU",
        "outputId": "bc19b640-9ee7-49ba-bc9b-1822993ca226"
      },
      "source": [
        "model = sklearn.ensemble.RandomForestClassifier(\n",
        "            max_depth= 32, n_estimators= 110\n",
        "        )\n",
        "model.fit(X_train, y_train)"
      ],
      "execution_count": null,
      "outputs": [
        {
          "output_type": "execute_result",
          "data": {
            "text/plain": [
              "RandomForestClassifier(bootstrap=True, ccp_alpha=0.0, class_weight=None,\n",
              "                       criterion='gini', max_depth=32, max_features='auto',\n",
              "                       max_leaf_nodes=None, max_samples=None,\n",
              "                       min_impurity_decrease=0.0, min_impurity_split=None,\n",
              "                       min_samples_leaf=1, min_samples_split=2,\n",
              "                       min_weight_fraction_leaf=0.0, n_estimators=110,\n",
              "                       n_jobs=None, oob_score=False, random_state=None,\n",
              "                       verbose=0, warm_start=False)"
            ]
          },
          "metadata": {
            "tags": []
          },
          "execution_count": 42
        }
      ]
    },
    {
      "cell_type": "code",
      "metadata": {
        "colab": {
          "base_uri": "https://localhost:8080/"
        },
        "id": "udHJry8Ipbdi",
        "outputId": "8321dc39-f07c-4ec9-86e5-7d9b21291ad1"
      },
      "source": [
        "prediction_test= model.predict(X_test)\n",
        "print(f1_score(y_test, prediction_test,average='micro') * 100)"
      ],
      "execution_count": null,
      "outputs": [
        {
          "output_type": "stream",
          "text": [
            "70.32967032967034\n"
          ],
          "name": "stdout"
        }
      ]
    },
    {
      "cell_type": "markdown",
      "metadata": {
        "id": "0qM54rsB3PCl"
      },
      "source": [
        "# Multi Layer Perceptron"
      ]
    },
    {
      "cell_type": "code",
      "metadata": {
        "id": "EecokcJI3f4w"
      },
      "source": [
        "X_train1, X_test, y_train1, y_test = train_test_split(X, y_multi, test_size=0.20, random_state=42)\n",
        "X_train, X_val, y_train, y_val = train_test_split(X_train1, y_train1, test_size=0.25, random_state=42)"
      ],
      "execution_count": null,
      "outputs": []
    },
    {
      "cell_type": "code",
      "metadata": {
        "id": "lEThfIU33ghe"
      },
      "source": [
        "col_missing_values = [10,11,12,13,14]\n",
        "\n",
        "for i in col_missing_values:\n",
        "    X_train[i] = X_train[i].astype(float)\n",
        "    X_val[i] = X_val[i].astype(float)\n",
        "    X_test[i] = X_test[i].astype(float)\n",
        "\n",
        "train_mean={}\n",
        "for i in col_missing_values :\n",
        "    train_mean[i] = X_train[i].mean() \n",
        "\n",
        "for i in col_missing_values:\n",
        "  X_train[i].replace(np.nan,train_mean[i],inplace= True)\n",
        "  X_val[i].replace(np.nan,train_mean[i],inplace= True)\n",
        "  X_test[i].replace(np.nan,train_mean[i],inplace= True)\n",
        "\n",
        "nominal_cols = []\n",
        "nominal_cols.append(1)\n",
        "wave_cols = [15,27,39,51,63,75,87,99,111,123,135,147]\n",
        "for x in wave_cols:\n",
        "  sub_col = [i for i in range(x+6,x+12)]\n",
        "  nominal_cols.extend(sub_col)\n",
        "\n",
        "for i in nominal_cols:\n",
        "  X_train[i] = X_train[i].astype(str).astype(int)\n",
        "  X_val[i] = X_val[i].astype(str).astype(int)\n",
        "  X_test[i] = X_test[i].astype(str).astype(int)\n",
        "\n",
        "\n",
        "clf = StandardScaler()\n",
        "clf.fit(X_train)\n",
        "X_train = pd.DataFrame(clf.transform(X_train))\n",
        "X_val = pd.DataFrame(clf.transform(X_val))\n",
        "X_test = pd.DataFrame(clf.transform(X_test))"
      ],
      "execution_count": null,
      "outputs": []
    },
    {
      "cell_type": "code",
      "metadata": {
        "id": "bPDURtIpBzcr"
      },
      "source": [
        "keras.backend.clear_session()\n",
        "np.random.seed(425)\n",
        "tf.random.set_seed(425)"
      ],
      "execution_count": null,
      "outputs": []
    },
    {
      "cell_type": "code",
      "metadata": {
        "id": "Vt443p3bHo8t"
      },
      "source": [
        "model = keras.models.Sequential([\n",
        "    keras.layers.Flatten(input_shape=[279]),\n",
        "    # keras.layers.Dense(100, activation=\"relu\"),\n",
        "    # keras.layers.Dense(50, activation=\"relu\"),\n",
        "    keras.layers.Dense(16, activation=\"relu\"),\n",
        "    keras.layers.Dropout(0.5),\n",
        "    keras.layers.Dense(7, activation=\"softmax\")\n",
        "])"
      ],
      "execution_count": null,
      "outputs": []
    },
    {
      "cell_type": "code",
      "metadata": {
        "id": "gPyUJKF-Ho_r"
      },
      "source": [
        "model.compile(loss=keras.losses.categorical_crossentropy,\n",
        "              optimizer='adam',\n",
        "              metrics=[\"accuracy\"])"
      ],
      "execution_count": null,
      "outputs": []
    },
    {
      "cell_type": "code",
      "metadata": {
        "id": "PGKAZsWzYPsz"
      },
      "source": [
        "y_train_en = to_categorical(y_train, 7)\n",
        "y_test_en = to_categorical(y_test, 7)\n",
        "y_val_en = to_categorical(y_val, 7)"
      ],
      "execution_count": null,
      "outputs": []
    },
    {
      "cell_type": "code",
      "metadata": {
        "id": "DcJp_hWcHpCy",
        "colab": {
          "base_uri": "https://localhost:8080/"
        },
        "outputId": "9dccc497-b0df-4d38-f021-4d44cc79ef61"
      },
      "source": [
        "history = model.fit(X_train, y_train_en, epochs=20,\n",
        "                    validation_data=(X_val, y_val_en))"
      ],
      "execution_count": null,
      "outputs": [
        {
          "output_type": "stream",
          "text": [
            "Epoch 1/20\n",
            "9/9 [==============================] - 1s 27ms/step - loss: 2.6506 - accuracy: 0.1358 - val_loss: 2.3464 - val_accuracy: 0.1538\n",
            "Epoch 2/20\n",
            "9/9 [==============================] - 0s 7ms/step - loss: 2.4678 - accuracy: 0.1725 - val_loss: 2.1823 - val_accuracy: 0.2527\n",
            "Epoch 3/20\n",
            "9/9 [==============================] - 0s 8ms/step - loss: 2.1914 - accuracy: 0.2290 - val_loss: 2.0616 - val_accuracy: 0.3077\n",
            "Epoch 4/20\n",
            "9/9 [==============================] - 0s 8ms/step - loss: 1.9871 - accuracy: 0.3054 - val_loss: 1.9460 - val_accuracy: 0.3626\n",
            "Epoch 5/20\n",
            "9/9 [==============================] - 0s 8ms/step - loss: 1.8636 - accuracy: 0.3569 - val_loss: 1.8396 - val_accuracy: 0.4176\n",
            "Epoch 6/20\n",
            "9/9 [==============================] - 0s 7ms/step - loss: 1.6479 - accuracy: 0.4455 - val_loss: 1.7391 - val_accuracy: 0.4505\n",
            "Epoch 7/20\n",
            "9/9 [==============================] - 0s 8ms/step - loss: 1.5854 - accuracy: 0.4306 - val_loss: 1.6573 - val_accuracy: 0.4945\n",
            "Epoch 8/20\n",
            "9/9 [==============================] - 0s 7ms/step - loss: 1.5626 - accuracy: 0.4477 - val_loss: 1.5830 - val_accuracy: 0.5165\n",
            "Epoch 9/20\n",
            "9/9 [==============================] - 0s 8ms/step - loss: 1.4495 - accuracy: 0.4946 - val_loss: 1.5212 - val_accuracy: 0.5385\n",
            "Epoch 10/20\n",
            "9/9 [==============================] - 0s 8ms/step - loss: 1.3874 - accuracy: 0.5459 - val_loss: 1.4761 - val_accuracy: 0.5604\n",
            "Epoch 11/20\n",
            "9/9 [==============================] - 0s 8ms/step - loss: 1.3322 - accuracy: 0.5531 - val_loss: 1.4375 - val_accuracy: 0.5604\n",
            "Epoch 12/20\n",
            "9/9 [==============================] - 0s 8ms/step - loss: 1.2084 - accuracy: 0.6447 - val_loss: 1.4020 - val_accuracy: 0.6044\n",
            "Epoch 13/20\n",
            "9/9 [==============================] - 0s 7ms/step - loss: 1.2458 - accuracy: 0.6162 - val_loss: 1.3741 - val_accuracy: 0.6044\n",
            "Epoch 14/20\n",
            "9/9 [==============================] - 0s 7ms/step - loss: 1.2705 - accuracy: 0.5945 - val_loss: 1.3474 - val_accuracy: 0.6154\n",
            "Epoch 15/20\n",
            "9/9 [==============================] - 0s 8ms/step - loss: 1.1037 - accuracy: 0.6064 - val_loss: 1.3260 - val_accuracy: 0.6374\n",
            "Epoch 16/20\n",
            "9/9 [==============================] - 0s 7ms/step - loss: 1.1437 - accuracy: 0.6506 - val_loss: 1.3093 - val_accuracy: 0.6374\n",
            "Epoch 17/20\n",
            "9/9 [==============================] - 0s 7ms/step - loss: 1.2146 - accuracy: 0.5814 - val_loss: 1.2928 - val_accuracy: 0.6264\n",
            "Epoch 18/20\n",
            "9/9 [==============================] - 0s 8ms/step - loss: 1.1040 - accuracy: 0.6052 - val_loss: 1.2701 - val_accuracy: 0.6264\n",
            "Epoch 19/20\n",
            "9/9 [==============================] - 0s 7ms/step - loss: 1.1563 - accuracy: 0.6300 - val_loss: 1.2508 - val_accuracy: 0.6484\n",
            "Epoch 20/20\n",
            "9/9 [==============================] - 0s 7ms/step - loss: 1.0004 - accuracy: 0.6778 - val_loss: 1.2378 - val_accuracy: 0.6484\n"
          ],
          "name": "stdout"
        }
      ]
    },
    {
      "cell_type": "code",
      "metadata": {
        "id": "NdT4D9KyHpHC",
        "colab": {
          "base_uri": "https://localhost:8080/",
          "height": 324
        },
        "outputId": "56da2566-6eb4-4207-b459-ea3f6988de3e"
      },
      "source": [
        "pd.DataFrame(history.history).plot(figsize=(8, 5))\n",
        "plt.grid(True)\n",
        "plt.gca().set_ylim(0, 1)\n",
        "plt.show()"
      ],
      "execution_count": null,
      "outputs": [
        {
          "output_type": "display_data",
          "data": {
            "image/png": "[encoded data removed]",
            "text/plain": [
              "<Figure size 576x360 with 1 Axes>"
            ]
          },
          "metadata": {
            "tags": [],
            "needs_background": "light"
          }
        }
      ]
    },
    {
      "cell_type": "code",
      "metadata": {
        "id": "sVod-1KF1ph4"
      },
      "source": [
        ""
      ],
      "execution_count": null,
      "outputs": []
    },
    {
      "cell_type": "markdown",
      "metadata": {
        "id": "vR-o5-XXCayH"
      },
      "source": [
        "The graph has accuracy and loss of resampled training set and vaidation set. There is a huge difference in the loss and validation loss. They are not nearly the same. Training loss is less than the validation loss, so model has is overfit."
      ]
    },
    {
      "cell_type": "code",
      "metadata": {
        "id": "gIelEXeNHpKX",
        "colab": {
          "base_uri": "https://localhost:8080/",
          "height": 295
        },
        "outputId": "2740ee4b-d4de-4e7d-ac60-6b4be877a405"
      },
      "source": [
        "loss_train = history.history['loss']\n",
        "loss_val = history.history['val_loss']\n",
        "epochs = range(1,21)\n",
        "plt.plot(epochs, loss_train, 'g', label='Training loss')\n",
        "plt.plot(epochs, loss_val, 'b', label='validation loss')\n",
        "plt.title('Training and Validation loss')\n",
        "plt.xlabel('Epochs')\n",
        "plt.ylabel('Loss')\n",
        "plt.legend()\n",
        "plt.show()"
      ],
      "execution_count": null,
      "outputs": [
        {
          "output_type": "display_data",
          "data": {
            "image/png": "[encoded data removed]",
            "text/plain": [
              "<Figure size 432x288 with 1 Axes>"
            ]
          },
          "metadata": {
            "tags": [],
            "needs_background": "light"
          }
        }
      ]
    },
    {
      "cell_type": "code",
      "metadata": {
        "id": "DrwEmkV7HpNY",
        "colab": {
          "base_uri": "https://localhost:8080/",
          "height": 295
        },
        "outputId": "daf7d2d4-4c38-4b64-cc9b-3588f8de9af4"
      },
      "source": [
        "loss_train = history.history['accuracy']\n",
        "loss_val = history.history['val_accuracy']\n",
        "epochs = range(1,21)\n",
        "plt.plot(epochs, loss_train, 'g', label='Training accuracy')\n",
        "plt.plot(epochs, loss_val, 'b', label='validation accuracy')\n",
        "plt.title('Training and Validation accuracy')\n",
        "plt.xlabel('Epochs')\n",
        "plt.ylabel('Accuracy')\n",
        "plt.legend()\n",
        "plt.show()"
      ],
      "execution_count": null,
      "outputs": [
        {
          "output_type": "display_data",
          "data": {
            "image/png": "[encoded data removed]",
            "text/plain": [
              "<Figure size 432x288 with 1 Axes>"
            ]
          },
          "metadata": {
            "tags": [],
            "needs_background": "light"
          }
        }
      ]
    },
    {
      "cell_type": "code",
      "metadata": {
        "colab": {
          "base_uri": "https://localhost:8080/"
        },
        "id": "WKzmixwjEMf8",
        "outputId": "c2ca9813-d33c-4be9-c5f8-949b658e7732"
      },
      "source": [
        "predictions = model.predict_classes(X_test)\n",
        "acc_score = f1_score(y_test, predictions,average='micro')\n",
        "print(acc_score*100)"
      ],
      "execution_count": null,
      "outputs": [
        {
          "output_type": "stream",
          "text": [
            "62.637362637362635\n"
          ],
          "name": "stdout"
        }
      ]
    },
    {
      "cell_type": "markdown",
      "metadata": {
        "id": "1DxrVid07Sh_"
      },
      "source": [
        "COnvolution 1D"
      ]
    },
    {
      "cell_type": "code",
      "metadata": {
        "id": "2q8g4DwrBLL6"
      },
      "source": [
        "from keras.models import Sequential\n",
        "from keras.layers import Dense, Conv1D, Flatten, MaxPooling1D,Dropout\n",
        "from sklearn.model_selection import train_test_split\n",
        "from sklearn.metrics import confusion_matrix\n",
        "from sklearn.datasets import load_iris\n",
        "from numpy import unique\n",
        "from keras.layers.advanced_activations import LeakyReLU"
      ],
      "execution_count": null,
      "outputs": []
    },
    {
      "cell_type": "code",
      "metadata": {
        "id": "Lo_uxEy48V42"
      },
      "source": [
        "X_train = X_train.to_numpy()\n",
        "X_val = X_val.to_numpy()\n",
        "X_test = X_test.to_numpy()"
      ],
      "execution_count": null,
      "outputs": []
    },
    {
      "cell_type": "code",
      "metadata": {
        "id": "Ci3WsjSb8ilI"
      },
      "source": [
        "X_train = X_train.reshape(X_train.shape[0], X_train.shape[1], 1)\n",
        "X_test = X_test.reshape(X_test.shape[0], X_test.shape[1], 1)\n",
        "X_val = X_val.reshape(X_val.shape[0], X_val.shape[1], 1)\n"
      ],
      "execution_count": null,
      "outputs": []
    },
    {
      "cell_type": "code",
      "metadata": {
        "colab": {
          "base_uri": "https://localhost:8080/"
        },
        "id": "QznHeh449_sI",
        "outputId": "f961a71a-4eb4-4af2-b91e-33519b03c9e9"
      },
      "source": [
        "model3 = Sequential()\n",
        "model3.add(Conv1D(256, 3, activation='relu',input_shape=(279,1),padding='same'))\n",
        "model3.add(MaxPooling1D())\n",
        "model3.add(Dropout(0.5))\n",
        "model3.add(Conv1D(128, 3, activation='relu',input_shape=(279,1),padding='same'))\n",
        "model3.add(MaxPooling1D())\n",
        "model3.add(Dropout(0.25))\n",
        "model3.add(Conv1D(64, 3, activation='relu',input_shape=(279,1),padding='same'))\n",
        "model3.add(MaxPooling1D())\n",
        "model3.add(Dropout(0.5))\n",
        "model3.add(Flatten()) \n",
        "model3.add(Dense(64, activation='relu')) \n",
        "model3.add(Dropout(0.5))               \n",
        "model3.add(Dense(7, activation='softmax'))\n",
        "\n",
        "model3.compile(loss = keras.losses.categorical_crossentropy, \n",
        "     optimizer = \"adam\",               \n",
        "              metrics = ['accuracy'])\n",
        "model3.summary()"
      ],
      "execution_count": null,
      "outputs": [
        {
          "output_type": "stream",
          "text": [
            "Model: \"sequential_3\"\n",
            "_________________________________________________________________\n",
            "Layer (type)                 Output Shape              Param #   \n",
            "=================================================================\n",
            "conv1d_4 (Conv1D)            (None, 279, 256)          1024      \n",
            "_________________________________________________________________\n",
            "max_pooling1d_4 (MaxPooling1 (None, 139, 256)          0         \n",
            "_________________________________________________________________\n",
            "dropout_5 (Dropout)          (None, 139, 256)          0         \n",
            "_________________________________________________________________\n",
            "conv1d_5 (Conv1D)            (None, 139, 128)          98432     \n",
            "_________________________________________________________________\n",
            "max_pooling1d_5 (MaxPooling1 (None, 69, 128)           0         \n",
            "_________________________________________________________________\n",
            "dropout_6 (Dropout)          (None, 69, 128)           0         \n",
            "_________________________________________________________________\n",
            "conv1d_6 (Conv1D)            (None, 69, 64)            24640     \n",
            "_________________________________________________________________\n",
            "max_pooling1d_6 (MaxPooling1 (None, 34, 64)            0         \n",
            "_________________________________________________________________\n",
            "dropout_7 (Dropout)          (None, 34, 64)            0         \n",
            "_________________________________________________________________\n",
            "flatten_2 (Flatten)          (None, 2176)              0         \n",
            "_________________________________________________________________\n",
            "dense_4 (Dense)              (None, 64)                139328    \n",
            "_________________________________________________________________\n",
            "dropout_8 (Dropout)          (None, 64)                0         \n",
            "_________________________________________________________________\n",
            "dense_5 (Dense)              (None, 7)                 455       \n",
            "=================================================================\n",
            "Total params: 263,879\n",
            "Trainable params: 263,879\n",
            "Non-trainable params: 0\n",
            "_________________________________________________________________\n"
          ],
          "name": "stdout"
        }
      ]
    },
    {
      "cell_type": "code",
      "metadata": {
        "colab": {
          "base_uri": "https://localhost:8080/"
        },
        "id": "hMgi6Tql-cQo",
        "outputId": "9cbf8bb4-2f74-4cdc-9f8b-10be3938f4fa"
      },
      "source": [
        "model3.compile(loss = 'sparse_categorical_crossentropy', \n",
        "     optimizer = \"adam\",               \n",
        "              metrics = ['accuracy'])\n",
        "model3.summary()"
      ],
      "execution_count": null,
      "outputs": [
        {
          "output_type": "stream",
          "text": [
            "Model: \"sequential_3\"\n",
            "_________________________________________________________________\n",
            "Layer (type)                 Output Shape              Param #   \n",
            "=================================================================\n",
            "conv1d_4 (Conv1D)            (None, 279, 256)          1024      \n",
            "_________________________________________________________________\n",
            "max_pooling1d_4 (MaxPooling1 (None, 139, 256)          0         \n",
            "_________________________________________________________________\n",
            "dropout_5 (Dropout)          (None, 139, 256)          0         \n",
            "_________________________________________________________________\n",
            "conv1d_5 (Conv1D)            (None, 139, 128)          98432     \n",
            "_________________________________________________________________\n",
            "max_pooling1d_5 (MaxPooling1 (None, 69, 128)           0         \n",
            "_________________________________________________________________\n",
            "dropout_6 (Dropout)          (None, 69, 128)           0         \n",
            "_________________________________________________________________\n",
            "conv1d_6 (Conv1D)            (None, 69, 64)            24640     \n",
            "_________________________________________________________________\n",
            "max_pooling1d_6 (MaxPooling1 (None, 34, 64)            0         \n",
            "_________________________________________________________________\n",
            "dropout_7 (Dropout)          (None, 34, 64)            0         \n",
            "_________________________________________________________________\n",
            "flatten_2 (Flatten)          (None, 2176)              0         \n",
            "_________________________________________________________________\n",
            "dense_4 (Dense)              (None, 64)                139328    \n",
            "_________________________________________________________________\n",
            "dropout_8 (Dropout)          (None, 64)                0         \n",
            "_________________________________________________________________\n",
            "dense_5 (Dense)              (None, 7)                 455       \n",
            "=================================================================\n",
            "Total params: 263,879\n",
            "Trainable params: 263,879\n",
            "Non-trainable params: 0\n",
            "_________________________________________________________________\n"
          ],
          "name": "stdout"
        }
      ]
    },
    {
      "cell_type": "code",
      "metadata": {
        "id": "ifHSfXsr49Nc"
      },
      "source": [
        "X_train= X_train.reshape(X_train.shape[0], X_train.shape[1], 1)"
      ],
      "execution_count": null,
      "outputs": []
    },
    {
      "cell_type": "code",
      "metadata": {
        "colab": {
          "base_uri": "https://localhost:8080/"
        },
        "id": "lkUmEQKH-gp4",
        "outputId": "868cb118-8e98-4db8-f60f-68d531642af7"
      },
      "source": [
        "history = model3.fit(X_train, y_train, epochs=20,\n",
        "                    validation_data=(X_val, y_val))"
      ],
      "execution_count": null,
      "outputs": [
        {
          "output_type": "stream",
          "text": [
            "Epoch 1/20\n",
            "9/9 [==============================] - 2s 165ms/step - loss: 1.8689 - accuracy: 0.3858 - val_loss: 1.6178 - val_accuracy: 0.5714\n",
            "Epoch 2/20\n",
            "9/9 [==============================] - 1s 131ms/step - loss: 1.6801 - accuracy: 0.5516 - val_loss: 1.5337 - val_accuracy: 0.5714\n",
            "Epoch 3/20\n",
            "9/9 [==============================] - 1s 131ms/step - loss: 1.5182 - accuracy: 0.5802 - val_loss: 1.4675 - val_accuracy: 0.5714\n",
            "Epoch 4/20\n",
            "9/9 [==============================] - 1s 131ms/step - loss: 1.4726 - accuracy: 0.5480 - val_loss: 1.3117 - val_accuracy: 0.5934\n",
            "Epoch 5/20\n",
            "9/9 [==============================] - 1s 132ms/step - loss: 1.2874 - accuracy: 0.5891 - val_loss: 1.3081 - val_accuracy: 0.6484\n",
            "Epoch 6/20\n",
            "9/9 [==============================] - 1s 129ms/step - loss: 1.2770 - accuracy: 0.5907 - val_loss: 1.2250 - val_accuracy: 0.6484\n",
            "Epoch 7/20\n",
            "9/9 [==============================] - 1s 128ms/step - loss: 1.2054 - accuracy: 0.5904 - val_loss: 1.2244 - val_accuracy: 0.6374\n",
            "Epoch 8/20\n",
            "9/9 [==============================] - 1s 130ms/step - loss: 1.1862 - accuracy: 0.6428 - val_loss: 1.2229 - val_accuracy: 0.6484\n",
            "Epoch 9/20\n",
            "9/9 [==============================] - 1s 130ms/step - loss: 1.1033 - accuracy: 0.6171 - val_loss: 1.1929 - val_accuracy: 0.6593\n",
            "Epoch 10/20\n",
            "9/9 [==============================] - 1s 130ms/step - loss: 1.0699 - accuracy: 0.6392 - val_loss: 1.1875 - val_accuracy: 0.6593\n",
            "Epoch 11/20\n",
            "9/9 [==============================] - 1s 132ms/step - loss: 1.1800 - accuracy: 0.5929 - val_loss: 1.1717 - val_accuracy: 0.6813\n",
            "Epoch 12/20\n",
            "9/9 [==============================] - 1s 129ms/step - loss: 1.0049 - accuracy: 0.6737 - val_loss: 1.1595 - val_accuracy: 0.6923\n",
            "Epoch 13/20\n",
            "9/9 [==============================] - 1s 132ms/step - loss: 1.0254 - accuracy: 0.6325 - val_loss: 1.0950 - val_accuracy: 0.6923\n",
            "Epoch 14/20\n",
            "9/9 [==============================] - 1s 133ms/step - loss: 1.0176 - accuracy: 0.6566 - val_loss: 1.1573 - val_accuracy: 0.6923\n",
            "Epoch 15/20\n",
            "9/9 [==============================] - 1s 128ms/step - loss: 1.0696 - accuracy: 0.6644 - val_loss: 1.1422 - val_accuracy: 0.6813\n",
            "Epoch 16/20\n",
            "9/9 [==============================] - 1s 133ms/step - loss: 1.0409 - accuracy: 0.6839 - val_loss: 1.1090 - val_accuracy: 0.6923\n",
            "Epoch 17/20\n",
            "9/9 [==============================] - 1s 132ms/step - loss: 0.9523 - accuracy: 0.6824 - val_loss: 1.0431 - val_accuracy: 0.7143\n",
            "Epoch 18/20\n",
            "9/9 [==============================] - 1s 131ms/step - loss: 0.9609 - accuracy: 0.6560 - val_loss: 1.0733 - val_accuracy: 0.7033\n",
            "Epoch 19/20\n",
            "9/9 [==============================] - 1s 131ms/step - loss: 0.9855 - accuracy: 0.6812 - val_loss: 1.0114 - val_accuracy: 0.7033\n",
            "Epoch 20/20\n",
            "9/9 [==============================] - 1s 132ms/step - loss: 0.8872 - accuracy: 0.7357 - val_loss: 1.0357 - val_accuracy: 0.7033\n"
          ],
          "name": "stdout"
        }
      ]
    },
    {
      "cell_type": "code",
      "metadata": {
        "colab": {
          "base_uri": "https://localhost:8080/",
          "height": 295
        },
        "id": "302WM-Y7-wyH",
        "outputId": "79a8aa94-0aa6-4c25-bb02-a5dfcd852e98"
      },
      "source": [
        "loss_train = history.history['loss']\n",
        "loss_val = history.history['val_loss']\n",
        "epochs = range(1,21)\n",
        "plt.plot(epochs, loss_train, 'g', label='Training loss')\n",
        "plt.plot(epochs, loss_val, 'b', label='validation loss')\n",
        "plt.title('Training and Validation loss')\n",
        "plt.xlabel('Epochs')\n",
        "plt.ylabel('Loss')\n",
        "plt.legend()\n",
        "plt.show()"
      ],
      "execution_count": null,
      "outputs": [
        {
          "output_type": "display_data",
          "data": {
            "image/png": "[encoded data removed]",
            "text/plain": [
              "<Figure size 432x288 with 1 Axes>"
            ]
          },
          "metadata": {
            "tags": [],
            "needs_background": "light"
          }
        }
      ]
    },
    {
      "cell_type": "code",
      "metadata": {
        "colab": {
          "base_uri": "https://localhost:8080/",
          "height": 295
        },
        "id": "6fAhmcB5-7Zn",
        "outputId": "b4706f5f-6c14-411f-a13a-d308f63add40"
      },
      "source": [
        "loss_train = history.history['accuracy']\n",
        "loss_val = history.history['val_accuracy']\n",
        "epochs = range(1,21)\n",
        "plt.plot(epochs, loss_train, 'g', label='Training accuracy')\n",
        "plt.plot(epochs, loss_val, 'b', label='validation accuracy')\n",
        "plt.title('Training and Validation accuracy')\n",
        "plt.xlabel('Epochs')\n",
        "plt.ylabel('Accuracy')\n",
        "plt.legend()\n",
        "plt.show()"
      ],
      "execution_count": null,
      "outputs": [
        {
          "output_type": "display_data",
          "data": {
            "image/png": "[encoded data removed]",
            "text/plain": [
              "<Figure size 432x288 with 1 Axes>"
            ]
          },
          "metadata": {
            "tags": [],
            "needs_background": "light"
          }
        }
      ]
    },
    {
      "cell_type": "code",
      "metadata": {
        "id": "QB2-WcZ---VH"
      },
      "source": [
        "pred = model3.predict_classes(X_test)"
      ],
      "execution_count": null,
      "outputs": []
    },
    {
      "cell_type": "code",
      "metadata": {
        "colab": {
          "base_uri": "https://localhost:8080/"
        },
        "id": "0bYBpCeX_N-W",
        "outputId": "3e44df3f-5275-4f93-d10c-6dc3b9bc1b49"
      },
      "source": [
        "print(pred)"
      ],
      "execution_count": null,
      "outputs": [
        {
          "output_type": "stream",
          "text": [
            "[0 2 5 0 5 0 0 6 2 2 0 0 0 5 0 0 6 0 0 0 6 0 2 0 2 2 1 0 3 5 5 1 5 6 0 0 0\n",
            " 0 0 0 0 0 0 0 6 5 0 0 0 0 0 0 0 3 0 0 0 0 0 0 6 0 0 0 5 0 0 0 5 0 2 0 0 0\n",
            " 6 2 0 6 5 0 0 3 0 0 0 0 0 5 0 0 0]\n"
          ],
          "name": "stdout"
        }
      ]
    },
    {
      "cell_type": "code",
      "metadata": {
        "colab": {
          "base_uri": "https://localhost:8080/"
        },
        "id": "HsxC18yQ_QYX",
        "outputId": "b11501dd-e389-40fd-cf04-e3845e6acf18"
      },
      "source": [
        "acc_score = f1_score(y_test, pred,average='micro')\n",
        "print(acc_score*100)"
      ],
      "execution_count": null,
      "outputs": [
        {
          "output_type": "stream",
          "text": [
            "63.73626373626373\n"
          ],
          "name": "stdout"
        }
      ]
    }
  ]
}